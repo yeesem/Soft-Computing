{
  "nbformat": 4,
  "nbformat_minor": 0,
  "metadata": {
    "colab": {
      "provenance": [],
      "authorship_tag": "ABX9TyNsW63uC7B24miLGp2NlQwh",
      "include_colab_link": true
    },
    "kernelspec": {
      "name": "python3",
      "display_name": "Python 3"
    },
    "language_info": {
      "name": "python"
    }
  },
  "cells": [
    {
      "cell_type": "markdown",
      "metadata": {
        "id": "view-in-github",
        "colab_type": "text"
      },
      "source": [
        "<a href=\"https://colab.research.google.com/github/yeesem/Soft-Computing/blob/main/Assignment_3_Evolutionary_Computing.ipynb\" target=\"_parent\"><img src=\"https://colab.research.google.com/assets/colab-badge.svg\" alt=\"Open In Colab\"/></a>"
      ]
    },
    {
      "cell_type": "markdown",
      "source": [
        "# Imports"
      ],
      "metadata": {
        "id": "Ugx4LIdldY31"
      }
    },
    {
      "cell_type": "code",
      "execution_count": 1,
      "metadata": {
        "colab": {
          "base_uri": "https://localhost:8080/"
        },
        "id": "lhBMIXXqaUvV",
        "outputId": "5efd16bd-ed9b-431c-f510-9953652524be"
      },
      "outputs": [
        {
          "output_type": "stream",
          "name": "stdout",
          "text": [
            "Collecting ucimlrepo\n",
            "  Downloading ucimlrepo-0.0.7-py3-none-any.whl (8.0 kB)\n",
            "Requirement already satisfied: pandas>=1.0.0 in /usr/local/lib/python3.10/dist-packages (from ucimlrepo) (2.0.3)\n",
            "Requirement already satisfied: certifi>=2020.12.5 in /usr/local/lib/python3.10/dist-packages (from ucimlrepo) (2024.2.2)\n",
            "Requirement already satisfied: python-dateutil>=2.8.2 in /usr/local/lib/python3.10/dist-packages (from pandas>=1.0.0->ucimlrepo) (2.8.2)\n",
            "Requirement already satisfied: pytz>=2020.1 in /usr/local/lib/python3.10/dist-packages (from pandas>=1.0.0->ucimlrepo) (2023.4)\n",
            "Requirement already satisfied: tzdata>=2022.1 in /usr/local/lib/python3.10/dist-packages (from pandas>=1.0.0->ucimlrepo) (2024.1)\n",
            "Requirement already satisfied: numpy>=1.21.0 in /usr/local/lib/python3.10/dist-packages (from pandas>=1.0.0->ucimlrepo) (1.25.2)\n",
            "Requirement already satisfied: six>=1.5 in /usr/local/lib/python3.10/dist-packages (from python-dateutil>=2.8.2->pandas>=1.0.0->ucimlrepo) (1.16.0)\n",
            "Installing collected packages: ucimlrepo\n",
            "Successfully installed ucimlrepo-0.0.7\n"
          ]
        }
      ],
      "source": [
        "pip install ucimlrepo"
      ]
    },
    {
      "cell_type": "code",
      "source": [
        "import numpy as np\n",
        "import pandas as pd"
      ],
      "metadata": {
        "id": "9rH2Bje1ddgU"
      },
      "execution_count": 5,
      "outputs": []
    },
    {
      "cell_type": "code",
      "source": [
        "from ucimlrepo import fetch_ucirepo\n",
        "\n",
        "# fetch dataset\n",
        "taiwanese_bankruptcy_prediction = fetch_ucirepo(id=572)\n",
        "\n",
        "# data (as pandas dataframes)\n",
        "X = taiwanese_bankruptcy_prediction.data.features\n",
        "y = taiwanese_bankruptcy_prediction.data.targets"
      ],
      "metadata": {
        "id": "09kpEZx-cyKy"
      },
      "execution_count": 6,
      "outputs": []
    },
    {
      "cell_type": "markdown",
      "source": [
        "# Dataset Cleaning and Preprocessing"
      ],
      "metadata": {
        "id": "Bkcf3HMNdiAx"
      }
    },
    {
      "cell_type": "code",
      "source": [
        "features = X.copy()\n",
        "\n",
        "# Check for null values\n",
        "print(\"Columns with null value\")\n",
        "print(\"-----------------------------------\")\n",
        "print(\"{:15} {:15}\".format(\"Column\",\"Num of null values\"))\n",
        "for col in features.columns:\n",
        "  number_of_null_values = features[col].isna().sum()\n",
        "  if number_of_null_values > 0:\n",
        "    print(col)\n",
        "    print(\"{:-15} {:-15}\".format(col,number_of_null_values))"
      ],
      "metadata": {
        "colab": {
          "base_uri": "https://localhost:8080/"
        },
        "id": "e86N41B7c0pY",
        "outputId": "c320eeb4-62d4-4554-919c-179e6d3bddb4"
      },
      "execution_count": 19,
      "outputs": [
        {
          "output_type": "stream",
          "name": "stdout",
          "text": [
            "Columns with null value\n",
            "-----------------------------------\n",
            "Column          Num of null values\n"
          ]
        }
      ]
    },
    {
      "cell_type": "code",
      "source": [
        "# Check for col with object dtype\n",
        "features.select_dtypes('object').columns"
      ],
      "metadata": {
        "colab": {
          "base_uri": "https://localhost:8080/"
        },
        "id": "RYkbVaWEd2Oh",
        "outputId": "6961a38e-5360-4221-eb56-da41a0bfbde7"
      },
      "execution_count": 28,
      "outputs": [
        {
          "output_type": "execute_result",
          "data": {
            "text/plain": [
              "Index([], dtype='object')"
            ]
          },
          "metadata": {},
          "execution_count": 28
        }
      ]
    },
    {
      "cell_type": "code",
      "source": [
        "features.select_dtypes('int').columns"
      ],
      "metadata": {
        "colab": {
          "base_uri": "https://localhost:8080/"
        },
        "id": "92f8RStXhqLb",
        "outputId": "e504587d-045a-43e3-c8fb-9feb4bb21abf"
      },
      "execution_count": 29,
      "outputs": [
        {
          "output_type": "execute_result",
          "data": {
            "text/plain": [
              "Index([' Liability-Assets Flag', ' Net Income Flag'], dtype='object')"
            ]
          },
          "metadata": {},
          "execution_count": 29
        }
      ]
    },
    {
      "cell_type": "code",
      "source": [
        "print(\"Unique value of Liability-Assets Flag : \", features[' Liability-Assets Flag'].unique())\n",
        "print(\"Unique value of Net Income Flag : \", features[' Net Income Flag'].unique())"
      ],
      "metadata": {
        "colab": {
          "base_uri": "https://localhost:8080/"
        },
        "id": "ikQlAkFJhsc6",
        "outputId": "3b5611a6-1c08-49eb-d75d-c5d7300d949a"
      },
      "execution_count": 39,
      "outputs": [
        {
          "output_type": "stream",
          "name": "stdout",
          "text": [
            "Unique value of Liability-Assets Flag :  [0 1]\n",
            "Unique value of Net Income Flag :  [1]\n"
          ]
        }
      ]
    },
    {
      "cell_type": "code",
      "source": [
        "print(\"Number of Liability-Assets Flag == 0 : \",len(features[features[' Liability-Assets Flag'] == 0]))\n",
        "print(\"Number of Liability-Assets Flag == 1 : \",len(features[features[' Liability-Assets Flag'] == 1]))"
      ],
      "metadata": {
        "colab": {
          "base_uri": "https://localhost:8080/"
        },
        "id": "TPJbjJUxh_WN",
        "outputId": "5da3dd91-8f36-46db-ba7b-03426e5ab79c"
      },
      "execution_count": 38,
      "outputs": [
        {
          "output_type": "stream",
          "name": "stdout",
          "text": [
            "Number of Liability-Assets Flag == 0 :  6811\n",
            "Number of Liability-Assets Flag == 1 :  8\n"
          ]
        }
      ]
    },
    {
      "cell_type": "code",
      "source": [
        "features.drop(columns = features.select_dtypes('int').columns,inplace = True)"
      ],
      "metadata": {
        "id": "Hr3e8Gi2isLz"
      },
      "execution_count": 40,
      "outputs": []
    },
    {
      "cell_type": "markdown",
      "source": [
        "# Fuzzy Logic Design"
      ],
      "metadata": {
        "id": "yqydQQWAfdFq"
      }
    },
    {
      "cell_type": "code",
      "source": [],
      "metadata": {
        "id": "olq3-EgrgqaM"
      },
      "execution_count": null,
      "outputs": []
    }
  ]
}