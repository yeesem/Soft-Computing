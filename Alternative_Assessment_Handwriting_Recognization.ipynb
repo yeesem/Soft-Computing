{
  "cells": [
    {
      "cell_type": "markdown",
      "metadata": {
        "id": "view-in-github",
        "colab_type": "text"
      },
      "source": [
        "<a href=\"https://colab.research.google.com/github/yeesem/Soft-Computing/blob/main/Alternative_Assessment_Handwriting_Recognization.ipynb\" target=\"_parent\"><img src=\"https://colab.research.google.com/assets/colab-badge.svg\" alt=\"Open In Colab\"/></a>"
      ]
    },
    {
      "cell_type": "markdown",
      "metadata": {
        "id": "URQvYOGOa6xl"
      },
      "source": [
        "# Imports"
      ]
    },
    {
      "cell_type": "code",
      "execution_count": 1,
      "metadata": {
        "id": "1lCucsl-e2GU"
      },
      "outputs": [],
      "source": [
        "import numpy as np\n",
        "import pandas as pd\n",
        "from PIL import Image, ImageOps\n",
        "import matplotlib.pyplot as plt\n",
        "import os\n",
        "import tensorflow as tf\n",
        "from tqdm import tqdm\n",
        "from tensorflow.keras.utils import plot_model"
      ]
    },
    {
      "cell_type": "markdown",
      "metadata": {
        "id": "NR5vf5SQW2_G"
      },
      "source": [
        "# Distributed Training"
      ]
    },
    {
      "cell_type": "code",
      "execution_count": 2,
      "metadata": {
        "colab": {
          "base_uri": "https://localhost:8080/"
        },
        "id": "2bSzNgzPXHTJ",
        "outputId": "3c9d27e5-0a25-46a9-d583-48986a8608fd"
      },
      "outputs": [
        {
          "output_type": "stream",
          "name": "stdout",
          "text": [
            "Running on single CPU \n",
            "Number of accelerators  1\n"
          ]
        }
      ],
      "source": [
        "# Detect hardware\n",
        "try:\n",
        "  # TPU Detector\n",
        "  tpu = tf.distribute.cluster_resolver.TPUClusterResolver()\n",
        "except ValueError:\n",
        "  tpu = None\n",
        "  gpus = tf.config.experimental.list_logical_devices(\"GPU\")\n",
        "\n",
        "# Select appropriate distribution strategy\n",
        "if tpu:\n",
        "  tf.config.experimental_connect_to_cluster(tpu)\n",
        "  tf.tpu.experimental.initialize_tpu_system(tpu)\n",
        "  strategy = tf.distribute.experimental.TPUStrategy(tpu)\n",
        "  print(\"Running on TPU \")\n",
        "elif len(gpus) > 1:\n",
        "  strategy = tf.distribute.MirroredStrategy([gpu.name for gpu in gpus])\n",
        "  print(\"Running on multiple GPUs \",[gpu.name for gpu in gpus])\n",
        "elif len(gpus) == 1:\n",
        "  # strategy for single-machine execution\n",
        "  strategy = tf.distribute.get_strategy()\n",
        "  print(\"Running on single GPU \",gpus[0].name)\n",
        "else:\n",
        "  # strategy for single-machine execution\n",
        "  strategy = tf.distribute.get_strategy()\n",
        "  print(\"Running on single CPU \")\n",
        "\n",
        "print(\"Number of accelerators \",strategy.num_replicas_in_sync)"
      ]
    },
    {
      "cell_type": "markdown",
      "metadata": {
        "id": "Seyh-XQRmJPY"
      },
      "source": [
        "# Dataset Loading and Preprocessing"
      ]
    },
    {
      "cell_type": "code",
      "execution_count": 3,
      "metadata": {
        "colab": {
          "base_uri": "https://localhost:8080/"
        },
        "id": "v9tvesmZeg-C",
        "outputId": "ea3d16d3-d4ef-4165-9d9a-e0835e068854"
      },
      "outputs": [
        {
          "output_type": "stream",
          "name": "stdout",
          "text": [
            "Cloning into 'WIX3001-Alt-Ass'...\n",
            "remote: Enumerating objects: 12, done.\u001b[K\n",
            "remote: Counting objects: 100% (12/12), done.\u001b[K\n",
            "remote: Compressing objects: 100% (11/11), done.\u001b[K\n",
            "remote: Total 12 (delta 0), reused 0 (delta 0), pack-reused 0\u001b[K\n",
            "Receiving objects: 100% (12/12), 253.09 KiB | 6.33 MiB/s, done.\n"
          ]
        }
      ],
      "source": [
        "!git clone https://github.com/Walmond3/WIX3001-Alt-Ass"
      ]
    },
    {
      "cell_type": "markdown",
      "metadata": {
        "id": "_msaK4iIbDhd"
      },
      "source": [
        "**Image Cropping**"
      ]
    },
    {
      "cell_type": "code",
      "execution_count": 4,
      "metadata": {
        "colab": {
          "base_uri": "https://localhost:8080/"
        },
        "id": "HMyPzOiXfMGX",
        "outputId": "9489560c-4eb4-4bbf-8820-cb352c17c3f5"
      },
      "outputs": [
        {
          "output_type": "stream",
          "name": "stdout",
          "text": [
            "All crops for Jin Khye saved!\n",
            "All crops for Hui Yi saved!\n",
            "All crops for Yan Hao saved!\n",
            "All crops for Yan Ho saved!\n",
            "All crops for Yee Sem saved!\n"
          ]
        }
      ],
      "source": [
        "def crop_image_into_pieces(image_path, output_folder, rows, columns, owner):\n",
        "    # Open the image\n",
        "    image = Image.open(image_path)\n",
        "\n",
        "    # Convert image to RGB mode (remove alpha channel)\n",
        "    image = image.convert(\"RGB\")\n",
        "\n",
        "    # Get the dimensions of the original image\n",
        "    original_width, original_height = image.size\n",
        "\n",
        "    # Calculate the width and height of each piece\n",
        "    piece_width = original_width // columns\n",
        "    piece_height = original_height // rows\n",
        "\n",
        "    # Initialize a list to store data for each cropped image\n",
        "    cropped_images_data = []\n",
        "\n",
        "    # Iterate through each row and column\n",
        "    for row in range(rows):\n",
        "        for col in range(columns):\n",
        "            # Calculate the coordinates for cropping\n",
        "            left = col * piece_width\n",
        "            upper = row * piece_height\n",
        "            right = left + piece_width\n",
        "            lower = upper + piece_height\n",
        "\n",
        "            # Crop the image\n",
        "            cropped_img = image.crop((left, upper, right, lower))\n",
        "\n",
        "            # Invert the colors\n",
        "            inverted_img = ImageOps.invert(cropped_img)\n",
        "\n",
        "            # Create output subfolder if it doesn't exist\n",
        "            os.makedirs(output_folder, exist_ok=True)\n",
        "\n",
        "            # Save the cropped image\n",
        "            output_filename = f\"{owner}_crop_{row}_{col}.jpg\"\n",
        "            output_filepath = os.path.join(output_folder, output_filename)\n",
        "            inverted_img.save(output_filepath)\n",
        "\n",
        "            # Append data to the list for DataFrame\n",
        "            cropped_images_data.append({\n",
        "                \"Filename\": output_filename,\n",
        "                \"Filepath\": output_filepath,\n",
        "                \"Owner\": owner\n",
        "            })\n",
        "            # print(f\"Saved {output_filename}\")\n",
        "\n",
        "    print(f\"All crops for {owner} saved!\")\n",
        "\n",
        "    return cropped_images_data\n",
        "\n",
        "# Directory where the images are stored\n",
        "images_directory = \"/content/WIX3001-Alt-Ass/Handwriting\"\n",
        "\n",
        "# Output folder to save cropped images within Colab\n",
        "output_folder = \"/content/output_crops\"\n",
        "\n",
        "# Number of rows and columns in the grid\n",
        "rows = 12\n",
        "columns = 12\n",
        "\n",
        "# Check if the images directory exists\n",
        "if not os.path.exists(images_directory):\n",
        "    print(f\"Error: {images_directory} does not exist.\")\n",
        "    exit()\n",
        "\n",
        "# List all files in the images directory\n",
        "image_files = os.listdir(images_directory)\n",
        "\n",
        "# Check if there are any image files\n",
        "if not image_files:\n",
        "    print(f\"No image files found in {images_directory}.\")\n",
        "    exit()\n",
        "\n",
        "# Initialize a list to store all cropped images data\n",
        "all_cropped_images_data = []\n",
        "\n",
        "# Iterate through each image file\n",
        "for image_file in image_files:\n",
        "    image_path = os.path.join(images_directory, image_file)\n",
        "    owner, _ = os.path.splitext(image_file)  # Get owner from filename without extension\n",
        "    cropped_images_data = crop_image_into_pieces(image_path, output_folder, rows, columns, owner)\n",
        "\n",
        "    # Testing\n",
        "    all_cropped_images_data.extend(cropped_images_data)"
      ]
    },
    {
      "cell_type": "markdown",
      "metadata": {
        "id": "tMAeemtrbJjE"
      },
      "source": [
        "**Store data in DataFrame**"
      ]
    },
    {
      "cell_type": "code",
      "execution_count": 5,
      "metadata": {
        "colab": {
          "base_uri": "https://localhost:8080/",
          "height": 206
        },
        "id": "uleyrv5bfkNr",
        "outputId": "6552bad4-6651-4007-fd8b-a62612825b12"
      },
      "outputs": [
        {
          "output_type": "execute_result",
          "data": {
            "text/plain": [
              "                Filename                                     Filepath  \\\n",
              "0  Jin Khye_crop_0_0.jpg  /content/output_crops/Jin Khye_crop_0_0.jpg   \n",
              "1  Jin Khye_crop_0_1.jpg  /content/output_crops/Jin Khye_crop_0_1.jpg   \n",
              "2  Jin Khye_crop_0_2.jpg  /content/output_crops/Jin Khye_crop_0_2.jpg   \n",
              "3  Jin Khye_crop_0_3.jpg  /content/output_crops/Jin Khye_crop_0_3.jpg   \n",
              "4  Jin Khye_crop_0_4.jpg  /content/output_crops/Jin Khye_crop_0_4.jpg   \n",
              "\n",
              "      Owner  \n",
              "0  Jin Khye  \n",
              "1  Jin Khye  \n",
              "2  Jin Khye  \n",
              "3  Jin Khye  \n",
              "4  Jin Khye  "
            ],
            "text/html": [
              "\n",
              "  <div id=\"df-dea1bd38-7268-41a9-8bf9-d4dc9b23e8e9\" class=\"colab-df-container\">\n",
              "    <div>\n",
              "<style scoped>\n",
              "    .dataframe tbody tr th:only-of-type {\n",
              "        vertical-align: middle;\n",
              "    }\n",
              "\n",
              "    .dataframe tbody tr th {\n",
              "        vertical-align: top;\n",
              "    }\n",
              "\n",
              "    .dataframe thead th {\n",
              "        text-align: right;\n",
              "    }\n",
              "</style>\n",
              "<table border=\"1\" class=\"dataframe\">\n",
              "  <thead>\n",
              "    <tr style=\"text-align: right;\">\n",
              "      <th></th>\n",
              "      <th>Filename</th>\n",
              "      <th>Filepath</th>\n",
              "      <th>Owner</th>\n",
              "    </tr>\n",
              "  </thead>\n",
              "  <tbody>\n",
              "    <tr>\n",
              "      <th>0</th>\n",
              "      <td>Jin Khye_crop_0_0.jpg</td>\n",
              "      <td>/content/output_crops/Jin Khye_crop_0_0.jpg</td>\n",
              "      <td>Jin Khye</td>\n",
              "    </tr>\n",
              "    <tr>\n",
              "      <th>1</th>\n",
              "      <td>Jin Khye_crop_0_1.jpg</td>\n",
              "      <td>/content/output_crops/Jin Khye_crop_0_1.jpg</td>\n",
              "      <td>Jin Khye</td>\n",
              "    </tr>\n",
              "    <tr>\n",
              "      <th>2</th>\n",
              "      <td>Jin Khye_crop_0_2.jpg</td>\n",
              "      <td>/content/output_crops/Jin Khye_crop_0_2.jpg</td>\n",
              "      <td>Jin Khye</td>\n",
              "    </tr>\n",
              "    <tr>\n",
              "      <th>3</th>\n",
              "      <td>Jin Khye_crop_0_3.jpg</td>\n",
              "      <td>/content/output_crops/Jin Khye_crop_0_3.jpg</td>\n",
              "      <td>Jin Khye</td>\n",
              "    </tr>\n",
              "    <tr>\n",
              "      <th>4</th>\n",
              "      <td>Jin Khye_crop_0_4.jpg</td>\n",
              "      <td>/content/output_crops/Jin Khye_crop_0_4.jpg</td>\n",
              "      <td>Jin Khye</td>\n",
              "    </tr>\n",
              "  </tbody>\n",
              "</table>\n",
              "</div>\n",
              "    <div class=\"colab-df-buttons\">\n",
              "\n",
              "  <div class=\"colab-df-container\">\n",
              "    <button class=\"colab-df-convert\" onclick=\"convertToInteractive('df-dea1bd38-7268-41a9-8bf9-d4dc9b23e8e9')\"\n",
              "            title=\"Convert this dataframe to an interactive table.\"\n",
              "            style=\"display:none;\">\n",
              "\n",
              "  <svg xmlns=\"http://www.w3.org/2000/svg\" height=\"24px\" viewBox=\"0 -960 960 960\">\n",
              "    <path d=\"M120-120v-720h720v720H120Zm60-500h600v-160H180v160Zm220 220h160v-160H400v160Zm0 220h160v-160H400v160ZM180-400h160v-160H180v160Zm440 0h160v-160H620v160ZM180-180h160v-160H180v160Zm440 0h160v-160H620v160Z\"/>\n",
              "  </svg>\n",
              "    </button>\n",
              "\n",
              "  <style>\n",
              "    .colab-df-container {\n",
              "      display:flex;\n",
              "      gap: 12px;\n",
              "    }\n",
              "\n",
              "    .colab-df-convert {\n",
              "      background-color: #E8F0FE;\n",
              "      border: none;\n",
              "      border-radius: 50%;\n",
              "      cursor: pointer;\n",
              "      display: none;\n",
              "      fill: #1967D2;\n",
              "      height: 32px;\n",
              "      padding: 0 0 0 0;\n",
              "      width: 32px;\n",
              "    }\n",
              "\n",
              "    .colab-df-convert:hover {\n",
              "      background-color: #E2EBFA;\n",
              "      box-shadow: 0px 1px 2px rgba(60, 64, 67, 0.3), 0px 1px 3px 1px rgba(60, 64, 67, 0.15);\n",
              "      fill: #174EA6;\n",
              "    }\n",
              "\n",
              "    .colab-df-buttons div {\n",
              "      margin-bottom: 4px;\n",
              "    }\n",
              "\n",
              "    [theme=dark] .colab-df-convert {\n",
              "      background-color: #3B4455;\n",
              "      fill: #D2E3FC;\n",
              "    }\n",
              "\n",
              "    [theme=dark] .colab-df-convert:hover {\n",
              "      background-color: #434B5C;\n",
              "      box-shadow: 0px 1px 3px 1px rgba(0, 0, 0, 0.15);\n",
              "      filter: drop-shadow(0px 1px 2px rgba(0, 0, 0, 0.3));\n",
              "      fill: #FFFFFF;\n",
              "    }\n",
              "  </style>\n",
              "\n",
              "    <script>\n",
              "      const buttonEl =\n",
              "        document.querySelector('#df-dea1bd38-7268-41a9-8bf9-d4dc9b23e8e9 button.colab-df-convert');\n",
              "      buttonEl.style.display =\n",
              "        google.colab.kernel.accessAllowed ? 'block' : 'none';\n",
              "\n",
              "      async function convertToInteractive(key) {\n",
              "        const element = document.querySelector('#df-dea1bd38-7268-41a9-8bf9-d4dc9b23e8e9');\n",
              "        const dataTable =\n",
              "          await google.colab.kernel.invokeFunction('convertToInteractive',\n",
              "                                                    [key], {});\n",
              "        if (!dataTable) return;\n",
              "\n",
              "        const docLinkHtml = 'Like what you see? Visit the ' +\n",
              "          '<a target=\"_blank\" href=https://colab.research.google.com/notebooks/data_table.ipynb>data table notebook</a>'\n",
              "          + ' to learn more about interactive tables.';\n",
              "        element.innerHTML = '';\n",
              "        dataTable['output_type'] = 'display_data';\n",
              "        await google.colab.output.renderOutput(dataTable, element);\n",
              "        const docLink = document.createElement('div');\n",
              "        docLink.innerHTML = docLinkHtml;\n",
              "        element.appendChild(docLink);\n",
              "      }\n",
              "    </script>\n",
              "  </div>\n",
              "\n",
              "\n",
              "<div id=\"df-80eaa812-1f9c-45a4-9418-5eca2de8e0bd\">\n",
              "  <button class=\"colab-df-quickchart\" onclick=\"quickchart('df-80eaa812-1f9c-45a4-9418-5eca2de8e0bd')\"\n",
              "            title=\"Suggest charts\"\n",
              "            style=\"display:none;\">\n",
              "\n",
              "<svg xmlns=\"http://www.w3.org/2000/svg\" height=\"24px\"viewBox=\"0 0 24 24\"\n",
              "     width=\"24px\">\n",
              "    <g>\n",
              "        <path d=\"M19 3H5c-1.1 0-2 .9-2 2v14c0 1.1.9 2 2 2h14c1.1 0 2-.9 2-2V5c0-1.1-.9-2-2-2zM9 17H7v-7h2v7zm4 0h-2V7h2v10zm4 0h-2v-4h2v4z\"/>\n",
              "    </g>\n",
              "</svg>\n",
              "  </button>\n",
              "\n",
              "<style>\n",
              "  .colab-df-quickchart {\n",
              "      --bg-color: #E8F0FE;\n",
              "      --fill-color: #1967D2;\n",
              "      --hover-bg-color: #E2EBFA;\n",
              "      --hover-fill-color: #174EA6;\n",
              "      --disabled-fill-color: #AAA;\n",
              "      --disabled-bg-color: #DDD;\n",
              "  }\n",
              "\n",
              "  [theme=dark] .colab-df-quickchart {\n",
              "      --bg-color: #3B4455;\n",
              "      --fill-color: #D2E3FC;\n",
              "      --hover-bg-color: #434B5C;\n",
              "      --hover-fill-color: #FFFFFF;\n",
              "      --disabled-bg-color: #3B4455;\n",
              "      --disabled-fill-color: #666;\n",
              "  }\n",
              "\n",
              "  .colab-df-quickchart {\n",
              "    background-color: var(--bg-color);\n",
              "    border: none;\n",
              "    border-radius: 50%;\n",
              "    cursor: pointer;\n",
              "    display: none;\n",
              "    fill: var(--fill-color);\n",
              "    height: 32px;\n",
              "    padding: 0;\n",
              "    width: 32px;\n",
              "  }\n",
              "\n",
              "  .colab-df-quickchart:hover {\n",
              "    background-color: var(--hover-bg-color);\n",
              "    box-shadow: 0 1px 2px rgba(60, 64, 67, 0.3), 0 1px 3px 1px rgba(60, 64, 67, 0.15);\n",
              "    fill: var(--button-hover-fill-color);\n",
              "  }\n",
              "\n",
              "  .colab-df-quickchart-complete:disabled,\n",
              "  .colab-df-quickchart-complete:disabled:hover {\n",
              "    background-color: var(--disabled-bg-color);\n",
              "    fill: var(--disabled-fill-color);\n",
              "    box-shadow: none;\n",
              "  }\n",
              "\n",
              "  .colab-df-spinner {\n",
              "    border: 2px solid var(--fill-color);\n",
              "    border-color: transparent;\n",
              "    border-bottom-color: var(--fill-color);\n",
              "    animation:\n",
              "      spin 1s steps(1) infinite;\n",
              "  }\n",
              "\n",
              "  @keyframes spin {\n",
              "    0% {\n",
              "      border-color: transparent;\n",
              "      border-bottom-color: var(--fill-color);\n",
              "      border-left-color: var(--fill-color);\n",
              "    }\n",
              "    20% {\n",
              "      border-color: transparent;\n",
              "      border-left-color: var(--fill-color);\n",
              "      border-top-color: var(--fill-color);\n",
              "    }\n",
              "    30% {\n",
              "      border-color: transparent;\n",
              "      border-left-color: var(--fill-color);\n",
              "      border-top-color: var(--fill-color);\n",
              "      border-right-color: var(--fill-color);\n",
              "    }\n",
              "    40% {\n",
              "      border-color: transparent;\n",
              "      border-right-color: var(--fill-color);\n",
              "      border-top-color: var(--fill-color);\n",
              "    }\n",
              "    60% {\n",
              "      border-color: transparent;\n",
              "      border-right-color: var(--fill-color);\n",
              "    }\n",
              "    80% {\n",
              "      border-color: transparent;\n",
              "      border-right-color: var(--fill-color);\n",
              "      border-bottom-color: var(--fill-color);\n",
              "    }\n",
              "    90% {\n",
              "      border-color: transparent;\n",
              "      border-bottom-color: var(--fill-color);\n",
              "    }\n",
              "  }\n",
              "</style>\n",
              "\n",
              "  <script>\n",
              "    async function quickchart(key) {\n",
              "      const quickchartButtonEl =\n",
              "        document.querySelector('#' + key + ' button');\n",
              "      quickchartButtonEl.disabled = true;  // To prevent multiple clicks.\n",
              "      quickchartButtonEl.classList.add('colab-df-spinner');\n",
              "      try {\n",
              "        const charts = await google.colab.kernel.invokeFunction(\n",
              "            'suggestCharts', [key], {});\n",
              "      } catch (error) {\n",
              "        console.error('Error during call to suggestCharts:', error);\n",
              "      }\n",
              "      quickchartButtonEl.classList.remove('colab-df-spinner');\n",
              "      quickchartButtonEl.classList.add('colab-df-quickchart-complete');\n",
              "    }\n",
              "    (() => {\n",
              "      let quickchartButtonEl =\n",
              "        document.querySelector('#df-80eaa812-1f9c-45a4-9418-5eca2de8e0bd button');\n",
              "      quickchartButtonEl.style.display =\n",
              "        google.colab.kernel.accessAllowed ? 'block' : 'none';\n",
              "    })();\n",
              "  </script>\n",
              "</div>\n",
              "\n",
              "    </div>\n",
              "  </div>\n"
            ],
            "application/vnd.google.colaboratory.intrinsic+json": {
              "type": "dataframe",
              "variable_name": "df",
              "summary": "{\n  \"name\": \"df\",\n  \"rows\": 720,\n  \"fields\": [\n    {\n      \"column\": \"Filename\",\n      \"properties\": {\n        \"dtype\": \"string\",\n        \"num_unique_values\": 720,\n        \"samples\": [\n          \"Yan Hao_crop_4_4.jpg\",\n          \"Yan Hao_crop_0_2.jpg\",\n          \"Jin Khye_crop_4_6.jpg\"\n        ],\n        \"semantic_type\": \"\",\n        \"description\": \"\"\n      }\n    },\n    {\n      \"column\": \"Filepath\",\n      \"properties\": {\n        \"dtype\": \"string\",\n        \"num_unique_values\": 720,\n        \"samples\": [\n          \"/content/output_crops/Yan Hao_crop_4_4.jpg\",\n          \"/content/output_crops/Yan Hao_crop_0_2.jpg\",\n          \"/content/output_crops/Jin Khye_crop_4_6.jpg\"\n        ],\n        \"semantic_type\": \"\",\n        \"description\": \"\"\n      }\n    },\n    {\n      \"column\": \"Owner\",\n      \"properties\": {\n        \"dtype\": \"category\",\n        \"num_unique_values\": 5,\n        \"samples\": [\n          \"Hui Yi\",\n          \"Yee Sem\",\n          \"Yan Hao\"\n        ],\n        \"semantic_type\": \"\",\n        \"description\": \"\"\n      }\n    }\n  ]\n}"
            }
          },
          "metadata": {},
          "execution_count": 5
        }
      ],
      "source": [
        "# Create a DataFrame from the list of cropped images data\n",
        "df = pd.DataFrame(all_cropped_images_data)\n",
        "df.head()"
      ]
    },
    {
      "cell_type": "markdown",
      "metadata": {
        "id": "fDe_u5IHbQXI"
      },
      "source": [
        "**Display Images**"
      ]
    },
    {
      "cell_type": "code",
      "execution_count": 6,
      "metadata": {
        "colab": {
          "base_uri": "https://localhost:8080/",
          "height": 207
        },
        "id": "VHaPDIUwffrr",
        "outputId": "4b1ff514-cd8e-47b4-c4e9-fae4d1f5b118"
      },
      "outputs": [
        {
          "output_type": "display_data",
          "data": {
            "text/plain": [
              "<Figure size 1200x200 with 24 Axes>"
            ],
            "image/png": "[encoded data removed]"
          },
          "metadata": {}
        }
      ],
      "source": [
        "def display_images(filepaths):\n",
        "    fig, axes = plt.subplots(len(filepaths) // columns, columns, figsize=(12, 2))\n",
        "    for i, filepath in enumerate(filepaths):\n",
        "        img = Image.open(filepath)\n",
        "        ax = axes[i // columns, i % columns]\n",
        "        ax.imshow(img)\n",
        "        ax.axis('off')\n",
        "    plt.tight_layout()\n",
        "    plt.show()\n",
        "\n",
        "\n",
        "# Display the images\n",
        "display_images(df['Filepath'][:24])"
      ]
    },
    {
      "cell_type": "markdown",
      "metadata": {
        "id": "J2jKDS97bUKk"
      },
      "source": [
        "**Dataset spliting**"
      ]
    },
    {
      "cell_type": "code",
      "execution_count": 7,
      "metadata": {
        "id": "0RDa4kVlmZEI"
      },
      "outputs": [],
      "source": [
        "from sklearn.model_selection import train_test_split\n",
        "\n",
        "\n",
        "train,test = train_test_split(df,test_size=0.1, random_state=42)"
      ]
    },
    {
      "cell_type": "code",
      "execution_count": 9,
      "metadata": {
        "id": "Zl57gEy8u1Mx"
      },
      "outputs": [],
      "source": [
        "# Load Images\n",
        "def load_and_preprocess_image(file_path):\n",
        "    # Read the image file as raw data\n",
        "    img = tf.io.read_file(file_path)\n",
        "    # Decode the raw data into a tensor\n",
        "    img = tf.image.decode_image(img, channels=3)\n",
        "    return img\n",
        "\n",
        "def format_image(image,label):\n",
        "  image = tf.reshape(image,[-1])\n",
        "  image = tf.cast(image, tf.float32)\n",
        "  image /= 255\n",
        "  return image, label\n",
        "\n",
        "label_mapping = {'Yan Ho' : 0,'Jin Khye' : 1,'Hui Yi' : 2,'Yee Sem' : 3,'Yan Hao' : 4}\n",
        "\n",
        "# Train dataset\n",
        "train_image_paths = train['Filepath'].tolist()\n",
        "train_label = np.array(train['Owner'].map(label_mapping))\n",
        "\n",
        "# Test dataset\n",
        "test_image_paths = test['Filepath'].tolist()\n",
        "test_label =  np.array(test['Owner'].map(label_mapping))\n",
        "\n",
        "# Load all images\n",
        "train_images = [load_and_preprocess_image(path) for path in train_image_paths]\n",
        "train_image_dataset = tf.data.Dataset.from_tensor_slices((train_images,train_label))\n",
        "\n",
        "test_images = [load_and_preprocess_image(path) for path in test_image_paths]\n",
        "test_image_dataset = tf.data.Dataset.from_tensor_slices((test_images,test_label))"
      ]
    },
    {
      "cell_type": "code",
      "execution_count": 10,
      "metadata": {
        "id": "hOd-HgP0zEHZ"
      },
      "outputs": [],
      "source": [
        "train_batch_size = 32\n",
        "test_batch_size = 8\n",
        "train_dataset = train_image_dataset.shuffle(buffer_size=len(train)).batch(train_batch_size)\n",
        "test_dataset = test_image_dataset.batch(test_batch_size)"
      ]
    },
    {
      "cell_type": "code",
      "execution_count": 11,
      "metadata": {
        "colab": {
          "base_uri": "https://localhost:8080/"
        },
        "id": "l8sVZ7BZsfIz",
        "outputId": "82d40f86-6be6-45b9-9941-3667dd39d451"
      },
      "outputs": [
        {
          "output_type": "execute_result",
          "data": {
            "text/plain": [
              "['Yan Ho', 'Yee Sem', 'Jin Khye', 'Yan Hao', 'Hui Yi']"
            ]
          },
          "metadata": {},
          "execution_count": 11
        }
      ],
      "source": [
        "class_names = list(df[\"Owner\"].unique())\n",
        "class_names"
      ]
    },
    {
      "cell_type": "markdown",
      "metadata": {
        "id": "sqLUPsNAkDpT"
      },
      "source": [
        "# Define the Model"
      ]
    },
    {
      "cell_type": "markdown",
      "metadata": {
        "id": "9RNsnBEpiMat"
      },
      "source": [
        "**Define Optimizers and Loss function**"
      ]
    },
    {
      "cell_type": "code",
      "execution_count": 12,
      "metadata": {
        "id": "XIOISbt9iTR5"
      },
      "outputs": [],
      "source": [
        "# Define Optimizer and Loss Function\n",
        "optimizer = tf.keras.optimizers.legacy.Adam()\n",
        "loss_object = tf.keras.losses.SparseCategoricalCrossentropy()\n",
        "\n",
        "# Define metrics\n",
        "train_acc_metrics = tf.keras.metrics.SparseCategoricalAccuracy()\n",
        "test_acc_metrics = tf.keras.metrics.SparseCategoricalAccuracy()"
      ]
    },
    {
      "cell_type": "markdown",
      "metadata": {
        "id": "qdkvZb1CjPa_"
      },
      "source": [
        "**Define gradient and training loop**"
      ]
    },
    {
      "cell_type": "code",
      "execution_count": 13,
      "metadata": {
        "id": "gipi4z6RjTyk"
      },
      "outputs": [],
      "source": [
        "def apply_gradient(model_1,optimizer,loss_object,x,y):\n",
        "  with tf.GradientTape() as tape:\n",
        "    pred = model_1(x)\n",
        "    loss_value = loss_object(y_true = y,y_pred = pred)\n",
        "\n",
        "  gradients = tape.gradient(loss_value,model_1.trainable_weights)\n",
        "  optimizer.apply_gradients(zip(gradients,model_1.trainable_weights))\n",
        "\n",
        "  return pred,loss_value"
      ]
    },
    {
      "cell_type": "code",
      "execution_count": 14,
      "metadata": {
        "id": "hGF_BrN1kldh"
      },
      "outputs": [],
      "source": [
        "def perform_validation(model_1,test_dataset):\n",
        "  losses = []\n",
        "  for x_val,y_val in test_dataset:\n",
        "    val_logits = model_1(x_val)\n",
        "    val_loss = loss_object(y_true = y_val,y_pred = val_logits)\n",
        "\n",
        "    losses.append(val_loss)\n",
        "    test_acc_metrics(y_val,val_logits)\n",
        "\n",
        "  return losses"
      ]
    },
    {
      "cell_type": "code",
      "execution_count": 15,
      "metadata": {
        "id": "XrkNuYrOlN_O"
      },
      "outputs": [],
      "source": [
        "def train_data_for_one_epoch(model_1,train_dataset):\n",
        "  losses = []\n",
        "\n",
        "  pbar = tqdm(total = len(list(enumerate(train_dataset))),position = 0, leave = True, bar_format = '{l_bar}{bar} | {n_fmt}/{total_fmt}')\n",
        "  for step,(x_batch_train,y_batch_train) in enumerate(train_dataset):\n",
        "    pred,loss_value = apply_gradient(model_1,optimizer,loss_object,x_batch_train,y_batch_train)\n",
        "    losses.append(loss_value)\n",
        "\n",
        "    train_acc_metrics(y_batch_train,pred)\n",
        "    pbar.set_description(\"Training loss for step %s: %.4f\" % (int(step),float(loss_value)))\n",
        "    pbar.update()\n",
        "\n",
        "\n",
        "  return losses"
      ]
    },
    {
      "cell_type": "markdown",
      "metadata": {
        "id": "rlYbJy1ccLs0"
      },
      "source": [
        "**Transfer Learning - InceptionV3**"
      ]
    },
    {
      "cell_type": "code",
      "execution_count": 16,
      "metadata": {
        "colab": {
          "base_uri": "https://localhost:8080/"
        },
        "id": "Ibiwap49kDKw",
        "outputId": "ca3c9b66-58c8-47fb-c210-b068a24e5d17"
      },
      "outputs": [
        {
          "output_type": "stream",
          "name": "stdout",
          "text": [
            "--2024-05-22 06:38:39--  https://storage.googleapis.com/mledu-datasets/inception_v3_weights_tf_dim_ordering_tf_kernels_notop.h5\n",
            "Resolving storage.googleapis.com (storage.googleapis.com)... 74.125.20.207, 74.125.197.207, 74.125.135.207, ...\n",
            "Connecting to storage.googleapis.com (storage.googleapis.com)|74.125.20.207|:443... connected.\n",
            "HTTP request sent, awaiting response... 200 OK\n",
            "Length: 87910968 (84M) [application/x-hdf]\n",
            "Saving to: ‘/tmp/inception_v3_weights_tf_dim_ordering_tf_kernels_notop.h5’\n",
            "\n",
            "/tmp/inception_v3_w 100%[===================>]  83.84M   150MB/s    in 0.6s    \n",
            "\n",
            "2024-05-22 06:38:40 (150 MB/s) - ‘/tmp/inception_v3_weights_tf_dim_ordering_tf_kernels_notop.h5’ saved [87910968/87910968]\n",
            "\n"
          ]
        }
      ],
      "source": [
        "# Download the pre-trained weights. No top means it excludes the fully connected layer it uses for classification.\n",
        "!wget --no-check-certificate \\\n",
        "    https://storage.googleapis.com/mledu-datasets/inception_v3_weights_tf_dim_ordering_tf_kernels_notop.h5 \\\n",
        "    -O /tmp/inception_v3_weights_tf_dim_ordering_tf_kernels_notop.h5"
      ]
    },
    {
      "cell_type": "code",
      "execution_count": 38,
      "metadata": {
        "id": "w7h17-y3fgGv"
      },
      "outputs": [],
      "source": [
        "from tensorflow.keras.applications.inception_v3 import InceptionV3\n",
        "from tensorflow.keras import optimizers\n",
        "from tensorflow.keras import Model\n",
        "from tensorflow.keras import layers\n",
        "\n",
        "\n",
        "def feature_extractor_inceptionV3(inputs):\n",
        "  # Set the weights file you downloaded into a variable\n",
        "  local_weights_file = \"/tmp/inception_v3_weights_tf_dim_ordering_tf_kernels_notop.h5\"\n",
        "\n",
        "  # Initialize the base model\n",
        "  # Set the input shape and remove the dense layer\n",
        "  feature_extractor = InceptionV3(input_shape = (300,300,3),\n",
        "                                  include_top = False,\n",
        "                                  weights = None)\n",
        "  # Load the pre-trained weights\n",
        "  feature_extractor.load_weights(local_weights_file)\n",
        "\n",
        "  # Freeze the weights of the layers\n",
        "  for layer in feature_extractor.layers:\n",
        "    layer.trainable = False\n",
        "\n",
        "  feature_extractor = feature_extractor(inputs)\n",
        "\n",
        "  return feature_extractor\n",
        "\n",
        "def classifier(inputs):\n",
        "  x = layers.GlobalAveragePooling2D()(inputs)\n",
        "  x = layers.Flatten()(x)\n",
        "  x = layers.Dropout(0.3)(x)\n",
        "  x = layers.Dense(1024,activation = 'relu')(x)\n",
        "  x = layers.Dropout(0.3)(x)\n",
        "  x = layers.Dense(512,activation = 'relu')(x)\n",
        "  x = layers.Dropout(0.3)(x)\n",
        "  x = layers.Dense(5,activation = 'softmax')(x)\n",
        "\n",
        "  return x\n",
        "\n",
        "def model_1():\n",
        "  inputs = layers.Input(shape = (30,30,3))\n",
        "  resize = layers.UpSampling2D(size = (10,10))(inputs)\n",
        "  inception = feature_extractor_inceptionV3(resize)\n",
        "  classification_output = classifier(inception)\n",
        "  model = Model(inputs = inputs,outputs = classification_output)\n",
        "\n",
        "  return model\n",
        "\n",
        "def train_model(model_1,train_dataset,test_dataset,epochs = 30):\n",
        "\n",
        "  epochs_test_losses,epochs_train_losses = [],[]\n",
        "  epochs_test_acc,epochs_train_acc = [],[]\n",
        "\n",
        "  for epoch in range(epochs):\n",
        "    print(\"Epoch : \",epoch+1)\n",
        "\n",
        "    losses_train = train_data_for_one_epoch(model_1,train_dataset)\n",
        "    train_acc = train_acc_metrics.result()\n",
        "\n",
        "    losses_test = perform_validation(model_1,test_dataset)\n",
        "    test_acc = test_acc_metrics.result()\n",
        "\n",
        "    losses_train_mean = np.mean(losses_train)\n",
        "    losses_test_mean = np.mean(losses_test)\n",
        "    epochs_train_losses.append(losses_train_mean)\n",
        "    epochs_test_losses.append(losses_test_mean)\n",
        "\n",
        "    epochs_train_acc.append(train_acc)\n",
        "    epochs_test_acc.append(test_acc)\n",
        "\n",
        "    print(\"Train loss : {:8.4f}, Validation loss : {:8.4f}, Train Accuracy : {:6.3f}, Test Accuracy : {:6.3f}\\n\".format(\n",
        "        float(losses_train_mean),float(losses_test_mean),float(train_acc),float(test_acc)\n",
        "    ))\n",
        "\n",
        "    train_acc_metrics.reset_states()\n",
        "    test_acc_metrics.reset_states()\n",
        "\n",
        "  history = {\n",
        "      'accuracy' : epochs_train_acc,\n",
        "      'test_accuracy' : epochs_test_acc,\n",
        "      'loss' : epochs_train_losses,\n",
        "      'test_loss' : epochs_test_losses\n",
        "  }\n",
        "\n",
        "  return history"
      ]
    },
    {
      "cell_type": "code",
      "source": [
        "model_1 = model_1()\n",
        "model_1.summary()\n",
        "plot_model(model_1,show_shapes=True, show_layer_names=True)"
      ],
      "metadata": {
        "colab": {
          "base_uri": "https://localhost:8080/",
          "height": 1000
        },
        "id": "UG-FkTd29ZuH",
        "outputId": "7b1cd3eb-7098-4451-c7d0-1b7062ee2589"
      },
      "execution_count": 39,
      "outputs": [
        {
          "output_type": "stream",
          "name": "stdout",
          "text": [
            "Model: \"model_6\"\n",
            "_________________________________________________________________\n",
            " Layer (type)                Output Shape              Param #   \n",
            "=================================================================\n",
            " input_13 (InputLayer)       [(None, 30, 30, 3)]       0         \n",
            "                                                                 \n",
            " up_sampling2d_6 (UpSamplin  (None, 300, 300, 3)       0         \n",
            " g2D)                                                            \n",
            "                                                                 \n",
            " inception_v3 (Functional)   (None, 8, 8, 2048)        21802784  \n",
            "                                                                 \n",
            " global_average_pooling2d_2  (None, 2048)              0         \n",
            "  (GlobalAveragePooling2D)                                       \n",
            "                                                                 \n",
            " flatten_6 (Flatten)         (None, 2048)              0         \n",
            "                                                                 \n",
            " dropout_7 (Dropout)         (None, 2048)              0         \n",
            "                                                                 \n",
            " dense_13 (Dense)            (None, 1024)              2098176   \n",
            "                                                                 \n",
            " dropout_8 (Dropout)         (None, 1024)              0         \n",
            "                                                                 \n",
            " dense_14 (Dense)            (None, 512)               524800    \n",
            "                                                                 \n",
            " dropout_9 (Dropout)         (None, 512)               0         \n",
            "                                                                 \n",
            " dense_15 (Dense)            (None, 5)                 2565      \n",
            "                                                                 \n",
            "=================================================================\n",
            "Total params: 24428325 (93.19 MB)\n",
            "Trainable params: 2625541 (10.02 MB)\n",
            "Non-trainable params: 21802784 (83.17 MB)\n",
            "_________________________________________________________________\n"
          ]
        },
        {
          "output_type": "execute_result",
          "data": {
            "image/png": "[encoded data removed]",
            "text/plain": [
              "<IPython.core.display.Image object>"
            ]
          },
          "metadata": {},
          "execution_count": 39
        }
      ]
    },
    {
      "cell_type": "code",
      "source": [
        "history = train_model(model_1,train_dataset,test_dataset,epochs = 15)"
      ],
      "metadata": {
        "colab": {
          "base_uri": "https://localhost:8080/"
        },
        "id": "TC5NLGvh9cyD",
        "outputId": "0e1b5565-a8ce-47ff-8215-9446504e3341"
      },
      "execution_count": 40,
      "outputs": [
        {
          "output_type": "stream",
          "name": "stdout",
          "text": [
            "Epoch :  1\n"
          ]
        },
        {
          "output_type": "stream",
          "name": "stderr",
          "text": [
            "Training loss for step 20: 25.6946: 100%|██████████ | 21/21\n"
          ]
        },
        {
          "output_type": "stream",
          "name": "stdout",
          "text": [
            "Train loss : 126.4787, Validation loss :   6.6324, Train Accuracy :  0.205, Test Accuracy :  0.250\n",
            "\n",
            "Epoch :  2\n"
          ]
        },
        {
          "output_type": "stream",
          "name": "stderr",
          "text": [
            "Training loss for step 20: 2.0985: 100%|██████████ | 21/21\n"
          ]
        },
        {
          "output_type": "stream",
          "name": "stdout",
          "text": [
            "Train loss :   5.9304, Validation loss :   1.8589, Train Accuracy :  0.241, Test Accuracy :  0.194\n",
            "\n",
            "Epoch :  3\n"
          ]
        },
        {
          "output_type": "stream",
          "name": "stderr",
          "text": [
            "Training loss for step 20: 1.3199: 100%|██████████ | 21/21\n"
          ]
        },
        {
          "output_type": "stream",
          "name": "stdout",
          "text": [
            "Train loss :   1.5113, Validation loss :   1.5221, Train Accuracy :  0.360, Test Accuracy :  0.333\n",
            "\n",
            "Epoch :  4\n"
          ]
        },
        {
          "output_type": "stream",
          "name": "stderr",
          "text": [
            "Training loss for step 20: 1.1373: 100%|██████████ | 21/21\n"
          ]
        },
        {
          "output_type": "stream",
          "name": "stdout",
          "text": [
            "Train loss :   1.3101, Validation loss :   1.5489, Train Accuracy :  0.438, Test Accuracy :  0.319\n",
            "\n",
            "Epoch :  5\n"
          ]
        },
        {
          "output_type": "stream",
          "name": "stderr",
          "text": [
            "Training loss for step 20: 1.3891: 100%|██████████ | 21/21\n"
          ]
        },
        {
          "output_type": "stream",
          "name": "stdout",
          "text": [
            "Train loss :   1.1952, Validation loss :   1.2576, Train Accuracy :  0.498, Test Accuracy :  0.458\n",
            "\n",
            "Epoch :  6\n"
          ]
        },
        {
          "output_type": "stream",
          "name": "stderr",
          "text": [
            "Training loss for step 20: 1.0067: 100%|██████████ | 21/21\n"
          ]
        },
        {
          "output_type": "stream",
          "name": "stdout",
          "text": [
            "Train loss :   1.0632, Validation loss :   1.3798, Train Accuracy :  0.577, Test Accuracy :  0.403\n",
            "\n",
            "Epoch :  7\n"
          ]
        },
        {
          "output_type": "stream",
          "name": "stderr",
          "text": [
            "Training loss for step 20: 1.0177: 100%|██████████ | 21/21\n"
          ]
        },
        {
          "output_type": "stream",
          "name": "stdout",
          "text": [
            "Train loss :   1.0387, Validation loss :   1.1708, Train Accuracy :  0.565, Test Accuracy :  0.500\n",
            "\n",
            "Epoch :  8\n"
          ]
        },
        {
          "output_type": "stream",
          "name": "stderr",
          "text": [
            "Training loss for step 20: 1.1200: 100%|██████████ | 21/21\n"
          ]
        },
        {
          "output_type": "stream",
          "name": "stdout",
          "text": [
            "Train loss :   0.9458, Validation loss :   1.4154, Train Accuracy :  0.628, Test Accuracy :  0.431\n",
            "\n",
            "Epoch :  9\n"
          ]
        },
        {
          "output_type": "stream",
          "name": "stderr",
          "text": [
            "Training loss for step 20: 1.0228: 100%|██████████ | 21/21\n"
          ]
        },
        {
          "output_type": "stream",
          "name": "stdout",
          "text": [
            "Train loss :   0.8723, Validation loss :   1.3367, Train Accuracy :  0.664, Test Accuracy :  0.514\n",
            "\n",
            "Epoch :  10\n"
          ]
        },
        {
          "output_type": "stream",
          "name": "stderr",
          "text": [
            "Training loss for step 20: 0.8584: 100%|██████████ | 21/21\n"
          ]
        },
        {
          "output_type": "stream",
          "name": "stdout",
          "text": [
            "Train loss :   0.9198, Validation loss :   1.1366, Train Accuracy :  0.647, Test Accuracy :  0.500\n",
            "\n",
            "Epoch :  11\n"
          ]
        },
        {
          "output_type": "stream",
          "name": "stderr",
          "text": [
            "Training loss for step 20: 0.6476: 100%|██████████ | 21/21\n"
          ]
        },
        {
          "output_type": "stream",
          "name": "stdout",
          "text": [
            "Train loss :   0.8000, Validation loss :   1.0077, Train Accuracy :  0.693, Test Accuracy :  0.597\n",
            "\n",
            "Epoch :  12\n"
          ]
        },
        {
          "output_type": "stream",
          "name": "stderr",
          "text": [
            "Training loss for step 20: 0.8407: 100%|██████████ | 21/21\n"
          ]
        },
        {
          "output_type": "stream",
          "name": "stdout",
          "text": [
            "Train loss :   0.7268, Validation loss :   1.2854, Train Accuracy :  0.716, Test Accuracy :  0.542\n",
            "\n",
            "Epoch :  13\n"
          ]
        },
        {
          "output_type": "stream",
          "name": "stderr",
          "text": [
            "Training loss for step 20: 0.4677: 100%|██████████ | 21/21\n"
          ]
        },
        {
          "output_type": "stream",
          "name": "stdout",
          "text": [
            "Train loss :   0.6762, Validation loss :   1.0648, Train Accuracy :  0.738, Test Accuracy :  0.569\n",
            "\n",
            "Epoch :  14\n"
          ]
        },
        {
          "output_type": "stream",
          "name": "stderr",
          "text": [
            "Training loss for step 20: 1.0344: 100%|██████████ | 21/21\n"
          ]
        },
        {
          "output_type": "stream",
          "name": "stdout",
          "text": [
            "Train loss :   0.7011, Validation loss :   1.1446, Train Accuracy :  0.739, Test Accuracy :  0.569\n",
            "\n",
            "Epoch :  15\n"
          ]
        },
        {
          "output_type": "stream",
          "name": "stderr",
          "text": [
            "Training loss for step 20: 0.6238: 100%|██████████ | 21/21\n"
          ]
        },
        {
          "output_type": "stream",
          "name": "stdout",
          "text": [
            "Train loss :   0.6180, Validation loss :   0.9912, Train Accuracy :  0.741, Test Accuracy :  0.625\n",
            "\n"
          ]
        }
      ]
    },
    {
      "cell_type": "code",
      "source": [
        "from tensorflow.keras.preprocessing.image import ImageDataGenerator\n",
        "\n",
        "# All images will be rescaled by 1./255\n",
        "train_datagen = ImageDataGenerator(rescale = 1/255)\n",
        "\n",
        "# Flow training images in batches of 128 using train_datagen generator\n",
        "train_generator = train_datagen.flow_from_dataframe(\n",
        "    train,\n",
        "    x_col='Filepath',\n",
        "    y_col = 'Owner',\n",
        "    target_size = (150,150),\n",
        "    class_mode = 'categorical'\n",
        ")\n",
        "\n",
        "# All images will be rescaled by 1./255\n",
        "test_datagen = ImageDataGenerator(rescale = 1/255)\n",
        "\n",
        "# Flow training images in batches of 128 using train_datagen generator\n",
        "test_generator = test_datagen.flow_from_dataframe(\n",
        "    test,\n",
        "    x_col='Filepath',\n",
        "    y_col = 'Owner',\n",
        "    target_size = (150,150),\n",
        "    class_mode = 'categorical'\n",
        ")\n",
        ""
      ],
      "metadata": {
        "colab": {
          "base_uri": "https://localhost:8080/"
        },
        "id": "A9ruC3LCFSLg",
        "outputId": "0ab1b02d-15c0-479c-92eb-2b0b7189580d"
      },
      "execution_count": 13,
      "outputs": [
        {
          "output_type": "stream",
          "name": "stdout",
          "text": [
            "Found 648 validated image filenames belonging to 5 classes.\n",
            "Found 72 validated image filenames belonging to 5 classes.\n"
          ]
        }
      ]
    },
    {
      "cell_type": "code",
      "source": [
        "!wget --no-check-certificate \\\n",
        "    https://storage.googleapis.com/mledu-datasets/inception_v3_weights_tf_dim_ordering_tf_kernels_notop.h5 \\\n",
        "    -O /tmp/inception_v3_weights_tf_dim_ordering_tf_kernels_notop.h5"
      ],
      "metadata": {
        "colab": {
          "base_uri": "https://localhost:8080/"
        },
        "id": "Zj2xQvIQSOI8",
        "outputId": "36b414cb-ed19-44e3-cf32-dae13f697a3b"
      },
      "execution_count": 11,
      "outputs": [
        {
          "output_type": "stream",
          "name": "stdout",
          "text": [
            "--2024-05-22 07:51:46--  https://storage.googleapis.com/mledu-datasets/inception_v3_weights_tf_dim_ordering_tf_kernels_notop.h5\n",
            "Resolving storage.googleapis.com (storage.googleapis.com)... 173.194.212.207, 173.194.213.207, 173.194.215.207, ...\n",
            "Connecting to storage.googleapis.com (storage.googleapis.com)|173.194.212.207|:443... connected.\n",
            "HTTP request sent, awaiting response... 200 OK\n",
            "Length: 87910968 (84M) [application/x-hdf]\n",
            "Saving to: ‘/tmp/inception_v3_weights_tf_dim_ordering_tf_kernels_notop.h5’\n",
            "\n",
            "/tmp/inception_v3_w 100%[===================>]  83.84M   133MB/s    in 0.6s    \n",
            "\n",
            "2024-05-22 07:51:47 (133 MB/s) - ‘/tmp/inception_v3_weights_tf_dim_ordering_tf_kernels_notop.h5’ saved [87910968/87910968]\n",
            "\n"
          ]
        }
      ]
    },
    {
      "cell_type": "code",
      "source": [
        "from tensorflow.keras.applications.inception_v3 import InceptionV3\n",
        "from tensorflow.keras.optimizers import RMSprop\n",
        "from tensorflow.keras import Model\n",
        "from tensorflow.keras import layers\n",
        "\n",
        "# Set the weights file you downloaded into a variable\n",
        "local_weights_file = \"/tmp/inception_v3_weights_tf_dim_ordering_tf_kernels_notop.h5\"\n",
        "\n",
        "# Initialize the base model\n",
        "# Set the input shape and remove the dense layer\n",
        "pre_trained_model = InceptionV3(input_shape = (150,150,3),\n",
        "                                include_top = False,\n",
        "                                weights = None)\n",
        "\n",
        "# Load the pre-trained weights\n",
        "pre_trained_model.load_weights(local_weights_file)\n",
        "\n",
        "# Freeze the weights of the layers\n",
        "for layer in pre_trained_model.layers:\n",
        "  layer.trainable = False\n",
        "\n",
        "# Flatten the output layer to 1 dimension\n",
        "last_layer = pre_trained_model.get_layer('mixed7')\n",
        "last_output = last_layer.output\n",
        "\n",
        "x = layers.Flatten()(last_output)\n",
        "x = layers.Dense(1024,activation = 'relu')(x)\n",
        "# Add Dropout rate of 0.2\n",
        "x = layers.Dropout(0.2)(x)\n",
        "# Add a final softmax layer for classification\n",
        "x = layers.Dense(5,activation = 'softmax')(x)\n",
        "\n",
        "# Append the dense network to the base model\n",
        "model = Model(pre_trained_model.input,x)\n",
        "\n",
        "# Print the model summary\n",
        "# model.summary()\n",
        "model.compile(optimizer = RMSprop(learning_rate = 0.0001),\n",
        "              loss = tf.keras.losses.CategoricalCrossentropy(),\n",
        "              metrics = ['accuracy'])\n",
        "\n",
        "\n",
        "model.fit(\n",
        "    train_generator,\n",
        "    epochs = 15,\n",
        "    batch_size = 32,\n",
        "    validation_data = test_generator\n",
        ")\n",
        ""
      ],
      "metadata": {
        "colab": {
          "base_uri": "https://localhost:8080/"
        },
        "id": "ASxseVrZREMM",
        "outputId": "02638924-8ec0-4729-98f3-4d0f12c7ddbd"
      },
      "execution_count": 14,
      "outputs": [
        {
          "output_type": "stream",
          "name": "stdout",
          "text": [
            "Epoch 1/15\n",
            "21/21 [==============================] - 50s 2s/step - loss: 1.5599 - accuracy: 0.4552 - val_loss: 1.0130 - val_accuracy: 0.5833\n",
            "Epoch 2/15\n",
            "21/21 [==============================] - 43s 2s/step - loss: 0.8409 - accuracy: 0.6960 - val_loss: 1.0546 - val_accuracy: 0.6111\n",
            "Epoch 3/15\n",
            "21/21 [==============================] - 44s 2s/step - loss: 0.6208 - accuracy: 0.7731 - val_loss: 0.9387 - val_accuracy: 0.6528\n",
            "Epoch 4/15\n",
            "21/21 [==============================] - 45s 2s/step - loss: 0.5011 - accuracy: 0.8133 - val_loss: 1.0054 - val_accuracy: 0.6389\n",
            "Epoch 5/15\n",
            "21/21 [==============================] - 44s 2s/step - loss: 0.3268 - accuracy: 0.8858 - val_loss: 1.4285 - val_accuracy: 0.5972\n",
            "Epoch 6/15\n",
            "21/21 [==============================] - 42s 2s/step - loss: 0.2392 - accuracy: 0.9244 - val_loss: 1.1343 - val_accuracy: 0.5694\n",
            "Epoch 7/15\n",
            "21/21 [==============================] - 42s 2s/step - loss: 0.2576 - accuracy: 0.9136 - val_loss: 1.0475 - val_accuracy: 0.7083\n",
            "Epoch 8/15\n",
            "21/21 [==============================] - 42s 2s/step - loss: 0.1897 - accuracy: 0.9383 - val_loss: 1.1568 - val_accuracy: 0.6250\n",
            "Epoch 9/15\n",
            "21/21 [==============================] - 45s 2s/step - loss: 0.1043 - accuracy: 0.9738 - val_loss: 0.9085 - val_accuracy: 0.7222\n",
            "Epoch 10/15\n",
            "21/21 [==============================] - 44s 2s/step - loss: 0.1439 - accuracy: 0.9552 - val_loss: 1.0425 - val_accuracy: 0.6528\n",
            "Epoch 11/15\n",
            "21/21 [==============================] - 42s 2s/step - loss: 0.0689 - accuracy: 0.9892 - val_loss: 0.8581 - val_accuracy: 0.6806\n",
            "Epoch 12/15\n",
            "21/21 [==============================] - 42s 2s/step - loss: 0.0885 - accuracy: 0.9722 - val_loss: 1.0089 - val_accuracy: 0.6528\n",
            "Epoch 13/15\n",
            "21/21 [==============================] - 51s 2s/step - loss: 0.0413 - accuracy: 0.9954 - val_loss: 1.0745 - val_accuracy: 0.6528\n",
            "Epoch 14/15\n",
            "21/21 [==============================] - 46s 2s/step - loss: 0.0382 - accuracy: 0.9954 - val_loss: 1.0960 - val_accuracy: 0.6528\n",
            "Epoch 15/15\n",
            "21/21 [==============================] - 42s 2s/step - loss: 0.0635 - accuracy: 0.9769 - val_loss: 1.0188 - val_accuracy: 0.6944\n"
          ]
        },
        {
          "output_type": "execute_result",
          "data": {
            "text/plain": [
              "<keras.src.callbacks.History at 0x7ebb6863a7d0>"
            ]
          },
          "metadata": {},
          "execution_count": 14
        }
      ]
    },
    {
      "cell_type": "markdown",
      "metadata": {
        "id": "Muuz8ZjUbjCu"
      },
      "source": [
        "# Visualize Results"
      ]
    },
    {
      "cell_type": "code",
      "source": [],
      "metadata": {
        "id": "0ZhR5A29ZYZ1"
      },
      "execution_count": null,
      "outputs": []
    },
    {
      "cell_type": "markdown",
      "metadata": {
        "id": "XxXExM1uamw6"
      },
      "source": [
        "# Visualize Predictions"
      ]
    },
    {
      "cell_type": "code",
      "execution_count": null,
      "metadata": {
        "id": "v0NPF3glsIL-"
      },
      "outputs": [],
      "source": [
        "def display_images(images, predictions, labels, title, n):\n",
        "    fig, axes = plt.subplots(1, n, figsize=(17, 3))\n",
        "    fig.suptitle(title)\n",
        "\n",
        "    for i in range(n):\n",
        "        axes[i].imshow(images[i])\n",
        "        axes[i].set_title(f\"Pred: {predictions[i]}\\nTrue: {labels[i]}\")\n",
        "        axes[i].axis('off')\n",
        "\n",
        "    plt.show()\n",
        "\n",
        "x_batches, y_pred_batches, y_true_batches = [], [], []\n",
        "\n",
        "for x, y in test_dataset:\n",
        "    y_pred = model_1(x)\n",
        "    y_pred_batches.append(y_pred)\n",
        "    y_true_batches.append(y)\n",
        "    x_batches.append(x)\n",
        "\n",
        "x_batches = np.concatenate(x_batches)\n",
        "y_pred_batches = np.concatenate(y_pred_batches)\n",
        "y_true_batches = np.concatenate(y_true_batches)\n",
        "\n",
        "indexes = np.random.choice(len(y_pred_batches), size=10)\n",
        "images_to_plot = x_batches[indexes]\n",
        "y_pred_to_plot = y_pred_batches[indexes]\n",
        "y_true_to_plot = y_true_batches[indexes]\n",
        "\n",
        "y_pred_labels = [class_names[np.argmax(sel_y_pred)] for sel_y_pred in y_pred_to_plot]\n",
        "y_true_labels = [class_names[sel_y_true] for sel_y_true in y_true_to_plot]\n",
        "\n",
        "display_images(images_to_plot, y_pred_labels, y_true_labels, \"Predicted and True Values\", 10)"
      ]
    }
  ],
  "metadata": {
    "accelerator": "GPU",
    "colab": {
      "gpuType": "T4",
      "provenance": [],
      "include_colab_link": true
    },
    "kernelspec": {
      "display_name": "Python 3",
      "name": "python3"
    },
    "language_info": {
      "name": "python"
    }
  },
  "nbformat": 4,
  "nbformat_minor": 0
}