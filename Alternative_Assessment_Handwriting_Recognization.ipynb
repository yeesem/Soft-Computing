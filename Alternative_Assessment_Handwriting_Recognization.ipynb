{
  "nbformat": 4,
  "nbformat_minor": 0,
  "metadata": {
    "colab": {
      "provenance": [],
      "gpuType": "T4",
      "include_colab_link": true
    },
    "kernelspec": {
      "name": "python3",
      "display_name": "Python 3"
    },
    "language_info": {
      "name": "python"
    },
    "accelerator": "GPU"
  },
  "cells": [
    {
      "cell_type": "markdown",
      "metadata": {
        "id": "view-in-github",
        "colab_type": "text"
      },
      "source": [
        "<a href=\"https://colab.research.google.com/github/yeesem/Soft-Computing/blob/main/Alternative_Assessment_Handwriting_Recognization.ipynb\" target=\"_parent\"><img src=\"https://colab.research.google.com/assets/colab-badge.svg\" alt=\"Open In Colab\"/></a>"
      ]
    },
    {
      "cell_type": "markdown",
      "source": [
        "# Imports"
      ],
      "metadata": {
        "id": "URQvYOGOa6xl"
      }
    },
    {
      "cell_type": "code",
      "source": [
        "import numpy as np\n",
        "import pandas as pd\n",
        "from PIL import Image, ImageOps\n",
        "import matplotlib.pyplot as plt\n",
        "import os\n",
        "import tensorflow as tf\n",
        "from tqdm import tqdm"
      ],
      "metadata": {
        "id": "1lCucsl-e2GU"
      },
      "execution_count": 20,
      "outputs": []
    },
    {
      "cell_type": "markdown",
      "source": [
        "# Dataset Loading and Preprocessing"
      ],
      "metadata": {
        "id": "Seyh-XQRmJPY"
      }
    },
    {
      "cell_type": "code",
      "execution_count": 21,
      "metadata": {
        "id": "v9tvesmZeg-C",
        "colab": {
          "base_uri": "https://localhost:8080/"
        },
        "outputId": "18ff71c3-1183-42d1-e9f4-dc12df87262d"
      },
      "outputs": [
        {
          "output_type": "stream",
          "name": "stdout",
          "text": [
            "fatal: destination path 'WIX3001-Alt-Ass' already exists and is not an empty directory.\n"
          ]
        }
      ],
      "source": [
        "!git clone https://github.com/Walmond3/WIX3001-Alt-Ass"
      ]
    },
    {
      "cell_type": "markdown",
      "source": [
        "**Image Cropping**"
      ],
      "metadata": {
        "id": "_msaK4iIbDhd"
      }
    },
    {
      "cell_type": "code",
      "source": [
        "def crop_image_into_pieces(image_path, output_folder, rows, columns, owner):\n",
        "    # Open the image\n",
        "    image = Image.open(image_path)\n",
        "\n",
        "    # Convert image to RGB mode (remove alpha channel)\n",
        "    image = image.convert(\"RGB\")\n",
        "\n",
        "    # Get the dimensions of the original image\n",
        "    original_width, original_height = image.size\n",
        "\n",
        "    # Calculate the width and height of each piece\n",
        "    piece_width = original_width // columns\n",
        "    piece_height = original_height // rows\n",
        "\n",
        "    # Initialize a list to store data for each cropped image\n",
        "    cropped_images_data = []\n",
        "\n",
        "    # Iterate through each row and column\n",
        "    for row in range(rows):\n",
        "        for col in range(columns):\n",
        "            # Calculate the coordinates for cropping\n",
        "            left = col * piece_width\n",
        "            upper = row * piece_height\n",
        "            right = left + piece_width\n",
        "            lower = upper + piece_height\n",
        "\n",
        "            # Crop the image\n",
        "            cropped_img = image.crop((left, upper, right, lower))\n",
        "\n",
        "            # Invert the colors\n",
        "            inverted_img = ImageOps.invert(cropped_img)\n",
        "\n",
        "            # Create output subfolder if it doesn't exist\n",
        "            os.makedirs(output_folder, exist_ok=True)\n",
        "\n",
        "            # Save the cropped image\n",
        "            output_filename = f\"{owner}_crop_{row}_{col}.jpg\"\n",
        "            output_filepath = os.path.join(output_folder, output_filename)\n",
        "            inverted_img.save(output_filepath)\n",
        "\n",
        "            # Append data to the list for DataFrame\n",
        "            cropped_images_data.append({\n",
        "                \"Filename\": output_filename,\n",
        "                \"Filepath\": output_filepath,\n",
        "                \"Owner\": owner\n",
        "            })\n",
        "            # print(f\"Saved {output_filename}\")\n",
        "\n",
        "    print(f\"All crops for {owner} saved!\")\n",
        "\n",
        "    return cropped_images_data\n",
        "\n",
        "# Directory where the images are stored\n",
        "images_directory = \"/content/WIX3001-Alt-Ass/Handwriting\"\n",
        "\n",
        "# Output folder to save cropped images within Colab\n",
        "output_folder = \"/content/output_crops\"\n",
        "\n",
        "# Number of rows and columns in the grid\n",
        "rows = 12\n",
        "columns = 12\n",
        "\n",
        "# Check if the images directory exists\n",
        "if not os.path.exists(images_directory):\n",
        "    print(f\"Error: {images_directory} does not exist.\")\n",
        "    exit()\n",
        "\n",
        "# List all files in the images directory\n",
        "image_files = os.listdir(images_directory)\n",
        "\n",
        "# Check if there are any image files\n",
        "if not image_files:\n",
        "    print(f\"No image files found in {images_directory}.\")\n",
        "    exit()\n",
        "\n",
        "# Initialize a list to store all cropped images data\n",
        "all_cropped_images_data = []\n",
        "\n",
        "# Iterate through each image file\n",
        "for image_file in image_files:\n",
        "    image_path = os.path.join(images_directory, image_file)\n",
        "    owner, _ = os.path.splitext(image_file)  # Get owner from filename without extension\n",
        "    cropped_images_data = crop_image_into_pieces(image_path, output_folder, rows, columns, owner)\n",
        "\n",
        "    # Testing\n",
        "    all_cropped_images_data.extend(cropped_images_data)"
      ],
      "metadata": {
        "colab": {
          "base_uri": "https://localhost:8080/"
        },
        "id": "HMyPzOiXfMGX",
        "outputId": "ffe39203-085a-435e-d125-4671706cae3b"
      },
      "execution_count": 22,
      "outputs": [
        {
          "output_type": "stream",
          "name": "stdout",
          "text": [
            "All crops for Yan Ho saved!\n",
            "All crops for Jin Khye saved!\n",
            "All crops for Hui Yi saved!\n",
            "All crops for Yee Sem saved!\n",
            "All crops for Yan Hao saved!\n"
          ]
        }
      ]
    },
    {
      "cell_type": "markdown",
      "source": [
        "**Store data in DataFrame**"
      ],
      "metadata": {
        "id": "tMAeemtrbJjE"
      }
    },
    {
      "cell_type": "code",
      "source": [
        "# Create a DataFrame from the list of cropped images data\n",
        "df = pd.DataFrame(all_cropped_images_data)\n",
        "df.head()"
      ],
      "metadata": {
        "colab": {
          "base_uri": "https://localhost:8080/",
          "height": 206
        },
        "id": "uleyrv5bfkNr",
        "outputId": "ac8c247b-65c4-490e-9346-b7cb72c3fe70"
      },
      "execution_count": 23,
      "outputs": [
        {
          "output_type": "execute_result",
          "data": {
            "text/plain": [
              "              Filename                                   Filepath   Owner\n",
              "0  Yan Ho_crop_0_0.jpg  /content/output_crops/Yan Ho_crop_0_0.jpg  Yan Ho\n",
              "1  Yan Ho_crop_0_1.jpg  /content/output_crops/Yan Ho_crop_0_1.jpg  Yan Ho\n",
              "2  Yan Ho_crop_0_2.jpg  /content/output_crops/Yan Ho_crop_0_2.jpg  Yan Ho\n",
              "3  Yan Ho_crop_0_3.jpg  /content/output_crops/Yan Ho_crop_0_3.jpg  Yan Ho\n",
              "4  Yan Ho_crop_0_4.jpg  /content/output_crops/Yan Ho_crop_0_4.jpg  Yan Ho"
            ],
            "text/html": [
              "\n",
              "  <div id=\"df-f32bc613-7126-4c45-b82a-516920de0184\" class=\"colab-df-container\">\n",
              "    <div>\n",
              "<style scoped>\n",
              "    .dataframe tbody tr th:only-of-type {\n",
              "        vertical-align: middle;\n",
              "    }\n",
              "\n",
              "    .dataframe tbody tr th {\n",
              "        vertical-align: top;\n",
              "    }\n",
              "\n",
              "    .dataframe thead th {\n",
              "        text-align: right;\n",
              "    }\n",
              "</style>\n",
              "<table border=\"1\" class=\"dataframe\">\n",
              "  <thead>\n",
              "    <tr style=\"text-align: right;\">\n",
              "      <th></th>\n",
              "      <th>Filename</th>\n",
              "      <th>Filepath</th>\n",
              "      <th>Owner</th>\n",
              "    </tr>\n",
              "  </thead>\n",
              "  <tbody>\n",
              "    <tr>\n",
              "      <th>0</th>\n",
              "      <td>Yan Ho_crop_0_0.jpg</td>\n",
              "      <td>/content/output_crops/Yan Ho_crop_0_0.jpg</td>\n",
              "      <td>Yan Ho</td>\n",
              "    </tr>\n",
              "    <tr>\n",
              "      <th>1</th>\n",
              "      <td>Yan Ho_crop_0_1.jpg</td>\n",
              "      <td>/content/output_crops/Yan Ho_crop_0_1.jpg</td>\n",
              "      <td>Yan Ho</td>\n",
              "    </tr>\n",
              "    <tr>\n",
              "      <th>2</th>\n",
              "      <td>Yan Ho_crop_0_2.jpg</td>\n",
              "      <td>/content/output_crops/Yan Ho_crop_0_2.jpg</td>\n",
              "      <td>Yan Ho</td>\n",
              "    </tr>\n",
              "    <tr>\n",
              "      <th>3</th>\n",
              "      <td>Yan Ho_crop_0_3.jpg</td>\n",
              "      <td>/content/output_crops/Yan Ho_crop_0_3.jpg</td>\n",
              "      <td>Yan Ho</td>\n",
              "    </tr>\n",
              "    <tr>\n",
              "      <th>4</th>\n",
              "      <td>Yan Ho_crop_0_4.jpg</td>\n",
              "      <td>/content/output_crops/Yan Ho_crop_0_4.jpg</td>\n",
              "      <td>Yan Ho</td>\n",
              "    </tr>\n",
              "  </tbody>\n",
              "</table>\n",
              "</div>\n",
              "    <div class=\"colab-df-buttons\">\n",
              "\n",
              "  <div class=\"colab-df-container\">\n",
              "    <button class=\"colab-df-convert\" onclick=\"convertToInteractive('df-f32bc613-7126-4c45-b82a-516920de0184')\"\n",
              "            title=\"Convert this dataframe to an interactive table.\"\n",
              "            style=\"display:none;\">\n",
              "\n",
              "  <svg xmlns=\"http://www.w3.org/2000/svg\" height=\"24px\" viewBox=\"0 -960 960 960\">\n",
              "    <path d=\"M120-120v-720h720v720H120Zm60-500h600v-160H180v160Zm220 220h160v-160H400v160Zm0 220h160v-160H400v160ZM180-400h160v-160H180v160Zm440 0h160v-160H620v160ZM180-180h160v-160H180v160Zm440 0h160v-160H620v160Z\"/>\n",
              "  </svg>\n",
              "    </button>\n",
              "\n",
              "  <style>\n",
              "    .colab-df-container {\n",
              "      display:flex;\n",
              "      gap: 12px;\n",
              "    }\n",
              "\n",
              "    .colab-df-convert {\n",
              "      background-color: #E8F0FE;\n",
              "      border: none;\n",
              "      border-radius: 50%;\n",
              "      cursor: pointer;\n",
              "      display: none;\n",
              "      fill: #1967D2;\n",
              "      height: 32px;\n",
              "      padding: 0 0 0 0;\n",
              "      width: 32px;\n",
              "    }\n",
              "\n",
              "    .colab-df-convert:hover {\n",
              "      background-color: #E2EBFA;\n",
              "      box-shadow: 0px 1px 2px rgba(60, 64, 67, 0.3), 0px 1px 3px 1px rgba(60, 64, 67, 0.15);\n",
              "      fill: #174EA6;\n",
              "    }\n",
              "\n",
              "    .colab-df-buttons div {\n",
              "      margin-bottom: 4px;\n",
              "    }\n",
              "\n",
              "    [theme=dark] .colab-df-convert {\n",
              "      background-color: #3B4455;\n",
              "      fill: #D2E3FC;\n",
              "    }\n",
              "\n",
              "    [theme=dark] .colab-df-convert:hover {\n",
              "      background-color: #434B5C;\n",
              "      box-shadow: 0px 1px 3px 1px rgba(0, 0, 0, 0.15);\n",
              "      filter: drop-shadow(0px 1px 2px rgba(0, 0, 0, 0.3));\n",
              "      fill: #FFFFFF;\n",
              "    }\n",
              "  </style>\n",
              "\n",
              "    <script>\n",
              "      const buttonEl =\n",
              "        document.querySelector('#df-f32bc613-7126-4c45-b82a-516920de0184 button.colab-df-convert');\n",
              "      buttonEl.style.display =\n",
              "        google.colab.kernel.accessAllowed ? 'block' : 'none';\n",
              "\n",
              "      async function convertToInteractive(key) {\n",
              "        const element = document.querySelector('#df-f32bc613-7126-4c45-b82a-516920de0184');\n",
              "        const dataTable =\n",
              "          await google.colab.kernel.invokeFunction('convertToInteractive',\n",
              "                                                    [key], {});\n",
              "        if (!dataTable) return;\n",
              "\n",
              "        const docLinkHtml = 'Like what you see? Visit the ' +\n",
              "          '<a target=\"_blank\" href=https://colab.research.google.com/notebooks/data_table.ipynb>data table notebook</a>'\n",
              "          + ' to learn more about interactive tables.';\n",
              "        element.innerHTML = '';\n",
              "        dataTable['output_type'] = 'display_data';\n",
              "        await google.colab.output.renderOutput(dataTable, element);\n",
              "        const docLink = document.createElement('div');\n",
              "        docLink.innerHTML = docLinkHtml;\n",
              "        element.appendChild(docLink);\n",
              "      }\n",
              "    </script>\n",
              "  </div>\n",
              "\n",
              "\n",
              "<div id=\"df-f12b9b57-ddd7-4d31-8e31-42b8e68bf474\">\n",
              "  <button class=\"colab-df-quickchart\" onclick=\"quickchart('df-f12b9b57-ddd7-4d31-8e31-42b8e68bf474')\"\n",
              "            title=\"Suggest charts\"\n",
              "            style=\"display:none;\">\n",
              "\n",
              "<svg xmlns=\"http://www.w3.org/2000/svg\" height=\"24px\"viewBox=\"0 0 24 24\"\n",
              "     width=\"24px\">\n",
              "    <g>\n",
              "        <path d=\"M19 3H5c-1.1 0-2 .9-2 2v14c0 1.1.9 2 2 2h14c1.1 0 2-.9 2-2V5c0-1.1-.9-2-2-2zM9 17H7v-7h2v7zm4 0h-2V7h2v10zm4 0h-2v-4h2v4z\"/>\n",
              "    </g>\n",
              "</svg>\n",
              "  </button>\n",
              "\n",
              "<style>\n",
              "  .colab-df-quickchart {\n",
              "      --bg-color: #E8F0FE;\n",
              "      --fill-color: #1967D2;\n",
              "      --hover-bg-color: #E2EBFA;\n",
              "      --hover-fill-color: #174EA6;\n",
              "      --disabled-fill-color: #AAA;\n",
              "      --disabled-bg-color: #DDD;\n",
              "  }\n",
              "\n",
              "  [theme=dark] .colab-df-quickchart {\n",
              "      --bg-color: #3B4455;\n",
              "      --fill-color: #D2E3FC;\n",
              "      --hover-bg-color: #434B5C;\n",
              "      --hover-fill-color: #FFFFFF;\n",
              "      --disabled-bg-color: #3B4455;\n",
              "      --disabled-fill-color: #666;\n",
              "  }\n",
              "\n",
              "  .colab-df-quickchart {\n",
              "    background-color: var(--bg-color);\n",
              "    border: none;\n",
              "    border-radius: 50%;\n",
              "    cursor: pointer;\n",
              "    display: none;\n",
              "    fill: var(--fill-color);\n",
              "    height: 32px;\n",
              "    padding: 0;\n",
              "    width: 32px;\n",
              "  }\n",
              "\n",
              "  .colab-df-quickchart:hover {\n",
              "    background-color: var(--hover-bg-color);\n",
              "    box-shadow: 0 1px 2px rgba(60, 64, 67, 0.3), 0 1px 3px 1px rgba(60, 64, 67, 0.15);\n",
              "    fill: var(--button-hover-fill-color);\n",
              "  }\n",
              "\n",
              "  .colab-df-quickchart-complete:disabled,\n",
              "  .colab-df-quickchart-complete:disabled:hover {\n",
              "    background-color: var(--disabled-bg-color);\n",
              "    fill: var(--disabled-fill-color);\n",
              "    box-shadow: none;\n",
              "  }\n",
              "\n",
              "  .colab-df-spinner {\n",
              "    border: 2px solid var(--fill-color);\n",
              "    border-color: transparent;\n",
              "    border-bottom-color: var(--fill-color);\n",
              "    animation:\n",
              "      spin 1s steps(1) infinite;\n",
              "  }\n",
              "\n",
              "  @keyframes spin {\n",
              "    0% {\n",
              "      border-color: transparent;\n",
              "      border-bottom-color: var(--fill-color);\n",
              "      border-left-color: var(--fill-color);\n",
              "    }\n",
              "    20% {\n",
              "      border-color: transparent;\n",
              "      border-left-color: var(--fill-color);\n",
              "      border-top-color: var(--fill-color);\n",
              "    }\n",
              "    30% {\n",
              "      border-color: transparent;\n",
              "      border-left-color: var(--fill-color);\n",
              "      border-top-color: var(--fill-color);\n",
              "      border-right-color: var(--fill-color);\n",
              "    }\n",
              "    40% {\n",
              "      border-color: transparent;\n",
              "      border-right-color: var(--fill-color);\n",
              "      border-top-color: var(--fill-color);\n",
              "    }\n",
              "    60% {\n",
              "      border-color: transparent;\n",
              "      border-right-color: var(--fill-color);\n",
              "    }\n",
              "    80% {\n",
              "      border-color: transparent;\n",
              "      border-right-color: var(--fill-color);\n",
              "      border-bottom-color: var(--fill-color);\n",
              "    }\n",
              "    90% {\n",
              "      border-color: transparent;\n",
              "      border-bottom-color: var(--fill-color);\n",
              "    }\n",
              "  }\n",
              "</style>\n",
              "\n",
              "  <script>\n",
              "    async function quickchart(key) {\n",
              "      const quickchartButtonEl =\n",
              "        document.querySelector('#' + key + ' button');\n",
              "      quickchartButtonEl.disabled = true;  // To prevent multiple clicks.\n",
              "      quickchartButtonEl.classList.add('colab-df-spinner');\n",
              "      try {\n",
              "        const charts = await google.colab.kernel.invokeFunction(\n",
              "            'suggestCharts', [key], {});\n",
              "      } catch (error) {\n",
              "        console.error('Error during call to suggestCharts:', error);\n",
              "      }\n",
              "      quickchartButtonEl.classList.remove('colab-df-spinner');\n",
              "      quickchartButtonEl.classList.add('colab-df-quickchart-complete');\n",
              "    }\n",
              "    (() => {\n",
              "      let quickchartButtonEl =\n",
              "        document.querySelector('#df-f12b9b57-ddd7-4d31-8e31-42b8e68bf474 button');\n",
              "      quickchartButtonEl.style.display =\n",
              "        google.colab.kernel.accessAllowed ? 'block' : 'none';\n",
              "    })();\n",
              "  </script>\n",
              "</div>\n",
              "    </div>\n",
              "  </div>\n"
            ],
            "application/vnd.google.colaboratory.intrinsic+json": {
              "type": "dataframe",
              "variable_name": "df",
              "summary": "{\n  \"name\": \"df\",\n  \"rows\": 720,\n  \"fields\": [\n    {\n      \"column\": \"Filename\",\n      \"properties\": {\n        \"dtype\": \"string\",\n        \"num_unique_values\": 720,\n        \"samples\": [\n          \"Hui Yi_crop_4_4.jpg\",\n          \"Hui Yi_crop_0_2.jpg\",\n          \"Yan Ho_crop_4_6.jpg\"\n        ],\n        \"semantic_type\": \"\",\n        \"description\": \"\"\n      }\n    },\n    {\n      \"column\": \"Filepath\",\n      \"properties\": {\n        \"dtype\": \"string\",\n        \"num_unique_values\": 720,\n        \"samples\": [\n          \"/content/output_crops/Hui Yi_crop_4_4.jpg\",\n          \"/content/output_crops/Hui Yi_crop_0_2.jpg\",\n          \"/content/output_crops/Yan Ho_crop_4_6.jpg\"\n        ],\n        \"semantic_type\": \"\",\n        \"description\": \"\"\n      }\n    },\n    {\n      \"column\": \"Owner\",\n      \"properties\": {\n        \"dtype\": \"category\",\n        \"num_unique_values\": 5,\n        \"samples\": [\n          \"Jin Khye\",\n          \"Yan Hao\",\n          \"Hui Yi\"\n        ],\n        \"semantic_type\": \"\",\n        \"description\": \"\"\n      }\n    }\n  ]\n}"
            }
          },
          "metadata": {},
          "execution_count": 23
        }
      ]
    },
    {
      "cell_type": "markdown",
      "source": [
        "**Display Images**"
      ],
      "metadata": {
        "id": "fDe_u5IHbQXI"
      }
    },
    {
      "cell_type": "code",
      "source": [
        "def display_images(filepaths):\n",
        "    fig, axes = plt.subplots(len(filepaths) // columns, columns, figsize=(12, 2))\n",
        "    for i, filepath in enumerate(filepaths):\n",
        "        img = Image.open(filepath)\n",
        "        ax = axes[i // columns, i % columns]\n",
        "        ax.imshow(img)\n",
        "        ax.axis('off')\n",
        "    plt.tight_layout()\n",
        "    plt.show()\n",
        "\n",
        "\n",
        "# Display the images\n",
        "display_images(df['Filepath'][:24])"
      ],
      "metadata": {
        "colab": {
          "base_uri": "https://localhost:8080/",
          "height": 207
        },
        "id": "VHaPDIUwffrr",
        "outputId": "36482f95-8794-4919-ee4f-8a75c63127af"
      },
      "execution_count": 24,
      "outputs": [
        {
          "output_type": "display_data",
          "data": {
            "text/plain": [
              "<Figure size 1200x200 with 24 Axes>"
            ],
            "image/png": "[encoded data removed]"
          },
          "metadata": {}
        }
      ]
    },
    {
      "cell_type": "markdown",
      "source": [
        "**Dataset spliting**"
      ],
      "metadata": {
        "id": "J2jKDS97bUKk"
      }
    },
    {
      "cell_type": "code",
      "source": [
        "from sklearn.model_selection import train_test_split\n",
        "\n",
        "\n",
        "train,test = train_test_split(df,test_size=0.1, random_state=42)"
      ],
      "metadata": {
        "id": "0RDa4kVlmZEI"
      },
      "execution_count": 25,
      "outputs": []
    },
    {
      "cell_type": "code",
      "source": [
        "# from tensorflow.keras.preprocessing.image import ImageDataGenerator\n",
        "\n",
        "# # All images will be rescaled by 1./255\n",
        "# train_datagen = ImageDataGenerator(rescale = 1/255)\n",
        "\n",
        "# # Flow training images in batches of 128 using train_datagen generator\n",
        "# train_generator = train_datagen.flow_from_dataframe(\n",
        "#     train,\n",
        "#     x_col='Filepath',\n",
        "#     y_col = 'Owner',\n",
        "#     class_mode = 'categorical'\n",
        "# )\n",
        "\n",
        "# # All images will be rescaled by 1./255\n",
        "# test_datagen = ImageDataGenerator(rescale = 1/255)\n",
        "\n",
        "# # Flow training images in batches of 128 using train_datagen generator\n",
        "# test_generator = test_datagen.flow_from_dataframe(\n",
        "#     test,\n",
        "#     x_col='Filepath',\n",
        "#     y_col = 'Owner',\n",
        "#     class_mode = 'categorical'\n",
        "# )"
      ],
      "metadata": {
        "colab": {
          "base_uri": "https://localhost:8080/"
        },
        "id": "4P6C_e9EpVn1",
        "outputId": "80ca836f-76cd-44e7-c7e9-769624a79421"
      },
      "execution_count": 26,
      "outputs": [
        {
          "output_type": "stream",
          "name": "stdout",
          "text": [
            "Found 648 validated image filenames belonging to 5 classes.\n",
            "Found 72 validated image filenames belonging to 5 classes.\n"
          ]
        }
      ]
    },
    {
      "cell_type": "code",
      "source": [
        "# Load Images\n",
        "def load_and_preprocess_image(file_path):\n",
        "    # Read the image file as raw data\n",
        "    img = tf.io.read_file(file_path)\n",
        "    # Decode the raw data into a tensor\n",
        "    img = tf.image.decode_image(img, channels=3)\n",
        "    return img\n",
        "\n",
        "def format_image(image,label):\n",
        "  image = tf.reshape(image,[-1])\n",
        "  image = tf.cast(image, tf.float32)\n",
        "  image /= 255\n",
        "  return image, label\n",
        "\n",
        "label_mapping = {'Yan Ho' : 0,'Jin Khye' : 1,'Hui Yi' : 2,'Yee Sem' : 3,'Yan Hao' : 4}\n",
        "\n",
        "# Train dataset\n",
        "train_image_paths = train['Filepath'].tolist()\n",
        "train_label = train['Owner'].map(label_mapping).tolist()\n",
        "\n",
        "# Test dataset\n",
        "test_image_paths = test['Filepath'].tolist()\n",
        "test_label = test['Owner'].map(label_mapping).tolist()\n",
        "\n",
        "# Load all images\n",
        "train_images = [load_and_preprocess_image(path) for path in train_image_paths]\n",
        "train_image_dataset = tf.data.Dataset.from_tensor_slices((train_images,train_label))\n",
        "\n",
        "test_images = [load_and_preprocess_image(path) for path in test_image_paths]\n",
        "test_dataset = tf.data.Dataset.from_tensor_slices((test_images,test_label))"
      ],
      "metadata": {
        "id": "Zl57gEy8u1Mx"
      },
      "execution_count": 62,
      "outputs": []
    },
    {
      "cell_type": "code",
      "source": [
        "batch_size = 32\n",
        "train_dataset = train_image_dataset.shuffle(buffer_size=len(train)).batch(batch_size)"
      ],
      "metadata": {
        "id": "hOd-HgP0zEHZ"
      },
      "execution_count": 63,
      "outputs": []
    },
    {
      "cell_type": "code",
      "source": [
        "class_names = list(df[\"Owner\"].unique())\n",
        "class_names"
      ],
      "metadata": {
        "colab": {
          "base_uri": "https://localhost:8080/"
        },
        "id": "l8sVZ7BZsfIz",
        "outputId": "b1a386e2-c080-499a-bb23-061237492eac"
      },
      "execution_count": 27,
      "outputs": [
        {
          "output_type": "execute_result",
          "data": {
            "text/plain": [
              "['Yan Ho', 'Jin Khye', 'Hui Yi', 'Yee Sem', 'Yan Hao']"
            ]
          },
          "metadata": {},
          "execution_count": 27
        }
      ]
    },
    {
      "cell_type": "markdown",
      "source": [
        "# Distributed Training"
      ],
      "metadata": {
        "id": "NR5vf5SQW2_G"
      }
    },
    {
      "cell_type": "code",
      "source": [
        "# Detect hardware\n",
        "try:\n",
        "  # TPU Detector\n",
        "  tpu = tf.distribute.cluster_resolver.TPUClusterResolver()\n",
        "except ValueError:\n",
        "  tpu = None\n",
        "  gpus = tf.config.experimental.list_logical_devices(\"GPU\")\n",
        "\n",
        "# Select appropriate distribution strategy\n",
        "if tpu:\n",
        "  tf.config.experimental_connect_to_cluster(tpu)\n",
        "  tf.tpu.experimental.initialize_tpu_system(tpu)\n",
        "  strategy = tf.distribute.experimental.TPUStrategy(tpu)\n",
        "  print(\"Running on TPU \",tpu.cluster_spec().as_dict()['worker'])\n",
        "elif len(gpus) > 1:\n",
        "  strategy = tf.distribute.MirroredStrategy([gpu.name for gpu in gpus])\n",
        "  print(\"Running on multiple GPUs \",[gpu.name for gpu in gpus])\n",
        "elif len(gpus) == 1:\n",
        "  # strategy for single-machine execution\n",
        "  strategy = tf.distribute.get_strategy()\n",
        "  print(\"Running on single GPU \",gpus[0].name)\n",
        "else:\n",
        "  # strategy for single-machine execution\n",
        "  strategy = tf.distribute.get_strategy()\n",
        "  print(\"Running on single CPU \")\n",
        "\n",
        "print(\"Number of accelerators \",strategy.num_replicas_in_sync)"
      ],
      "metadata": {
        "colab": {
          "base_uri": "https://localhost:8080/"
        },
        "id": "2bSzNgzPXHTJ",
        "outputId": "fd1bbc2d-c16f-4ad0-d6e4-c3747ca702b7"
      },
      "execution_count": 28,
      "outputs": [
        {
          "output_type": "stream",
          "name": "stdout",
          "text": [
            "Running on single GPU  /device:GPU:0\n",
            "Number of accelerators  1\n"
          ]
        }
      ]
    },
    {
      "cell_type": "markdown",
      "source": [
        "# Parameter"
      ],
      "metadata": {
        "id": "ZYQjaLR_ltqv"
      }
    },
    {
      "cell_type": "code",
      "source": [],
      "metadata": {
        "id": "zK7nm5Aglv0Q"
      },
      "execution_count": 28,
      "outputs": []
    },
    {
      "cell_type": "markdown",
      "source": [
        "# Define the Model"
      ],
      "metadata": {
        "id": "sqLUPsNAkDpT"
      }
    },
    {
      "cell_type": "markdown",
      "source": [
        "**Define Optimizers and Loss function**"
      ],
      "metadata": {
        "id": "9RNsnBEpiMat"
      }
    },
    {
      "cell_type": "code",
      "source": [
        "# Define Optimizer and Loss Function\n",
        "adam_optimizer = tf.keras.optimizers.legacy.Adam()\n",
        "categorical_loss_object = tf.keras.losses.SparseCategoricalCrossentropy()\n",
        "\n",
        "# Define metrics\n",
        "train_acc_metrics = tf.keras.metrics.SparseCategoricalAccuracy()\n",
        "test_acc_metrics = tf.keras.metrics.SparseCategoricalAccuracy()"
      ],
      "metadata": {
        "id": "XIOISbt9iTR5"
      },
      "execution_count": 29,
      "outputs": []
    },
    {
      "cell_type": "markdown",
      "source": [
        "**Define gradient and training loop**"
      ],
      "metadata": {
        "id": "qdkvZb1CjPa_"
      }
    },
    {
      "cell_type": "code",
      "source": [
        "def apply_gradient(optimizer,model,loss_object,x,y):\n",
        "  with tf.GradientTape() as tape:\n",
        "    pred = model(x)\n",
        "    loss_value = loss_object(y_true = y,y_pred = pred)\n",
        "\n",
        "  gradients = tape.gradient(loss_value,model.trainable_weights)\n",
        "  optimizer.apply_gradients(zip(gradients,model.trainable_weights))\n",
        "\n",
        "  return pred,loss_value"
      ],
      "metadata": {
        "id": "gipi4z6RjTyk"
      },
      "execution_count": 57,
      "outputs": []
    },
    {
      "cell_type": "code",
      "source": [
        "def perform_validation(model,loss_object,test):\n",
        "  losses = []\n",
        "  for x_val,y_val in test:\n",
        "    val_pred = model(x_val)\n",
        "    val_loss = loss_object(y_true = y_val,y_pred = val_pred)\n",
        "\n",
        "    losses.append(val_loss)\n",
        "    test_acc_metrics(val_pred,y_val)\n",
        "\n",
        "  return losses"
      ],
      "metadata": {
        "id": "hGF_BrN1kldh"
      },
      "execution_count": 36,
      "outputs": []
    },
    {
      "cell_type": "code",
      "source": [
        "def train_data_for_one_epoch(train,optimizer,model,loss_object):\n",
        "  losses = []\n",
        "\n",
        "  pbar = tqdm(total = len(list(enumerate(train))),position = 0, leave = True, bar_format = '{l_bar}{bar} | {n_fmt}/{total_fmt}')\n",
        "  for atep,(x_batch_train,y_batch_train) in enumerate(train):\n",
        "    pred,loss_value = apply_gradient(optimizer,model,loss_object,x_batch_train,y_batch_train)\n",
        "    losses.append(loss_value)\n",
        "\n",
        "    train_acc_metrics(y_batch_train,pred)\n",
        "    pbar.set_description(\"Training loss for step %s: %.4f\" % (int(step),float(loss_value)))\n",
        "    pbar.update()\n",
        "\n",
        "\n",
        "  return losses"
      ],
      "metadata": {
        "id": "XrkNuYrOlN_O"
      },
      "execution_count": 65,
      "outputs": []
    },
    {
      "cell_type": "markdown",
      "source": [
        "**Transfer Learning - InceptionV3**"
      ],
      "metadata": {
        "id": "rlYbJy1ccLs0"
      }
    },
    {
      "cell_type": "code",
      "source": [
        "# Download the pre-trained weights. No top means it excludes the fully connected layer it uses for classification.\n",
        "!wget --no-check-certificate \\\n",
        "    https://storage.googleapis.com/mledu-datasets/inception_v3_weights_tf_dim_ordering_tf_kernels_notop.h5 \\\n",
        "    -O /tmp/inception_v3_weights_tf_dim_ordering_tf_kernels_notop.h5"
      ],
      "metadata": {
        "colab": {
          "base_uri": "https://localhost:8080/"
        },
        "id": "Ibiwap49kDKw",
        "outputId": "7b5c7f91-d0e8-4629-8bc9-962d78050d00"
      },
      "execution_count": 33,
      "outputs": [
        {
          "output_type": "stream",
          "name": "stdout",
          "text": [
            "--2024-05-21 15:02:46--  https://storage.googleapis.com/mledu-datasets/inception_v3_weights_tf_dim_ordering_tf_kernels_notop.h5\n",
            "Resolving storage.googleapis.com (storage.googleapis.com)... 142.251.2.207, 74.125.137.207, 142.250.141.207, ...\n",
            "Connecting to storage.googleapis.com (storage.googleapis.com)|142.251.2.207|:443... connected.\n",
            "HTTP request sent, awaiting response... 200 OK\n",
            "Length: 87910968 (84M) [application/x-hdf]\n",
            "Saving to: ‘/tmp/inception_v3_weights_tf_dim_ordering_tf_kernels_notop.h5’\n",
            "\n",
            "/tmp/inception_v3_w 100%[===================>]  83.84M   117MB/s    in 0.7s    \n",
            "\n",
            "2024-05-21 15:02:47 (117 MB/s) - ‘/tmp/inception_v3_weights_tf_dim_ordering_tf_kernels_notop.h5’ saved [87910968/87910968]\n",
            "\n"
          ]
        }
      ]
    },
    {
      "cell_type": "code",
      "source": [
        "from tensorflow.keras.applications.inception_v3 import InceptionV3\n",
        "from tensorflow.keras import optimizers\n",
        "from tensorflow.keras import Model\n",
        "from tensorflow.keras import layers\n",
        "\n",
        "\n",
        "def feature_extractor_inceptionV3(inputs):\n",
        "  # Set the weights file you downloaded into a variable\n",
        "  local_weights_file = \"/tmp/inception_v3_weights_tf_dim_ordering_tf_kernels_notop.h5\"\n",
        "\n",
        "  # Initialize the base model\n",
        "  # Set the input shape and remove the dense layer\n",
        "  feature_extractor = InceptionV3(input_shape = (300,300,3),\n",
        "                                  include_top = False,\n",
        "                                  weights = None)\n",
        "  # Load the pre-trained weights\n",
        "  feature_extractor.load_weights(local_weights_file)\n",
        "\n",
        "  # Freeze the weights of the layers\n",
        "  for layer in feature_extractor.layers:\n",
        "    layer.trainable = False\n",
        "\n",
        "  feature_extractor = feature_extractor(inputs)\n",
        "\n",
        "  return feature_extractor\n",
        "\n",
        "def classifier(inputs):\n",
        "  x = layers.GlobalAveragePooling2D()(inputs)\n",
        "  x = layers.Flatten()(x)\n",
        "  x = layers.Dense(1024,activation = 'relu')(x)\n",
        "  x = layers.Dense(512,activation = 'relu')(x)\n",
        "  x = layers.Dense(5,activation = 'softmax')(x)\n",
        "\n",
        "  return x\n",
        "\n",
        "def model_1():\n",
        "  inputs = layers.Input(shape = (30,30,3))\n",
        "  resize = layers.UpSampling2D(size = (10,10))(inputs)\n",
        "  inception = feature_extractor_inceptionV3(resize)\n",
        "  classification_output = classifier(inception)\n",
        "  model = Model(inputs = inputs,outputs = classification_output)\n",
        "\n",
        "  return model\n",
        "\n",
        "def train_model_1(epochs = 10):\n",
        "  model = model_1()\n",
        "  epochs_test_losses,epochs_train_losses = [],[]\n",
        "\n",
        "  for epoch in range(epochs):\n",
        "    print(\"Epoch : \",epoch)\n",
        "\n",
        "    losses_train = train_data_for_one_epoch(train_dataset,adam_optimizer,model,categorical_loss_object)\n",
        "    train_acc = train_acc_metrics.result()\n",
        "\n",
        "    losses_test = perform_validation(model,categorical_loss_object,test_dataset)\n",
        "    test_acc = test_acc_metrics.result()\n",
        "\n",
        "    losses_train_mean = np.mean(losses_train)\n",
        "    losses_test_mean = np.mean(losses_test)\n",
        "    epochs_train_losses.append(losses_train_mean)\n",
        "    epochs_test_losses.append(losses_test_mean)\n",
        "\n",
        "    print(\"Train loss : {6:.4f}, Validation loss : {6:.4f}, Train Accuracy : {6:.3f}, Test Accuracy : {6:.3f}\".format(\n",
        "        float(losses_train_mean),float(losses_test_mean),float(train_acc),float(test_acc)\n",
        "    ))\n",
        "\n",
        "    train_acc_metrics.reset_states()\n",
        "    test_acc_metrics.reset_states()\n",
        "\n",
        "train_model_1()"
      ],
      "metadata": {
        "id": "w7h17-y3fgGv",
        "colab": {
          "base_uri": "https://localhost:8080/",
          "height": 370
        },
        "outputId": "73361d15-9a14-48a4-aabd-b8b40b09d53e"
      },
      "execution_count": 66,
      "outputs": [
        {
          "output_type": "stream",
          "name": "stdout",
          "text": [
            "Epoch :  0\n"
          ]
        },
        {
          "output_type": "stream",
          "name": "stderr",
          "text": [
            "\r  0%|           | 0/21"
          ]
        },
        {
          "output_type": "error",
          "ename": "NameError",
          "evalue": "name 'step' is not defined",
          "traceback": [
            "\u001b[0;31m---------------------------------------------------------------------------\u001b[0m",
            "\u001b[0;31mNameError\u001b[0m                                 Traceback (most recent call last)",
            "\u001b[0;32m<ipython-input-66-4f33e7a0c066>\u001b[0m in \u001b[0;36m<cell line: 70>\u001b[0;34m()\u001b[0m\n\u001b[1;32m     68\u001b[0m     \u001b[0mtest_acc_metrics\u001b[0m\u001b[0;34m.\u001b[0m\u001b[0mreset_states\u001b[0m\u001b[0;34m(\u001b[0m\u001b[0;34m)\u001b[0m\u001b[0;34m\u001b[0m\u001b[0;34m\u001b[0m\u001b[0m\n\u001b[1;32m     69\u001b[0m \u001b[0;34m\u001b[0m\u001b[0m\n\u001b[0;32m---> 70\u001b[0;31m \u001b[0mtrain_model_1\u001b[0m\u001b[0;34m(\u001b[0m\u001b[0;34m)\u001b[0m\u001b[0;34m\u001b[0m\u001b[0;34m\u001b[0m\u001b[0m\n\u001b[0m",
            "\u001b[0;32m<ipython-input-66-4f33e7a0c066>\u001b[0m in \u001b[0;36mtrain_model_1\u001b[0;34m(epochs)\u001b[0m\n\u001b[1;32m     50\u001b[0m     \u001b[0mprint\u001b[0m\u001b[0;34m(\u001b[0m\u001b[0;34m\"Epoch : \"\u001b[0m\u001b[0;34m,\u001b[0m\u001b[0mepoch\u001b[0m\u001b[0;34m)\u001b[0m\u001b[0;34m\u001b[0m\u001b[0;34m\u001b[0m\u001b[0m\n\u001b[1;32m     51\u001b[0m \u001b[0;34m\u001b[0m\u001b[0m\n\u001b[0;32m---> 52\u001b[0;31m     \u001b[0mlosses_train\u001b[0m \u001b[0;34m=\u001b[0m \u001b[0mtrain_data_for_one_epoch\u001b[0m\u001b[0;34m(\u001b[0m\u001b[0mtrain_dataset\u001b[0m\u001b[0;34m,\u001b[0m\u001b[0madam_optimizer\u001b[0m\u001b[0;34m,\u001b[0m\u001b[0mmodel\u001b[0m\u001b[0;34m,\u001b[0m\u001b[0mcategorical_loss_object\u001b[0m\u001b[0;34m)\u001b[0m\u001b[0;34m\u001b[0m\u001b[0;34m\u001b[0m\u001b[0m\n\u001b[0m\u001b[1;32m     53\u001b[0m     \u001b[0mtrain_acc\u001b[0m \u001b[0;34m=\u001b[0m \u001b[0mtrain_acc_metrics\u001b[0m\u001b[0;34m.\u001b[0m\u001b[0mresult\u001b[0m\u001b[0;34m(\u001b[0m\u001b[0;34m)\u001b[0m\u001b[0;34m\u001b[0m\u001b[0;34m\u001b[0m\u001b[0m\n\u001b[1;32m     54\u001b[0m \u001b[0;34m\u001b[0m\u001b[0m\n",
            "\u001b[0;32m<ipython-input-65-f69ef7f1705e>\u001b[0m in \u001b[0;36mtrain_data_for_one_epoch\u001b[0;34m(train, optimizer, model, loss_object)\u001b[0m\n\u001b[1;32m      8\u001b[0m \u001b[0;34m\u001b[0m\u001b[0m\n\u001b[1;32m      9\u001b[0m     \u001b[0mtrain_acc_metrics\u001b[0m\u001b[0;34m(\u001b[0m\u001b[0my_batch_train\u001b[0m\u001b[0;34m,\u001b[0m\u001b[0mpred\u001b[0m\u001b[0;34m)\u001b[0m\u001b[0;34m\u001b[0m\u001b[0;34m\u001b[0m\u001b[0m\n\u001b[0;32m---> 10\u001b[0;31m     \u001b[0mpbar\u001b[0m\u001b[0;34m.\u001b[0m\u001b[0mset_description\u001b[0m\u001b[0;34m(\u001b[0m\u001b[0;34m\"Training loss for step %s: %.4f\"\u001b[0m \u001b[0;34m%\u001b[0m \u001b[0;34m(\u001b[0m\u001b[0mint\u001b[0m\u001b[0;34m(\u001b[0m\u001b[0mstep\u001b[0m\u001b[0;34m)\u001b[0m\u001b[0;34m,\u001b[0m\u001b[0mfloat\u001b[0m\u001b[0;34m(\u001b[0m\u001b[0mloss_value\u001b[0m\u001b[0;34m)\u001b[0m\u001b[0;34m)\u001b[0m\u001b[0;34m)\u001b[0m\u001b[0;34m\u001b[0m\u001b[0;34m\u001b[0m\u001b[0m\n\u001b[0m\u001b[1;32m     11\u001b[0m     \u001b[0mpbar\u001b[0m\u001b[0;34m.\u001b[0m\u001b[0mupdate\u001b[0m\u001b[0;34m(\u001b[0m\u001b[0;34m)\u001b[0m\u001b[0;34m\u001b[0m\u001b[0;34m\u001b[0m\u001b[0m\n\u001b[1;32m     12\u001b[0m \u001b[0;34m\u001b[0m\u001b[0m\n",
            "\u001b[0;31mNameError\u001b[0m: name 'step' is not defined"
          ]
        }
      ]
    },
    {
      "cell_type": "code",
      "source": [
        "train_generator"
      ],
      "metadata": {
        "colab": {
          "base_uri": "https://localhost:8080/"
        },
        "id": "IGrblkHlrVuk",
        "outputId": "9a330b3a-b105-47a3-c7ef-f080e90184d2"
      },
      "execution_count": 44,
      "outputs": [
        {
          "output_type": "execute_result",
          "data": {
            "text/plain": [
              "<keras.src.preprocessing.image.DataFrameIterator at 0x7c51c3382fb0>"
            ]
          },
          "metadata": {},
          "execution_count": 44
        }
      ]
    },
    {
      "cell_type": "code",
      "source": [
        "model.compile(optimizer = RMSprop(learning_rate = 0.0001),\n",
        "              loss = tf.keras.losses.CategoricalCrossentropy(),\n",
        "              metrics = ['accuracy'])"
      ],
      "metadata": {
        "id": "HoQVuIjCfunh"
      },
      "execution_count": null,
      "outputs": []
    },
    {
      "cell_type": "code",
      "source": [
        "model.fit(\n",
        "    train_generator,\n",
        "    epochs = 15,\n",
        "    batch_size = 32\n",
        ")"
      ],
      "metadata": {
        "colab": {
          "base_uri": "https://localhost:8080/"
        },
        "id": "Q37mE1JPlmjT",
        "outputId": "40bf45da-b360-4e66-c9a3-f47a499d7580"
      },
      "execution_count": null,
      "outputs": [
        {
          "output_type": "stream",
          "name": "stdout",
          "text": [
            "Epoch 1/15\n",
            "21/21 [==============================] - 13s 397ms/step - loss: 1.4437 - accuracy: 0.4444\n",
            "Epoch 2/15\n",
            "21/21 [==============================] - 7s 310ms/step - loss: 0.9682 - accuracy: 0.6265\n",
            "Epoch 3/15\n",
            "21/21 [==============================] - 13s 628ms/step - loss: 0.7800 - accuracy: 0.7083\n",
            "Epoch 4/15\n",
            "21/21 [==============================] - 14s 637ms/step - loss: 0.6822 - accuracy: 0.7593\n",
            "Epoch 5/15\n",
            "21/21 [==============================] - 7s 335ms/step - loss: 0.5845 - accuracy: 0.7994\n",
            "Epoch 6/15\n",
            "21/21 [==============================] - 10s 458ms/step - loss: 0.5260 - accuracy: 0.8241\n",
            "Epoch 7/15\n",
            "21/21 [==============================] - 8s 402ms/step - loss: 0.4573 - accuracy: 0.8472\n",
            "Epoch 8/15\n",
            "21/21 [==============================] - 6s 304ms/step - loss: 0.4137 - accuracy: 0.8642\n",
            "Epoch 9/15\n",
            "21/21 [==============================] - 8s 400ms/step - loss: 0.3771 - accuracy: 0.8843\n",
            "Epoch 10/15\n",
            "21/21 [==============================] - 7s 329ms/step - loss: 0.3163 - accuracy: 0.9151\n",
            "Epoch 11/15\n",
            "21/21 [==============================] - 8s 363ms/step - loss: 0.2731 - accuracy: 0.9336\n",
            "Epoch 12/15\n",
            "21/21 [==============================] - 7s 341ms/step - loss: 0.2494 - accuracy: 0.9275\n",
            "Epoch 13/15\n",
            "21/21 [==============================] - 6s 292ms/step - loss: 0.2173 - accuracy: 0.9522\n",
            "Epoch 14/15\n",
            "21/21 [==============================] - 8s 399ms/step - loss: 0.2120 - accuracy: 0.9491\n",
            "Epoch 15/15\n",
            "21/21 [==============================] - 6s 291ms/step - loss: 0.1841 - accuracy: 0.9630\n"
          ]
        },
        {
          "output_type": "execute_result",
          "data": {
            "text/plain": [
              "<keras.src.callbacks.History at 0x79b99cf5f820>"
            ]
          },
          "metadata": {},
          "execution_count": 69
        }
      ]
    },
    {
      "cell_type": "markdown",
      "source": [
        "# Visualize Results"
      ],
      "metadata": {
        "id": "Muuz8ZjUbjCu"
      }
    },
    {
      "cell_type": "code",
      "source": [],
      "metadata": {
        "id": "KJRL-M7GbnHL"
      },
      "execution_count": null,
      "outputs": []
    },
    {
      "cell_type": "markdown",
      "source": [
        "# Visualize Predictions"
      ],
      "metadata": {
        "id": "XxXExM1uamw6"
      }
    },
    {
      "cell_type": "code",
      "source": [
        "def display_images(images, predictions, labels, title, n):\n",
        "    fig, axes = plt.subplots(1, n, figsize=(17, 3))\n",
        "    fig.suptitle(title)\n",
        "\n",
        "    for i in range(n):\n",
        "        axes[i].imshow(images[i])\n",
        "        axes[i].set_title(f\"Pred: {predictions[i]}\\nTrue: {labels[i]}\")\n",
        "        axes[i].axis('off')\n",
        "\n",
        "    plt.show()\n",
        "\n",
        "x_batches, y_pred_batches, y_true_batches = [], [], []\n",
        "\n",
        "for x, y in test_generator:\n",
        "    y_pred = model.predict(x)\n",
        "    y_pred_batches.append(y_pred)\n",
        "    y_true_batches.append(y)\n",
        "    x_batches.append(x)\n",
        "\n",
        "    if len(y_pred_batches) >= 10:  # Stopping condition: display 10 images\n",
        "        break\n",
        "\n",
        "x_batches = np.concatenate(x_batches)\n",
        "y_pred_batches = np.concatenate(y_pred_batches)\n",
        "y_true_batches = np.concatenate(y_true_batches)\n",
        "\n",
        "indexes = np.random.choice(len(y_pred_batches), size=10)\n",
        "images_to_plot = x_batches[indexes]\n",
        "y_pred_to_plot = y_pred_batches[indexes]\n",
        "y_true_to_plot = y_true_batches[indexes]\n",
        "\n",
        "y_pred_labels = [class_names[np.argmax(sel_y_pred)] for sel_y_pred in y_pred_to_plot]\n",
        "y_true_labels = [class_names[np.argmax(sel_y_true)] for sel_y_true in y_true_to_plot]\n",
        "display_images(images_to_plot, y_pred_labels, y_true_labels, \"Predicted and True Values\", 10)"
      ],
      "metadata": {
        "colab": {
          "base_uri": "https://localhost:8080/",
          "height": 438
        },
        "id": "v0NPF3glsIL-",
        "outputId": "fec25e13-56c1-48ba-904b-f6272fa580f4"
      },
      "execution_count": null,
      "outputs": [
        {
          "output_type": "stream",
          "name": "stdout",
          "text": [
            "Found 72 validated image filenames belonging to 5 classes.\n",
            "1/1 [==============================] - 0s 248ms/step\n",
            "1/1 [==============================] - 0s 273ms/step\n",
            "1/1 [==============================] - 0s 88ms/step\n",
            "1/1 [==============================] - 0s 256ms/step\n",
            "1/1 [==============================] - 0s 266ms/step\n",
            "1/1 [==============================] - 0s 148ms/step\n",
            "1/1 [==============================] - 0s 417ms/step\n",
            "1/1 [==============================] - 0s 459ms/step\n",
            "1/1 [==============================] - 0s 154ms/step\n",
            "1/1 [==============================] - 0s 427ms/step\n"
          ]
        },
        {
          "output_type": "display_data",
          "data": {
            "text/plain": [
              "<Figure size 1700x300 with 10 Axes>"
            ],
            "image/png": "[encoded data removed]"
          },
          "metadata": {}
        }
      ]
    }
  ]
}