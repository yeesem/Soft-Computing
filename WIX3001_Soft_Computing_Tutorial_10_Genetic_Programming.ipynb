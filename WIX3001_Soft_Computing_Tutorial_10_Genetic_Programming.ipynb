{
  "nbformat": 4,
  "nbformat_minor": 0,
  "metadata": {
    "colab": {
      "provenance": [],
      "include_colab_link": true
    },
    "kernelspec": {
      "name": "python3",
      "display_name": "Python 3"
    },
    "language_info": {
      "name": "python"
    }
  },
  "cells": [
    {
      "cell_type": "markdown",
      "metadata": {
        "id": "view-in-github",
        "colab_type": "text"
      },
      "source": [
        "<a href=\"https://colab.research.google.com/github/yeesem/Soft-Computing/blob/main/WIX3001_Soft_Computing_Tutorial_10_Genetic_Programming.ipynb\" target=\"_parent\"><img src=\"https://colab.research.google.com/assets/colab-badge.svg\" alt=\"Open In Colab\"/></a>"
      ]
    },
    {
      "cell_type": "code",
      "execution_count": 1,
      "metadata": {
        "colab": {
          "base_uri": "https://localhost:8080/"
        },
        "id": "Bwvzsn_c60Kp",
        "outputId": "0294025e-1aa0-4851-ffb8-ff880eb5f851"
      },
      "outputs": [
        {
          "output_type": "stream",
          "name": "stdout",
          "text": [
            "Collecting deap\n",
            "  Downloading deap-1.4.1-cp310-cp310-manylinux_2_5_x86_64.manylinux1_x86_64.manylinux_2_17_x86_64.manylinux2014_x86_64.whl (135 kB)\n",
            "\u001b[?25l     \u001b[90m━━━━━━━━━━━━━━━━━━━━━━━━━━━━━━━━━━━━━━━━\u001b[0m \u001b[32m0.0/135.4 kB\u001b[0m \u001b[31m?\u001b[0m eta \u001b[36m-:--:--\u001b[0m\r\u001b[2K     \u001b[91m━━━━━━━━━━━━━━━━━━\u001b[0m\u001b[90m╺\u001b[0m\u001b[90m━━━━━━━━━━━━━━━━━━━━━\u001b[0m \u001b[32m61.4/135.4 kB\u001b[0m \u001b[31m1.8 MB/s\u001b[0m eta \u001b[36m0:00:01\u001b[0m\r\u001b[2K     \u001b[90m━━━━━━━━━━━━━━━━━━━━━━━━━━━━━━━━━━━━━━━━\u001b[0m \u001b[32m135.4/135.4 kB\u001b[0m \u001b[31m2.4 MB/s\u001b[0m eta \u001b[36m0:00:00\u001b[0m\n",
            "\u001b[?25hRequirement already satisfied: numpy in /usr/local/lib/python3.10/dist-packages (from deap) (1.25.2)\n",
            "Installing collected packages: deap\n",
            "Successfully installed deap-1.4.1\n"
          ]
        }
      ],
      "source": [
        "!pip install deap"
      ]
    },
    {
      "cell_type": "code",
      "source": [
        "import operator\n",
        "import random\n",
        "import numpy as np\n",
        "import matplotlib.pyplot as plt\n",
        "from deap import base, creator, gp, tools , algorithms\n"
      ],
      "metadata": {
        "id": "X62E0m309Wkt"
      },
      "execution_count": 7,
      "outputs": []
    },
    {
      "cell_type": "code",
      "source": [
        "# Define the dataset\n",
        "x = np.linspace(-1, 1, 100)\n",
        "y = np.sin(x) + np.random.normal(0, 0.1, size=len(x))"
      ],
      "metadata": {
        "id": "7kffW7Zw-Nvg"
      },
      "execution_count": 3,
      "outputs": []
    },
    {
      "cell_type": "code",
      "source": [
        "# Define the evaluation function\n",
        "def eval_sine(individual, x):\n",
        "    # Compile the expression\n",
        "    func = toolbox.compile(expr=individual)\n",
        "    # Evaluate the expression on the data points\n",
        "    y_pred = [func(xi) for xi in x]\n",
        "    # Calculate Mean Squared Error (MSE)\n",
        "    return np.mean((y_pred - y) ** 2),"
      ],
      "metadata": {
        "id": "gZlCokE--bcL"
      },
      "execution_count": 4,
      "outputs": []
    },
    {
      "cell_type": "code",
      "source": [
        "# Create a primitive set for the GP\n",
        "pset = gp.PrimitiveSet(\"MAIN\", arity=1)\n",
        "pset.addPrimitive(np.add, arity=2)\n",
        "pset.addPrimitive(np.subtract, arity=2)\n",
        "pset.addPrimitive(np.multiply, arity=2)\n",
        "pset.addPrimitive(np.divide, arity=2)\n",
        "pset.addPrimitive(np.sin, arity=1)\n",
        "pset.addPrimitive(np.cos, arity=1)\n",
        "pset.addPrimitive(np.exp, arity=1)\n",
        "pset.addPrimitive(np.sqrt, arity=1)\n",
        "pset.addPrimitive(np.abs, arity=1)\n",
        "pset.addPrimitive(np.square, arity=1)\n",
        "pset.addEphemeralConstant(\"rand\", lambda: random.uniform(-1, 1))\n",
        "\n",
        "# Define the type of the individual (program) and the fitness\n",
        "creator.create(\"FitnessMin\", base.Fitness, weights=(-1.0,))\n",
        "creator.create(\"Individual\", gp.PrimitiveTree, fitness=creator.FitnessMin)\n",
        "\n",
        "# Create the toolbox\n",
        "toolbox = base.Toolbox()\n",
        "toolbox.register(\"expr\", gp.genHalfAndHalf, pset=pset, min_=1, max_=3)\n",
        "toolbox.register(\"individual\", tools.initIterate, creator.Individual, toolbox.expr)\n",
        "toolbox.register(\"population\", tools.initRepeat, list, toolbox.individual)\n",
        "toolbox.register(\"compile\", gp.compile, pset=pset)\n",
        "toolbox.register(\"evaluate\", eval_sine, x=x)\n",
        "toolbox.register(\"mate\", gp.cxOnePoint)\n",
        "toolbox.register(\"mutate\", gp.mutNodeReplacement, pset=pset)\n",
        "toolbox.register(\"select\", tools.selTournament, tournsize=3)\n",
        "\n",
        "# Set limits for tree depth\n",
        "toolbox.decorate(\"mate\", gp.staticLimit(key=operator.attrgetter(\"height\"), max_value=15))\n",
        "toolbox.decorate(\"mutate\", gp.staticLimit(key=operator.attrgetter(\"height\"), max_value=15))"
      ],
      "metadata": {
        "colab": {
          "base_uri": "https://localhost:8080/"
        },
        "id": "13TQqIKo-9bi",
        "outputId": "7958ffc4-7348-43f9-cced-f2f9942aef66"
      },
      "execution_count": 5,
      "outputs": [
        {
          "output_type": "stream",
          "name": "stderr",
          "text": [
            "/usr/local/lib/python3.10/dist-packages/deap/gp.py:254: RuntimeWarning: Ephemeral rand function cannot be pickled because its generating function is a lambda function. Use functools.partial instead.\n",
            "  warnings.warn(\"Ephemeral {name} function cannot be \"\n"
          ]
        }
      ]
    },
    {
      "cell_type": "code",
      "source": [
        "# Define parameters\n",
        "population_size = 100\n",
        "generations = 50\n",
        "cxpb = 0.7\n",
        "mutpb = 0.3\n",
        "\n",
        "# Initialize population\n",
        "population = toolbox.population(n=population_size)\n",
        "\n",
        "# Run the evolution\n",
        "for gen in range(generations):\n",
        "    offspring = algorithms.varAnd(population, toolbox, cxpb=cxpb, mutpb=mutpb)\n",
        "    fitnesses = toolbox.map(toolbox.evaluate, offspring)\n",
        "    for ind, fit in zip(offspring, fitnesses):\n",
        "        ind.fitness.values = fit\n",
        "    population = toolbox.select(offspring, k=len(population))\n",
        "\n",
        "# Get the best individual\n",
        "best_individual = tools.selBest(population, k=1)[0]\n",
        "best_expression = toolbox.compile(expr=best_individual)\n",
        "print(\"Best Expression:\", best_expression)\n",
        "\n",
        "# Plot the best individual\n",
        "plt.figure(figsize=(8, 6))\n",
        "plt.scatter(x, y, color='blue', label='Data')\n",
        "plt.plot(x, [best_expression(xi) for xi in x], color='red', label='Best Fit')\n",
        "plt.legend()\n",
        "plt.xlabel('x')\n",
        "plt.ylabel('y')\n",
        "plt.title('Symbolic Regression with Genetic Programming')\n",
        "plt.show()"
      ],
      "metadata": {
        "colab": {
          "base_uri": "https://localhost:8080/",
          "height": 599
        },
        "id": "VpJmIOjF---d",
        "outputId": "1583aaf4-01dc-4bc3-b711-d235423a201b"
      },
      "execution_count": 8,
      "outputs": [
        {
          "output_type": "stream",
          "name": "stderr",
          "text": [
            "<string>:1: RuntimeWarning: invalid value encountered in sqrt\n"
          ]
        },
        {
          "output_type": "stream",
          "name": "stdout",
          "text": [
            "Best Expression: <function <lambda> at 0x790793ce7eb0>\n"
          ]
        },
        {
          "output_type": "display_data",
          "data": {
            "text/plain": [
              "<Figure size 800x600 with 1 Axes>"
            ],
            "image/png": "[encoded data removed]"
          },
          "metadata": {}
        }
      ]
    },
    {
      "cell_type": "code",
      "source": [
        "population_sizes = [50, 100, 200]\n",
        "num_generations = [50, 100, 200]\n",
        "crossover_probs = [0.5, 0.7, 0.9]\n",
        "mutation_probs = [0.1, 0.3, 0.5]"
      ],
      "metadata": {
        "id": "UYBDAmw0Cs56"
      },
      "execution_count": 9,
      "outputs": []
    },
    {
      "cell_type": "code",
      "source": [
        "def runGP(popsize, maxgen, rate_cr, rate_mu):\n",
        "  population = toolbox.population(n=popsize)\n",
        "  record_fitness = {\n",
        "      'bestfit': [],\n",
        "      'avgfit': [],\n",
        "      'generation': []\n",
        "  }\n",
        "\n",
        "  # Run the evolution\n",
        "  for gen in range(maxgen):\n",
        "      offspring = algorithms.varAnd(population, toolbox, cxpb=rate_cr, mutpb=rate_mu)\n",
        "      fitnesses = toolbox.map(toolbox.evaluate, offspring)\n",
        "\n",
        "      fit_total = 0\n",
        "      for ind, fit in zip(offspring, fitnesses):\n",
        "          ind.fitness.values = fit\n",
        "          fit_total += fit[0]\n",
        "      population = toolbox.select(offspring, k=len(population))\n",
        "\n",
        "      record_fitness['bestfit'] += [tools.selBest(population, k=1)[0].fitness.values[0]]\n",
        "      record_fitness['avgfit'] += [fit_total/popsize]\n",
        "      record_fitness['generation'] += [gen]\n",
        "\n",
        "  return population, record_fitness"
      ],
      "metadata": {
        "id": "7vMNRGWyDRaf"
      },
      "execution_count": 10,
      "outputs": []
    },
    {
      "cell_type": "code",
      "source": [
        "# Define lists to store results\n",
        "results = {\n",
        "    'bestindividual': [],\n",
        "    'bestfitness': [],\n",
        "    'avgfitness': [],\n",
        "    'progression': [],\n",
        "    'popsize': [],\n",
        "    'generations': [],\n",
        "    'crossover': [],\n",
        "    'mutation': []\n",
        "}"
      ],
      "metadata": {
        "id": "X2eMgKd1C3II"
      },
      "execution_count": 11,
      "outputs": []
    },
    {
      "cell_type": "code",
      "source": [
        "for popsize in population_sizes:\n",
        "  for maxgen in num_generations:\n",
        "    for rate_cr in crossover_probs:\n",
        "      for rate_mu in mutation_probs:\n",
        "        print(\"Running for popsize {}, maxgen {}, cro {}, mut {}\".format(popsize, maxgen, rate_cr, rate_mu))\n",
        "\n",
        "        population, record_fitness = runGP(popsize, maxgen, rate_cr, rate_mu)\n",
        "\n",
        "        # Get the best individual and its fitness\n",
        "        results['bestindividual'] += [tools.selBest(population, k=1)[0]]\n",
        "        results['bestfitness'] += [results['bestindividual'][-1].fitness.values[0]]\n",
        "\n",
        "        results['progression'] += [record_fitness]\n",
        "\n",
        "        # Average fitness\n",
        "        total_fitness = 0.0\n",
        "        for ind in population:\n",
        "            total_fitness += ind.fitness.values[0]\n",
        "        results['avgfitness'] += [total_fitness / len(population)]\n",
        "\n",
        "        results['popsize'] += [popsize]\n",
        "        results['generations'] += [maxgen]\n",
        "        results['crossover'] += [rate_cr]\n",
        "        results['mutation'] += [rate_mu]"
      ],
      "metadata": {
        "colab": {
          "base_uri": "https://localhost:8080/"
        },
        "id": "sThKCrULEEa6",
        "outputId": "86973975-006d-45df-ca5f-0ad39000a669"
      },
      "execution_count": 12,
      "outputs": [
        {
          "output_type": "stream",
          "name": "stdout",
          "text": [
            "Running for popsize 50, maxgen 50, cro 0.5, mut 0.1\n",
            "Running for popsize 50, maxgen 50, cro 0.5, mut 0.3\n",
            "Running for popsize 50, maxgen 50, cro 0.5, mut 0.5\n"
          ]
        },
        {
          "output_type": "stream",
          "name": "stderr",
          "text": [
            "<string>:1: RuntimeWarning: divide by zero encountered in divide\n"
          ]
        },
        {
          "output_type": "stream",
          "name": "stdout",
          "text": [
            "Running for popsize 50, maxgen 50, cro 0.7, mut 0.1\n",
            "Running for popsize 50, maxgen 50, cro 0.7, mut 0.3\n",
            "Running for popsize 50, maxgen 50, cro 0.7, mut 0.5\n",
            "Running for popsize 50, maxgen 50, cro 0.9, mut 0.1\n",
            "Running for popsize 50, maxgen 50, cro 0.9, mut 0.3\n",
            "Running for popsize 50, maxgen 50, cro 0.9, mut 0.5\n",
            "Running for popsize 50, maxgen 100, cro 0.5, mut 0.1\n",
            "Running for popsize 50, maxgen 100, cro 0.5, mut 0.3\n",
            "Running for popsize 50, maxgen 100, cro 0.5, mut 0.5\n"
          ]
        },
        {
          "output_type": "stream",
          "name": "stderr",
          "text": [
            "<string>:1: RuntimeWarning: invalid value encountered in sin\n"
          ]
        },
        {
          "output_type": "stream",
          "name": "stdout",
          "text": [
            "Running for popsize 50, maxgen 100, cro 0.7, mut 0.1\n",
            "Running for popsize 50, maxgen 100, cro 0.7, mut 0.3\n",
            "Running for popsize 50, maxgen 100, cro 0.7, mut 0.5\n",
            "Running for popsize 50, maxgen 100, cro 0.9, mut 0.1\n",
            "Running for popsize 50, maxgen 100, cro 0.9, mut 0.3\n",
            "Running for popsize 50, maxgen 100, cro 0.9, mut 0.5\n",
            "Running for popsize 50, maxgen 200, cro 0.5, mut 0.1\n",
            "Running for popsize 50, maxgen 200, cro 0.5, mut 0.3\n",
            "Running for popsize 50, maxgen 200, cro 0.5, mut 0.5\n",
            "Running for popsize 50, maxgen 200, cro 0.7, mut 0.1\n",
            "Running for popsize 50, maxgen 200, cro 0.7, mut 0.3\n",
            "Running for popsize 50, maxgen 200, cro 0.7, mut 0.5\n",
            "Running for popsize 50, maxgen 200, cro 0.9, mut 0.1\n",
            "Running for popsize 50, maxgen 200, cro 0.9, mut 0.3\n",
            "Running for popsize 50, maxgen 200, cro 0.9, mut 0.5\n"
          ]
        },
        {
          "output_type": "stream",
          "name": "stderr",
          "text": [
            "<string>:1: RuntimeWarning: overflow encountered in exp\n",
            "<string>:1: RuntimeWarning: invalid value encountered in cos\n"
          ]
        },
        {
          "output_type": "stream",
          "name": "stdout",
          "text": [
            "Running for popsize 100, maxgen 50, cro 0.5, mut 0.1\n",
            "Running for popsize 100, maxgen 50, cro 0.5, mut 0.3\n",
            "Running for popsize 100, maxgen 50, cro 0.5, mut 0.5\n",
            "Running for popsize 100, maxgen 50, cro 0.7, mut 0.1\n",
            "Running for popsize 100, maxgen 50, cro 0.7, mut 0.3\n",
            "Running for popsize 100, maxgen 50, cro 0.7, mut 0.5\n",
            "Running for popsize 100, maxgen 50, cro 0.9, mut 0.1\n",
            "Running for popsize 100, maxgen 50, cro 0.9, mut 0.3\n",
            "Running for popsize 100, maxgen 50, cro 0.9, mut 0.5\n",
            "Running for popsize 100, maxgen 100, cro 0.5, mut 0.1\n",
            "Running for popsize 100, maxgen 100, cro 0.5, mut 0.3\n",
            "Running for popsize 100, maxgen 100, cro 0.5, mut 0.5\n",
            "Running for popsize 100, maxgen 100, cro 0.7, mut 0.1\n",
            "Running for popsize 100, maxgen 100, cro 0.7, mut 0.3\n",
            "Running for popsize 100, maxgen 100, cro 0.7, mut 0.5\n",
            "Running for popsize 100, maxgen 100, cro 0.9, mut 0.1\n",
            "Running for popsize 100, maxgen 100, cro 0.9, mut 0.3\n"
          ]
        },
        {
          "output_type": "stream",
          "name": "stderr",
          "text": [
            "<ipython-input-4-a8c5f503a672>:8: RuntimeWarning: overflow encountered in square\n",
            "  return np.mean((y_pred - y) ** 2),\n"
          ]
        },
        {
          "output_type": "stream",
          "name": "stdout",
          "text": [
            "Running for popsize 100, maxgen 100, cro 0.9, mut 0.5\n",
            "Running for popsize 100, maxgen 200, cro 0.5, mut 0.1\n"
          ]
        },
        {
          "output_type": "stream",
          "name": "stderr",
          "text": [
            "<string>:1: RuntimeWarning: invalid value encountered in multiply\n"
          ]
        },
        {
          "output_type": "stream",
          "name": "stdout",
          "text": [
            "Running for popsize 100, maxgen 200, cro 0.5, mut 0.3\n",
            "Running for popsize 100, maxgen 200, cro 0.5, mut 0.5\n",
            "Running for popsize 100, maxgen 200, cro 0.7, mut 0.1\n"
          ]
        },
        {
          "output_type": "stream",
          "name": "stderr",
          "text": [
            "<string>:1: RuntimeWarning: invalid value encountered in divide\n"
          ]
        },
        {
          "output_type": "stream",
          "name": "stdout",
          "text": [
            "Running for popsize 100, maxgen 200, cro 0.7, mut 0.3\n",
            "Running for popsize 100, maxgen 200, cro 0.7, mut 0.5\n",
            "Running for popsize 100, maxgen 200, cro 0.9, mut 0.1\n",
            "Running for popsize 100, maxgen 200, cro 0.9, mut 0.3\n",
            "Running for popsize 100, maxgen 200, cro 0.9, mut 0.5\n",
            "Running for popsize 200, maxgen 50, cro 0.5, mut 0.1\n",
            "Running for popsize 200, maxgen 50, cro 0.5, mut 0.3\n",
            "Running for popsize 200, maxgen 50, cro 0.5, mut 0.5\n",
            "Running for popsize 200, maxgen 50, cro 0.7, mut 0.1\n",
            "Running for popsize 200, maxgen 50, cro 0.7, mut 0.3\n",
            "Running for popsize 200, maxgen 50, cro 0.7, mut 0.5\n",
            "Running for popsize 200, maxgen 50, cro 0.9, mut 0.1\n",
            "Running for popsize 200, maxgen 50, cro 0.9, mut 0.3\n",
            "Running for popsize 200, maxgen 50, cro 0.9, mut 0.5\n",
            "Running for popsize 200, maxgen 100, cro 0.5, mut 0.1\n",
            "Running for popsize 200, maxgen 100, cro 0.5, mut 0.3\n",
            "Running for popsize 200, maxgen 100, cro 0.5, mut 0.5\n",
            "Running for popsize 200, maxgen 100, cro 0.7, mut 0.1\n",
            "Running for popsize 200, maxgen 100, cro 0.7, mut 0.3\n",
            "Running for popsize 200, maxgen 100, cro 0.7, mut 0.5\n",
            "Running for popsize 200, maxgen 100, cro 0.9, mut 0.1\n",
            "Running for popsize 200, maxgen 100, cro 0.9, mut 0.3\n",
            "Running for popsize 200, maxgen 100, cro 0.9, mut 0.5\n",
            "Running for popsize 200, maxgen 200, cro 0.5, mut 0.1\n",
            "Running for popsize 200, maxgen 200, cro 0.5, mut 0.3\n",
            "Running for popsize 200, maxgen 200, cro 0.5, mut 0.5\n",
            "Running for popsize 200, maxgen 200, cro 0.7, mut 0.1\n",
            "Running for popsize 200, maxgen 200, cro 0.7, mut 0.3\n",
            "Running for popsize 200, maxgen 200, cro 0.7, mut 0.5\n",
            "Running for popsize 200, maxgen 200, cro 0.9, mut 0.1\n",
            "Running for popsize 200, maxgen 200, cro 0.9, mut 0.3\n",
            "Running for popsize 200, maxgen 200, cro 0.9, mut 0.5\n"
          ]
        }
      ]
    }
  ]
}