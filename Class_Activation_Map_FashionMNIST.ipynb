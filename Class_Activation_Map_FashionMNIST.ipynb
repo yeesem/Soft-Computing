{
  "nbformat": 4,
  "nbformat_minor": 0,
  "metadata": {
    "colab": {
      "provenance": [],
      "authorship_tag": "ABX9TyMtvyRItAP4ObsbmRXJ+hkb",
      "include_colab_link": true
    },
    "kernelspec": {
      "name": "python3",
      "display_name": "Python 3"
    },
    "language_info": {
      "name": "python"
    }
  },
  "cells": [
    {
      "cell_type": "markdown",
      "metadata": {
        "id": "view-in-github",
        "colab_type": "text"
      },
      "source": [
        "<a href=\"https://colab.research.google.com/github/yeesem/Soft-Computing/blob/main/Class_Activation_Map_FashionMNIST.ipynb\" target=\"_parent\"><img src=\"https://colab.research.google.com/assets/colab-badge.svg\" alt=\"Open In Colab\"/></a>"
      ]
    },
    {
      "cell_type": "markdown",
      "source": [
        "# Import"
      ],
      "metadata": {
        "id": "V_FUdqN3BM7K"
      }
    },
    {
      "cell_type": "code",
      "execution_count": 2,
      "metadata": {
        "id": "4hDYbMYkBAkD"
      },
      "outputs": [],
      "source": [
        "import keras\n",
        "from keras.datasets import fashion_mnist\n",
        "import numpy as np\n",
        "import matplotlib.pyplot as plt\n",
        "from keras.models import Sequential,Model\n",
        "from keras.layers import Dense,Conv2D,MaxPooling2D,GlobalAveragePooling2D\n",
        "import scipy as sp"
      ]
    },
    {
      "cell_type": "markdown",
      "source": [
        "# Download and Prepare the Data"
      ],
      "metadata": {
        "id": "k21sE4KqJVdT"
      }
    },
    {
      "cell_type": "code",
      "source": [
        "# Load the Fashion MNIST Dataset\n",
        "(X_train,Y_train),(X_test,Y_test) = fashion_mnist.load_data()"
      ],
      "metadata": {
        "colab": {
          "base_uri": "https://localhost:8080/"
        },
        "id": "89vrylF3JU9M",
        "outputId": "ca5659d1-db28-4c1c-b532-e84836dbe204"
      },
      "execution_count": 3,
      "outputs": [
        {
          "output_type": "stream",
          "name": "stdout",
          "text": [
            "Downloading data from https://storage.googleapis.com/tensorflow/tf-keras-datasets/train-labels-idx1-ubyte.gz\n",
            "29515/29515 [==============================] - 0s 0us/step\n",
            "Downloading data from https://storage.googleapis.com/tensorflow/tf-keras-datasets/train-images-idx3-ubyte.gz\n",
            "26421880/26421880 [==============================] - 0s 0us/step\n",
            "Downloading data from https://storage.googleapis.com/tensorflow/tf-keras-datasets/t10k-labels-idx1-ubyte.gz\n",
            "5148/5148 [==============================] - 0s 0us/step\n",
            "Downloading data from https://storage.googleapis.com/tensorflow/tf-keras-datasets/t10k-images-idx3-ubyte.gz\n",
            "4422102/4422102 [==============================] - 0s 0us/step\n"
          ]
        }
      ]
    },
    {
      "cell_type": "code",
      "source": [
        "# Put an additional axis for the channels of the image\n",
        "# Fashion MNIST is grayscale so we place 1 at the end\n",
        "# 3 is placed if it is in RGB\n",
        "X_train = X_train.reshape(60000,28,28,1)\n",
        "X_test = X_test.reshape(10000,28,28,1)\n",
        "\n",
        "# Normalize the pixel values from 0 - 1\n",
        "X_train = X_train/255.0\n",
        "X_test = X_test/255.0\n",
        "\n",
        "# Cast to float\n",
        "X_train = X_train.astype('float')\n",
        "X_test = X_test.astype('float')"
      ],
      "metadata": {
        "id": "6Ju3sjOQJnJ0"
      },
      "execution_count": 4,
      "outputs": []
    },
    {
      "cell_type": "code",
      "source": [
        "def show_img(img):\n",
        "  # convert to float array if img is not yet preprocessed\n",
        "  img = np.array(img,dtype = 'float')\n",
        "\n",
        "  # remove channel dimension\n",
        "  img = img.reshape((28,28))\n",
        "\n",
        "  # Display image\n",
        "  plt.imshow(img)"
      ],
      "metadata": {
        "id": "wsAGKvzWKodF"
      },
      "execution_count": 5,
      "outputs": []
    },
    {
      "cell_type": "code",
      "source": [
        "# Test the function for the first train imaeg\n",
        "show_img(X_train[1])"
      ],
      "metadata": {
        "colab": {
          "base_uri": "https://localhost:8080/",
          "height": 430
        },
        "id": "d7BhtvIKK_RW",
        "outputId": "a1a2006e-d036-419d-bebb-ffe6249f08b7"
      },
      "execution_count": 6,
      "outputs": [
        {
          "output_type": "display_data",
          "data": {
            "text/plain": [
              "<Figure size 640x480 with 1 Axes>"
            ],
            "image/png": "[encoded data removed]"
          },
          "metadata": {}
        }
      ]
    },
    {
      "cell_type": "markdown",
      "source": [
        "# Build the Classifier"
      ],
      "metadata": {
        "id": "KrPS2FIpMgUB"
      }
    },
    {
      "cell_type": "code",
      "source": [
        "# Use the Sequential API\n",
        "model = Sequential()\n",
        "\n",
        "# Notice the padding parameter to recover the lost border pixels when\n",
        "# doing the convolution\n",
        "model.add(Conv2D(16,input_shape = (28,28,1),kernel_size = (3,3),activation = 'relu',padding = 'same'))\n",
        "# Pooling layer with a stride of 2 will reduce the image dimentions by half\n",
        "model.add(MaxPooling2D(pool_size = (2,2)))\n",
        "\n",
        "model.add(Conv2D(32,kernel_size = (3,3),activation = 'relu',padding = 'same'))\n",
        "model.add(MaxPooling2D(pool_size = (2,2)))\n",
        "\n",
        "model.add(Conv2D(64,kernel_size = (3,3),activation = 'relu',padding = 'same'))\n",
        "model.add(MaxPooling2D(pool_size = (2,2)))\n",
        "\n",
        "model.add(Conv2D(128,kernel_size = (3,3),activation = 'relu',padding = 'same'))\n",
        "\n",
        "# Use global average pooling to take into account lesser intensity pixels\n",
        "model.add(GlobalAveragePooling2D())\n",
        "\n",
        "# Output class probabilities\n",
        "model.add(Dense(10,activation = 'softmax'))\n",
        "\n",
        "model.summary()"
      ],
      "metadata": {
        "colab": {
          "base_uri": "https://localhost:8080/"
        },
        "id": "oG1-96JVLHkc",
        "outputId": "4d219068-300c-4af8-b6d2-3426b48ac93f"
      },
      "execution_count": 7,
      "outputs": [
        {
          "output_type": "stream",
          "name": "stdout",
          "text": [
            "Model: \"sequential\"\n",
            "_________________________________________________________________\n",
            " Layer (type)                Output Shape              Param #   \n",
            "=================================================================\n",
            " conv2d (Conv2D)             (None, 28, 28, 16)        160       \n",
            "                                                                 \n",
            " max_pooling2d (MaxPooling2  (None, 14, 14, 16)        0         \n",
            " D)                                                              \n",
            "                                                                 \n",
            " conv2d_1 (Conv2D)           (None, 14, 14, 32)        4640      \n",
            "                                                                 \n",
            " max_pooling2d_1 (MaxPoolin  (None, 7, 7, 32)          0         \n",
            " g2D)                                                            \n",
            "                                                                 \n",
            " conv2d_2 (Conv2D)           (None, 7, 7, 64)          18496     \n",
            "                                                                 \n",
            " max_pooling2d_2 (MaxPoolin  (None, 3, 3, 64)          0         \n",
            " g2D)                                                            \n",
            "                                                                 \n",
            " conv2d_3 (Conv2D)           (None, 3, 3, 128)         73856     \n",
            "                                                                 \n",
            " global_average_pooling2d (  (None, 128)               0         \n",
            " GlobalAveragePooling2D)                                         \n",
            "                                                                 \n",
            " dense (Dense)               (None, 10)                1290      \n",
            "                                                                 \n",
            "=================================================================\n",
            "Total params: 98442 (384.54 KB)\n",
            "Trainable params: 98442 (384.54 KB)\n",
            "Non-trainable params: 0 (0.00 Byte)\n",
            "_________________________________________________________________\n"
          ]
        }
      ]
    },
    {
      "cell_type": "markdown",
      "source": [
        "# Train the Model"
      ],
      "metadata": {
        "id": "ZGpofHPXPTTE"
      }
    },
    {
      "cell_type": "code",
      "source": [
        "# Configure the training\n",
        "model.compile(\n",
        "    loss = 'sparse_categorical_crossentropy',\n",
        "    metrics = ['accuracy'],\n",
        "    optimizer = 'adam'\n",
        ")\n",
        "\n",
        "# Train the model\n",
        "# shuffle=True ensures that your training data is randomly mixed before\n",
        "# each epoch, which can help improve the performance and generalization of your machine learning model.\n",
        "model.fit(\n",
        "    X_train,\n",
        "    Y_train,\n",
        "    batch_size = 32,\n",
        "    epochs = 5,\n",
        "    validation_split = 0.1,\n",
        "    shuffle = True\n",
        ")"
      ],
      "metadata": {
        "colab": {
          "base_uri": "https://localhost:8080/"
        },
        "id": "1SD4mHEuPWnG",
        "outputId": "21000f51-9996-4973-ca7f-354c5925f14d"
      },
      "execution_count": 8,
      "outputs": [
        {
          "output_type": "stream",
          "name": "stdout",
          "text": [
            "Epoch 1/5\n",
            "1688/1688 [==============================] - 55s 31ms/step - loss: 0.6060 - accuracy: 0.7755 - val_loss: 0.4197 - val_accuracy: 0.8460\n",
            "Epoch 2/5\n",
            "1688/1688 [==============================] - 64s 38ms/step - loss: 0.3731 - accuracy: 0.8644 - val_loss: 0.3269 - val_accuracy: 0.8803\n",
            "Epoch 3/5\n",
            "1688/1688 [==============================] - 68s 40ms/step - loss: 0.3137 - accuracy: 0.8841 - val_loss: 0.3047 - val_accuracy: 0.8843\n",
            "Epoch 4/5\n",
            "1688/1688 [==============================] - 75s 44ms/step - loss: 0.2755 - accuracy: 0.8984 - val_loss: 0.2737 - val_accuracy: 0.9020\n",
            "Epoch 5/5\n",
            "1688/1688 [==============================] - 59s 35ms/step - loss: 0.2509 - accuracy: 0.9084 - val_loss: 0.2583 - val_accuracy: 0.9085\n"
          ]
        },
        {
          "output_type": "execute_result",
          "data": {
            "text/plain": [
              "<keras.src.callbacks.History at 0x7dca440bd480>"
            ]
          },
          "metadata": {},
          "execution_count": 8
        }
      ]
    },
    {
      "cell_type": "markdown",
      "source": [
        "# Generate the Class Activation Map"
      ],
      "metadata": {
        "id": "xA5vZuTLQluR"
      }
    },
    {
      "cell_type": "code",
      "source": [
        "# Final convolution layer\n",
        "print(model.layers[-3].name)\n",
        "\n",
        "# global average pooling layer\n",
        "print(model.layers[-2].name)\n",
        "\n",
        "# output of the classifier\n",
        "print(model.layers[-1].name)"
      ],
      "metadata": {
        "colab": {
          "base_uri": "https://localhost:8080/"
        },
        "id": "u08i_eI_Qqbs",
        "outputId": "38a98cd9-a198-46de-f87d-696bcdfa0035"
      },
      "execution_count": 9,
      "outputs": [
        {
          "output_type": "stream",
          "name": "stdout",
          "text": [
            "conv2d_3\n",
            "global_average_pooling2d\n",
            "dense\n"
          ]
        }
      ]
    },
    {
      "cell_type": "code",
      "source": [
        "# Save as previous model but with an additional output\n",
        "cam_model = Model(inputs = model.input,\n",
        "                  outputs = (model.layers[-3].output,model.layers[-1].output)\n",
        "                  )\n",
        "\n",
        "cam_model.summary()"
      ],
      "metadata": {
        "colab": {
          "base_uri": "https://localhost:8080/"
        },
        "id": "xTch6VwfRH1F",
        "outputId": "8b56feb6-d199-4148-f8bc-bbef135d6ef0"
      },
      "execution_count": 10,
      "outputs": [
        {
          "output_type": "stream",
          "name": "stdout",
          "text": [
            "Model: \"model\"\n",
            "_________________________________________________________________\n",
            " Layer (type)                Output Shape              Param #   \n",
            "=================================================================\n",
            " conv2d_input (InputLayer)   [(None, 28, 28, 1)]       0         \n",
            "                                                                 \n",
            " conv2d (Conv2D)             (None, 28, 28, 16)        160       \n",
            "                                                                 \n",
            " max_pooling2d (MaxPooling2  (None, 14, 14, 16)        0         \n",
            " D)                                                              \n",
            "                                                                 \n",
            " conv2d_1 (Conv2D)           (None, 14, 14, 32)        4640      \n",
            "                                                                 \n",
            " max_pooling2d_1 (MaxPoolin  (None, 7, 7, 32)          0         \n",
            " g2D)                                                            \n",
            "                                                                 \n",
            " conv2d_2 (Conv2D)           (None, 7, 7, 64)          18496     \n",
            "                                                                 \n",
            " max_pooling2d_2 (MaxPoolin  (None, 3, 3, 64)          0         \n",
            " g2D)                                                            \n",
            "                                                                 \n",
            " conv2d_3 (Conv2D)           (None, 3, 3, 128)         73856     \n",
            "                                                                 \n",
            " global_average_pooling2d (  (None, 128)               0         \n",
            " GlobalAveragePooling2D)                                         \n",
            "                                                                 \n",
            " dense (Dense)               (None, 10)                1290      \n",
            "                                                                 \n",
            "=================================================================\n",
            "Total params: 98442 (384.54 KB)\n",
            "Trainable params: 98442 (384.54 KB)\n",
            "Non-trainable params: 0 (0.00 Byte)\n",
            "_________________________________________________________________\n"
          ]
        }
      ]
    },
    {
      "cell_type": "code",
      "source": [
        "# Get the features and results of the test images using the\n",
        "# newly created model\n",
        "features,results = cam_model.predict(X_test)\n",
        "\n",
        "# Shape of the features\n",
        "print(\"Features shape : \",features.shape)\n",
        "print(\"Results  shape : \",results.shape)"
      ],
      "metadata": {
        "colab": {
          "base_uri": "https://localhost:8080/"
        },
        "id": "JQ7lOWLLRdzQ",
        "outputId": "67948ee9-58dd-4a61-a75b-a96323f25d91"
      },
      "execution_count": 11,
      "outputs": [
        {
          "output_type": "stream",
          "name": "stdout",
          "text": [
            "313/313 [==============================] - 3s 9ms/step\n",
            "Features shape :  (10000, 3, 3, 128)\n",
            "Results  shape :  (10000, 10)\n"
          ]
        }
      ]
    },
    {
      "cell_type": "code",
      "source": [
        "# these are the weights going into the softmax layer\n",
        "last_dense_layer = model.layers[-1]\n",
        "\n",
        "# Get the weights list. index 0 contains the weights, index 1\n",
        "# contains the biases\n",
        "gap_weights_l = last_dense_layer.get_weights()\n",
        "\n",
        "print(\"gap_weights_l index 0 contains weights \",gap_weights_l[0].shape)\n",
        "print(\"gap_weights_l index 1 contains weights \",gap_weights_l[1].shape)\n",
        "\n",
        "# Show the number of features per class, and the total number of classes\n",
        "# Store the weights\n",
        "gap_weights = gap_weights_l[0]\n",
        "\n",
        "print(f\"There are {gap_weights.shape[0]} feature weights and {gap_weights.shape[1]} classes.\")"
      ],
      "metadata": {
        "colab": {
          "base_uri": "https://localhost:8080/"
        },
        "id": "53hETgLPTgij",
        "outputId": "07681ce8-ff7a-4538-f845-e790191214f0"
      },
      "execution_count": 12,
      "outputs": [
        {
          "output_type": "stream",
          "name": "stdout",
          "text": [
            "gap_weights_l index 0 contains weights  (128, 10)\n",
            "gap_weights_l index 1 contains weights  (10,)\n",
            "There are 128 feature weights and 10 classes.\n"
          ]
        }
      ]
    },
    {
      "cell_type": "code",
      "source": [
        "# Get the features for the image at index 0\n",
        "idx = 0\n",
        "features_for_img = features[idx,:,:,:]\n",
        "\n",
        "print(f\"The features for image index {idx} has shape (height,width,num of features channels) : \", features_for_img.shape)"
      ],
      "metadata": {
        "colab": {
          "base_uri": "https://localhost:8080/"
        },
        "id": "s7yPadjOVb1E",
        "outputId": "b53baac8-f65a-4cd6-bdc1-c763c2fd7940"
      },
      "execution_count": 13,
      "outputs": [
        {
          "output_type": "stream",
          "name": "stdout",
          "text": [
            "The features for image index 0 has shape (height,width,num of features channels) :  (3, 3, 128)\n"
          ]
        }
      ]
    },
    {
      "cell_type": "code",
      "source": [
        "# if the original dimensions of the image were, for example, (3, 3, 3),\n",
        "# the new dimensions would be approximately (28, 28, 3).\n",
        "features_for_img_scaled = sp.ndimage.zoom(\n",
        "    features_for_img,\n",
        "    (28/3,28/3,1),\n",
        "    order = 2\n",
        ")\n",
        "\n",
        "print(\"Features_for_img_scaled up to 28 by 28 height and width : \",features_for_img_scaled.shape)"
      ],
      "metadata": {
        "colab": {
          "base_uri": "https://localhost:8080/"
        },
        "id": "4QNEHF9hVzof",
        "outputId": "b92df2c2-a862-4134-ca8d-4c5053c315c7"
      },
      "execution_count": 14,
      "outputs": [
        {
          "output_type": "stream",
          "name": "stdout",
          "text": [
            "Features_for_img_scaled up to 28 by 28 height and width :  (28, 28, 128)\n"
          ]
        }
      ]
    },
    {
      "cell_type": "code",
      "source": [
        "# Select the weights that are used for a specific class (0...9)\n",
        "class_id = 0\n",
        "\n",
        "# Take the dot product between the scaled image features nd the weights for\n",
        "gap_weights_for_one_class = gap_weights[:,class_id]\n",
        "\n",
        "print(\"feature_for_img_scaled has shape    : \",features_for_img_scaled.shape)\n",
        "print(\"gap_weights_for_one_class has shape : \",gap_weights_for_one_class.shape)\n",
        "\n",
        "cam = np.dot(features_for_img_scaled,gap_weights_for_one_class)\n",
        "\n",
        "print(\"clss activation map shape : \",cam.shape)"
      ],
      "metadata": {
        "colab": {
          "base_uri": "https://localhost:8080/"
        },
        "id": "boeYuTl7dANc",
        "outputId": "cecbb1e1-b01f-4452-ec5f-0b84525db4a8"
      },
      "execution_count": 15,
      "outputs": [
        {
          "output_type": "stream",
          "name": "stdout",
          "text": [
            "feature_for_img_scaled has shape    :  (28, 28, 128)\n",
            "gap_weights_for_one_class has shape :  (128,)\n",
            "clss activation map shape :  (28, 28)\n"
          ]
        }
      ]
    },
    {
      "cell_type": "markdown",
      "source": [
        "# Conceptual Interpretation"
      ],
      "metadata": {
        "id": "XJ4kjScieZCH"
      }
    },
    {
      "cell_type": "code",
      "source": [
        "def show_cam(image_index):\n",
        "  # Takes the features of the chosen image\n",
        "  features_for_img = features[image_index,:,:,:]\n",
        "\n",
        "  # Get the class with the highest output probability\n",
        "  prediction = np.argmax(results[image_index])\n",
        "\n",
        "  # Get the gap weights at the predicted class\n",
        "  class_activation_weights = gap_weights[:,prediction]\n",
        "\n",
        "  class_activation_features = sp.ndimage.zoom(\n",
        "      features_for_img,\n",
        "      (28/3,23/3,1),\n",
        "      order = 2\n",
        "  )\n",
        "\n",
        "  cam_output = np.dot(\n",
        "      class_activation_features,\n",
        "      class_activation_weights\n",
        "  )\n",
        "\n",
        "  print(\"Predicted class = \",str(prediction),\n",
        "        \", Probability = \",str(results[image_index][prediction]))\n",
        "\n",
        "  plt.imshow(\n",
        "      np.squeeze((X_test[image_index],-1),alpha = 0.5)\n",
        "  )\n",
        "\n",
        "  if results[image_index][prediction] > 0.95:\n",
        "    camp_str = \"Greens\"\n",
        "  else:\n",
        "    camp_str = \"Reds\"\n",
        "\n",
        "  # Overlay the cam output\n",
        "  plt.imshow(cam_output,camp = camp_str,alpha = 0.5)\n",
        "\n",
        "  # Display the image\n",
        "  plt.show()"
      ],
      "metadata": {
        "id": "lyIxC7EEecMz"
      },
      "execution_count": 16,
      "outputs": []
    },
    {
      "cell_type": "code",
      "source": [
        "def show_maps(desired_class,num_maps):\n",
        "  counter = 0\n",
        "\n",
        "  if desired_class < 10:\n",
        "    print(\"Please choose a class less than 10\")\n",
        "\n",
        "  # go through the first 10000 images\n",
        ""
      ],
      "metadata": {
        "id": "IAqpYIuYkm0R"
      },
      "execution_count": null,
      "outputs": []
    }
  ]
}