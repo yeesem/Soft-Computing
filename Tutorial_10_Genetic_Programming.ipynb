{
  "nbformat": 4,
  "nbformat_minor": 0,
  "metadata": {
    "colab": {
      "provenance": [],
      "authorship_tag": "ABX9TyPM4JaKtwwKWcSDc+xPmGPF",
      "include_colab_link": true
    },
    "kernelspec": {
      "name": "python3",
      "display_name": "Python 3"
    },
    "language_info": {
      "name": "python"
    }
  },
  "cells": [
    {
      "cell_type": "markdown",
      "metadata": {
        "id": "view-in-github",
        "colab_type": "text"
      },
      "source": [
        "<a href=\"https://colab.research.google.com/github/yeesem/Soft-Computing/blob/main/Tutorial_10_Genetic_Programming.ipynb\" target=\"_parent\"><img src=\"https://colab.research.google.com/assets/colab-badge.svg\" alt=\"Open In Colab\"/></a>"
      ]
    },
    {
      "cell_type": "code",
      "execution_count": 1,
      "metadata": {
        "colab": {
          "base_uri": "https://localhost:8080/"
        },
        "id": "5lac4yZj_0KH",
        "outputId": "33047d83-4388-4fa4-9078-14271a468aef"
      },
      "outputs": [
        {
          "output_type": "stream",
          "name": "stdout",
          "text": [
            "Collecting deap\n",
            "  Downloading deap-1.4.1-cp310-cp310-manylinux_2_5_x86_64.manylinux1_x86_64.manylinux_2_17_x86_64.manylinux2014_x86_64.whl (135 kB)\n",
            "\u001b[2K     \u001b[90m━━━━━━━━━━━━━━━━━━━━━━━━━━━━━━━━━━━━━━━━\u001b[0m \u001b[32m135.4/135.4 kB\u001b[0m \u001b[31m924.3 kB/s\u001b[0m eta \u001b[36m0:00:00\u001b[0m\n",
            "\u001b[?25hRequirement already satisfied: numpy in /usr/local/lib/python3.10/dist-packages (from deap) (1.25.2)\n",
            "Installing collected packages: deap\n",
            "Successfully installed deap-1.4.1\n"
          ]
        }
      ],
      "source": [
        "!pip install deap"
      ]
    },
    {
      "cell_type": "code",
      "source": [
        "import operator\n",
        "import random\n",
        "import numpy as np\n",
        "import matplotlib.pyplot as plt\n",
        "from deap import base, creator, gp, tools"
      ],
      "metadata": {
        "id": "FzzLnTfU_8Wo"
      },
      "execution_count": 2,
      "outputs": []
    },
    {
      "cell_type": "code",
      "source": [
        "# Define the dataset\n",
        "x = np.linspace(-1,1,100)\n",
        "y = np.sin(x) + np.random.normal(0,0.1,size = len(x))"
      ],
      "metadata": {
        "id": "AXLAUcg7_-2N"
      },
      "execution_count": 3,
      "outputs": []
    },
    {
      "cell_type": "code",
      "source": [
        "# Define the evaluation function\n",
        "def eval_sine(individual,x):\n",
        "  # Compile the expression\n",
        "  func = toolbox.compile(expr = individual)\n",
        "  # Evaluate the expression on the data points\n",
        "  y_pred = [func(xi) for xi in x]\n",
        "  # Calculate Mean Squared Error (MSE)\n",
        "  return np.mean((y_pred - y) ** 2)"
      ],
      "metadata": {
        "id": "b47NELYUDD28"
      },
      "execution_count": 4,
      "outputs": []
    },
    {
      "cell_type": "code",
      "source": [
        "# Create a primitive set for GP\n",
        "pset = gp.PrimitiveSet(\"MAIN\",arity = 1)\n",
        "# Arity is 2 because it takes two arguments: the numbers to be added together.\n",
        "pset.addPrimitive(np.add,arity = 2)\n",
        "pset.addPrimitive(np.subtract,arity = 2)\n",
        "pset.addPrimitive(np.multiply,arity = 2)\n",
        "pset.addPrimitive(np.divide,arity = 2)\n",
        "pset.addPrimitive(np.sin,arity = 1)\n",
        "pset.addPrimitive(np.cos,arity = 1)\n",
        "pset.addPrimitive(np.exp,arity = 1)\n",
        "pset.addPrimitive(np.sqrt,arity = 1)\n",
        "pset.addPrimitive(np.abs,arity = 1)\n",
        "pset.addPrimitive(np.square,arity = 1)\n",
        "# addEphemeralConstant - Used to add a constant value to the primitive set.\n",
        "pset.addEphemeralConstant(\"rand\",lambda : random.uniform(-1,1))\n",
        "\n",
        "# Define the type of the individual (program) and the fitness\n",
        "# weights=(-1.0,) argument specifies the weights for the fitness evaluation.\n",
        "# In this case, -1.0 indicates that lower fitness values are better. This implies\n",
        "# that during the evolution process, individuals with lower fitness values\n",
        "# (closer to zero or negative) are considered better or more fit.\n",
        "creator.create(\"FitnessMin\",base.fitness,weights = (-1.0,))\n",
        "# gp.PrimitiveTree: This specifies the base class or type from which the \"Individual\"\n",
        "# class will inherit its behavior. In Genetic Programming, individuals are often represented\n",
        "# as tree structures, where each node in the tree represents a function or terminal value.\n",
        "creator.create(\"Individual\",gp.PrimitiveTree,fitness = creator.FitnessMin)\n",
        "\n",
        "# Create the toolbox\n",
        "toolbox = base.Toolbox()\n",
        "toolbox.register(\"expr\",gp.genHalfAndHalf,pset = pset,min_ = 1,max_ = 3)\n",
        "# initIterate is a function in the tools module used to create individuals\n",
        "# (also known as programs or solutions) for the evolutionary process. It creates\n",
        "# an individual by repeatedly applying a given function (provided as the third argument)\n",
        "# a specified number of times (provided as the fourth argument).\n",
        "\n",
        "# Individual is a custom class created using creator to represent individuals\n",
        "# in the genetic programming context. It represents an individual as a tree-like\n",
        "# structure composed of nodes and primitives.\n",
        "# Individual is get from the creator object\n",
        "toolbox.register('individual',tools.initIterate,craetor.Individual,toolbox.expr)\n",
        "# initRepeat is a function in the tools module used to create a population of individuals\n",
        "# for the evolutionary process. It initializes the population by repeating a given function\n",
        "# (provided as the third argument) a specified number of times (provided as the second argument).\n",
        "\n",
        "# List - It's used here as the container type for the population, indicating that the population\n",
        "# will be a list of individuals.\n",
        "toolbox.register('population',tools.initRepeat,list,toolbox.individual)\n",
        "toolbox.register('compile',gp.compile,pset = pset)\n"
      ],
      "metadata": {
        "id": "lX2-Qz4QEAt8"
      },
      "execution_count": null,
      "outputs": []
    }
  ]
}