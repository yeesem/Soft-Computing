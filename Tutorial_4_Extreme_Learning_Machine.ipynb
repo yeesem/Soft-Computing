{
  "cells": [
    {
      "cell_type": "markdown",
      "metadata": {
        "id": "view-in-github",
        "colab_type": "text"
      },
      "source": [
        "<a href=\"https://colab.research.google.com/github/yeesem/Soft-Computing/blob/main/Tutorial_4_Extreme_Learning_Machine.ipynb\" target=\"_parent\"><img src=\"https://colab.research.google.com/assets/colab-badge.svg\" alt=\"Open In Colab\"/></a>"
      ]
    },
    {
      "cell_type": "markdown",
      "metadata": {
        "id": "lFCWJiEfDX0V"
      },
      "source": [
        "Exercise:\n",
        "\n",
        "*   Choose a different dataset.\n",
        "*   Rerun the experiment for different numbers of membership functions (***num_mf***), fuzzy rules (***num_rules***), and seed number (***np.random.seed(X)***)\n",
        "*   Report the results for all the configurations you have tried.\n",
        "*   Extract the fuzzy rules from the best configuration.\n",
        "\n",
        "NOTE: the above example code to extract the fuzzy rules is based on a 2-membership system. If you are using more membership functions, modify the code.\n",
        "\n",
        "Examples of linguistic labels:\n",
        "\n",
        "2 MF: [\"Low\", \"High\"]\n",
        "\n",
        "3 MF: [\"Low\", \"Medium\", \"High\"]\n",
        "\n",
        "5 MF: [\"VeryLow\", \"Low\", \"Medium\", \"High\", \"VeryHigh\"]\n",
        "\n",
        "Advantages: very fast, can generate and test many rule-bases in a short time; rule-base is highly interpretable.\n",
        "\n",
        "Disadvantages: random initialization of rule base; requires large memory if dataset has many features, or using many fuzzy rules and membership functions; pseudo-inverse operation may not produce good outcome; no learning."
      ]
    },
    {
      "cell_type": "code",
      "execution_count": 18,
      "metadata": {
        "id": "RczgmEC6C3pE"
      },
      "outputs": [],
      "source": [
        "import matplotlib.pyplot as plt\n",
        "from sklearn.datasets import load_iris\n",
        "from sklearn.preprocessing import LabelBinarizer,StandardScaler\n",
        "from sklearn.model_selection import train_test_split\n",
        "import numpy as np\n",
        "import random\n",
        "from tqdm import tqdm"
      ]
    },
    {
      "cell_type": "code",
      "execution_count": 19,
      "metadata": {
        "id": "9YKhdw9BD_yY"
      },
      "outputs": [],
      "source": [
        "np.random.seed(0)"
      ]
    },
    {
      "cell_type": "code",
      "execution_count": 20,
      "metadata": {
        "id": "yjLz9evcEB6M"
      },
      "outputs": [],
      "source": [
        "data = load_iris()\n",
        "X = data.data\n",
        "y = data.target\n",
        "\n",
        "#Normalize input\n",
        "# scaler = StandardScaler()\n",
        "# X = scaler.fit_transform(X)\n",
        "for col in range(X.shape[1]):\n",
        "  X[:,col] -= np.min(X[:,col])\n",
        "  X[:,col] /= np.max(X[:,col])\n",
        "\n",
        "num_feat = X.shape[1]\n",
        "num_class = len(np.unique(y))\n",
        "\n",
        "X_train,X_test,y_train,y_test = train_test_split(X,y,test_size = 0.2,random_state = 0)\n",
        "\n",
        "y_bin = LabelBinarizer().fit_transform(y_train)"
      ]
    },
    {
      "cell_type": "code",
      "source": [
        "#Define a fuzzy system\n",
        "\n",
        "num_mf = 3 # Num of fuzzy membership functions, if == 3, low.mid.high\n",
        "num_rules = 30 # Num of fuzzy rules\n",
        "\n",
        "mf_radius = 1 / (num_mf - 1)\n",
        "m_centroids = np.zeros((num_mf,num_feat))\n",
        "for i in range(num_mf):\n",
        "  m_centroids[i] = i * mf_radius\n",
        "\n",
        "print(m_centroids)"
      ],
      "metadata": {
        "colab": {
          "base_uri": "https://localhost:8080/"
        },
        "id": "8PKfe_beOu8d",
        "outputId": "9e21b8dd-7cc4-43f8-f9fa-d7ddc454c945"
      },
      "execution_count": 55,
      "outputs": [
        {
          "output_type": "stream",
          "name": "stdout",
          "text": [
            "[[0.  0.  0.  0. ]\n",
            " [0.5 0.5 0.5 0.5]\n",
            " [1.  1.  1.  1. ]]\n"
          ]
        }
      ]
    },
    {
      "cell_type": "code",
      "source": [
        "#Plotting the Gaussian curve for Attribute 0\n",
        "def gaussian(x,mean,std_dev):\n",
        "   return (1 / (std_dev * np.sqrt(2 * np.pi))) * np.exp(-0.5 * ((x - mean) / std_dev) ** 2)\n",
        "\n",
        "x_example = np.linspace(-5,5,1000)\n",
        "for mean in m_centroids[:,0]:\n",
        "  y_example = gaussian(x_example,mean,mf_radius)\n",
        "  plt.plot(x_example,y_example,label = f\"Mean = {mean}\")\n",
        "\n",
        "plt.xlabel('X')\n",
        "plt.xlim(-2,3)\n",
        "plt.ylabel('Probability Density')\n",
        "plt.title(\"Input membership functions for Attribute 0\")\n",
        "plt.legend()\n",
        "plt.grid(True)\n",
        "plt.show()"
      ],
      "metadata": {
        "colab": {
          "base_uri": "https://localhost:8080/",
          "height": 472
        },
        "id": "ir1Nfw1iO_J6",
        "outputId": "32356611-458c-4e5c-ee6a-ec7f6196c5c3"
      },
      "execution_count": 22,
      "outputs": [
        {
          "output_type": "display_data",
          "data": {
            "text/plain": [
              "<Figure size 640x480 with 1 Axes>"
            ],
            "image/png": "[encoded data removed]"
          },
          "metadata": {}
        }
      ]
    },
    {
      "cell_type": "code",
      "source": [
        "#[number of fuzzy rules] x [number of input features] x [number of input membership functions]\n",
        "\n",
        "# First row - feature 1, second row - feature 2,n row - feature n\n",
        "#[1. 0. 1.] - If F1 is Low or High\n",
        "#[0. 1. 1.] - If F2 is Medium or High\n",
        "#[1. 1. 1.] - If F3 is Low or Medium or High [Any Value]\n",
        "\n",
        "m_rule = np.round(np.random.rand(num_rules,num_feat,num_mf))\n",
        "\n",
        "current_rule = m_rule[0]\n",
        "print(current_rule)"
      ],
      "metadata": {
        "colab": {
          "base_uri": "https://localhost:8080/"
        },
        "id": "xBkR4ARPPCw4",
        "outputId": "45cbcc4e-646f-4a2f-8aea-fc616a01b45e"
      },
      "execution_count": 23,
      "outputs": [
        {
          "output_type": "stream",
          "name": "stdout",
          "text": [
            "[[1. 1. 1.]\n",
            " [1. 0. 1.]\n",
            " [0. 1. 1.]\n",
            " [0. 1. 1.]]\n"
          ]
        }
      ]
    },
    {
      "cell_type": "code",
      "source": [
        "#Visualize the first fuzzy rule\n",
        "plt.figure()\n",
        "plt.xlabel(\"Membership function\")\n",
        "plt.ylabel(\"Input featuers\")\n",
        "plt.imshow(current_rule)"
      ],
      "metadata": {
        "colab": {
          "base_uri": "https://localhost:8080/",
          "height": 472
        },
        "id": "FZyp71GtPMqY",
        "outputId": "4ade4a17-e7e8-45f7-ea91-3fc99049c645"
      },
      "execution_count": 24,
      "outputs": [
        {
          "output_type": "execute_result",
          "data": {
            "text/plain": [
              "<matplotlib.image.AxesImage at 0x7acfbce6c2e0>"
            ]
          },
          "metadata": {},
          "execution_count": 24
        },
        {
          "output_type": "display_data",
          "data": {
            "text/plain": [
              "<Figure size 640x480 with 1 Axes>"
            ],
            "image/png": "[encoded data removed]"
          },
          "metadata": {}
        }
      ]
    },
    {
      "cell_type": "code",
      "source": [
        "# Initialize a fuzzy rule exclusion matrix\n",
        "# [number of fuzzy rules] * [number of features]\n",
        "m_exclusion = np.round(np.random.rand(num_rules,num_feat))\n",
        "\n",
        "current_rule = m_exclusion[0]\n",
        "print(current_rule)\n",
        "\n",
        "# [1. 1. 1. 1.] # all features are included\n",
        "# 0 indicates exclude the feature, while 1 includes the feature in the fuzzy rule"
      ],
      "metadata": {
        "colab": {
          "base_uri": "https://localhost:8080/"
        },
        "id": "W5SOMGt_PQ9T",
        "outputId": "04d615ef-4782-40bd-82f1-1911f6f5ff75"
      },
      "execution_count": 25,
      "outputs": [
        {
          "output_type": "stream",
          "name": "stdout",
          "text": [
            "[1. 1. 1. 1.]\n"
          ]
        }
      ]
    },
    {
      "cell_type": "code",
      "source": [
        "plt.figure()\n",
        "plt.xlabel(\"Feature Selection\")\n",
        "plt.ylabel(\"Fuzzy rules\")\n",
        "plt.imshow(m_exclusion)"
      ],
      "metadata": {
        "colab": {
          "base_uri": "https://localhost:8080/",
          "height": 466
        },
        "id": "DXo-GVbPP1kF",
        "outputId": "af8169f4-d438-4171-b565-387c661de1d6"
      },
      "execution_count": 26,
      "outputs": [
        {
          "output_type": "execute_result",
          "data": {
            "text/plain": [
              "<matplotlib.image.AxesImage at 0x7acfbe482140>"
            ]
          },
          "metadata": {},
          "execution_count": 26
        },
        {
          "output_type": "display_data",
          "data": {
            "text/plain": [
              "<Figure size 640x480 with 1 Axes>"
            ],
            "image/png": "[encoded data removed]"
          },
          "metadata": {}
        }
      ]
    },
    {
      "cell_type": "code",
      "source": [
        "#Create a fuzzification function using Gaussian MF\n",
        "#m_centroids : membershipFunction X features\n",
        "#X : samples x features\n",
        "#mf_radius = 1 / (num_mf-1)\n",
        "def fuzzify(X, m_centroids, mf_radius):\n",
        "  num_data = X.shape[0]\n",
        "  num_feats = X.shape[1]\n",
        "  num_mf = m_centroids.shape[0]\n",
        "\n",
        "  X_fuzzy = np.zeros((num_data, num_feats, num_mf))\n",
        "\n",
        "  # fuzzify\n",
        "  for i in range(num_mf):\n",
        "    for j in range(num_feats):\n",
        "      X_fuzzy[:,j,i] = (1 / (mf_radius * np.sqrt(2 * np.pi))) * np.exp(-0.5 * ((X[:,j] - m_centroids[i,j]) / mf_radius) ** 2)\n",
        "\n",
        "  return X_fuzzy\n"
      ],
      "metadata": {
        "id": "EIjWIxkxQFyn"
      },
      "execution_count": 27,
      "outputs": []
    },
    {
      "cell_type": "code",
      "source": [
        "X_fuzzy = fuzzify(X_train,m_centroids,mf_radius)\n",
        "print(X_fuzzy.shape)\n",
        "print(np.round(X_fuzzy,3))"
      ],
      "metadata": {
        "colab": {
          "base_uri": "https://localhost:8080/"
        },
        "id": "CXfOlHxWQtTx",
        "outputId": "379b8f3b-665d-423a-d249-2f27b72d6240"
      },
      "execution_count": 28,
      "outputs": [
        {
          "output_type": "stream",
          "name": "stdout",
          "text": [
            "(120, 4, 3)\n",
            "[[[0.404 0.787 0.564]\n",
            "  [0.524 0.795 0.444]\n",
            "  [0.249 0.695 0.713]\n",
            "  [0.293 0.732 0.673]]\n",
            "\n",
            " [[0.662 0.74  0.304]\n",
            "  [0.564 0.787 0.404]\n",
            "  [0.395 0.784 0.573]\n",
            "  [0.404 0.787 0.564]]\n",
            "\n",
            " [[0.704 0.704 0.259]\n",
            "  [0.365 0.773 0.602]\n",
            "  [0.787 0.565 0.149]\n",
            "  [0.795 0.524 0.127]]\n",
            "\n",
            " ...\n",
            "\n",
            " [[0.564 0.787 0.404]\n",
            "  [0.673 0.732 0.293]\n",
            "  [0.459 0.797 0.509]\n",
            "  [0.602 0.773 0.365]]\n",
            "\n",
            " [[0.134 0.537 0.793]\n",
            "  [0.259 0.704 0.704]\n",
            "  [0.123 0.517 0.796]\n",
            "  [0.173 0.602 0.773]]\n",
            "\n",
            " [[0.787 0.564 0.149]\n",
            "  [0.484 0.798 0.484]\n",
            "  [0.791 0.549 0.14 ]\n",
            "  [0.795 0.524 0.127]]]\n"
          ]
        }
      ]
    },
    {
      "cell_type": "code",
      "source": [
        "current_sample = X_fuzzy[0]\n",
        "print(\"Fuzzfied input : \")\n",
        "print(np.round(current_sample,3))\n",
        "\n",
        "print(\" \")\n",
        "print(\"Unfuzzified input: \")\n",
        "print(np.round(X_train[0],3))"
      ],
      "metadata": {
        "colab": {
          "base_uri": "https://localhost:8080/"
        },
        "id": "eYJlKzjPW4is",
        "outputId": "c86e691a-7361-401f-ebc0-d7f9128e7465"
      },
      "execution_count": 29,
      "outputs": [
        {
          "output_type": "stream",
          "name": "stdout",
          "text": [
            "Fuzzfied input : \n",
            "[[0.404 0.787 0.564]\n",
            " [0.524 0.795 0.444]\n",
            " [0.249 0.695 0.713]\n",
            " [0.293 0.732 0.673]]\n",
            " \n",
            "Unfuzzified input: \n",
            "[0.583 0.458 0.763 0.708]\n"
          ]
        }
      ]
    },
    {
      "cell_type": "code",
      "source": [
        "def fuzzy_rule_membership(X_fuzzy,m_rule,m_exclusion):\n",
        "  # X_fuzzy: samples x features x fuzzy membership\n",
        "  # m_rule: fuzzyRules x features x fuzzy membership\n",
        "  # m_exclusion: fuzzyRules x features\n",
        "  num_data = X_fuzzy.shape[0]\n",
        "  num_features = X_fuzzy.shape[1]\n",
        "  num_rules = m_rule.shape[0]\n",
        "  num_mf = X_fuzzy.shape[2]\n",
        "\n",
        "  X_fuzzy_rule_membership = np.zeros((num_data,num_rules))\n",
        "\n",
        "  for i in range(num_rules):\n",
        "    membership_values = X_fuzzy * m_rule[i]\n",
        "    aggregated_scores = np.sum(membership_values,axis = 2)\n",
        "    final_score = np.sum(aggregated_scores * m_exclusion[i],axis = 1)\n",
        "    X_fuzzy_rule_membership[:,i] = final_score\n",
        "\n",
        "  return X_fuzzy_rule_membership"
      ],
      "metadata": {
        "id": "5eXKCxsFXYB2"
      },
      "execution_count": 65,
      "outputs": []
    },
    {
      "cell_type": "code",
      "source": [
        "X_fuzzy_rule_membership = fuzzy_rule_membership(X_fuzzy,m_rule,m_exclusion)\n",
        "\n",
        "print(np.round(X_fuzzy_rule_membership,3))"
      ],
      "metadata": {
        "colab": {
          "base_uri": "https://localhost:8080/"
        },
        "id": "v1REelKGc27W",
        "outputId": "138e8feb-9490-4f57-e063-5e0aad27ffaf"
      },
      "execution_count": 31,
      "outputs": [
        {
          "output_type": "stream",
          "name": "stdout",
          "text": [
            "[[5.535 0.444 1.482 ... 2.499 2.492 2.106]\n",
            " [5.382 0.404 1.524 ... 2.561 2.542 2.09 ]\n",
            " [4.001 0.602 1.269 ... 3.134 2.22  1.843]\n",
            " ...\n",
            " [5.164 0.293 1.584 ... 2.594 2.472 2.191]\n",
            " [5.116 0.704 1.054 ... 2.508 2.252 1.501]\n",
            " [3.808 0.484 1.113 ... 3.012 2.244 1.846]]\n"
          ]
        }
      ]
    },
    {
      "cell_type": "code",
      "source": [
        "current_sample = X_fuzzy_rule_membership[0]\n",
        "print(np.round(current_sample, 3))\n",
        "\n",
        "# [5.53 0.444 1.482 1.255 2.072 1.295 2.428 2.499 2.492 2.106]\n",
        "# for the first sample, membership score is 5.535 for 1st fuzzy rule, 0.444 for 2nd fuzzy rule, ..."
      ],
      "metadata": {
        "colab": {
          "base_uri": "https://localhost:8080/"
        },
        "id": "l8IICvxMddvJ",
        "outputId": "419b415e-d9e1-4b7c-ace8-318e39b266d6"
      },
      "execution_count": 32,
      "outputs": [
        {
          "output_type": "stream",
          "name": "stdout",
          "text": [
            "[5.535 0.444 1.482 1.255 2.072 1.295 2.428 2.499 2.492 2.106]\n"
          ]
        }
      ]
    },
    {
      "cell_type": "code",
      "source": [
        "# compute the discriminant matrix using pseudo-inverse\n",
        "m_discriminant = np.dot(np.dot(np.dot(X_fuzzy_rule_membership.transpose(), X_fuzzy_rule_membership).transpose(), X_fuzzy_rule_membership.transpose()), y_bin)\n",
        "\n",
        "# m_discriminant: fuzzy rules x class\n",
        "# maps the fuzzy rules to the outputs\n",
        "m_discriminant /= np.nanmax(m_discriminant)\n",
        "print(np.round(m_discriminant,3))\n",
        "\n",
        "# How to read:\n",
        "# 1st row for 1st fuzzy rule; output weights are 0.741 for Class 0, 0.834 for Class 1, 1.00 for Class 2"
      ],
      "metadata": {
        "colab": {
          "base_uri": "https://localhost:8080/"
        },
        "id": "9R-gXgYgvarr",
        "outputId": "04d490c8-2ac1-4455-bab4-0a9f84722aa1"
      },
      "execution_count": 33,
      "outputs": [
        {
          "output_type": "stream",
          "name": "stdout",
          "text": [
            "[[0.741 0.834 1.   ]\n",
            " [0.064 0.071 0.085]\n",
            " [0.209 0.235 0.282]\n",
            " [0.214 0.239 0.286]\n",
            " [0.25  0.282 0.339]\n",
            " [0.165 0.186 0.223]\n",
            " [0.323 0.363 0.436]\n",
            " [0.39  0.437 0.523]\n",
            " [0.353 0.397 0.476]\n",
            " [0.3   0.337 0.405]]\n"
          ]
        }
      ]
    },
    {
      "cell_type": "code",
      "source": [
        "prediction = np.dot(X_fuzzy_rule_membership,m_discriminant)\n",
        "prediction_label = np.argmax(prediction,axis = 1)\n",
        "\n",
        "accuracy = np.mean(y_train == prediction_label)\n",
        "print(np.round(accuracy,3))"
      ],
      "metadata": {
        "id": "oYRD2mWLwhdO",
        "colab": {
          "base_uri": "https://localhost:8080/"
        },
        "outputId": "c88fece4-c772-4fcc-cb91-2bac14794f29"
      },
      "execution_count": 34,
      "outputs": [
        {
          "output_type": "stream",
          "name": "stdout",
          "text": [
            "0.367\n"
          ]
        }
      ]
    },
    {
      "cell_type": "code",
      "source": [
        "def run_for_x_times(num_times,min_mf,max_mf,min_rules,max_rules):\n",
        "  best_score = 0\n",
        "  best_rule = None\n",
        "\n",
        "  #tqdm is used for showing the percentage while running a for loop\n",
        "  for i in tqdm(range(num_times)):\n",
        "      #Randomly choose 2 - max membership function\n",
        "      num_mf = random.randint(min_mf,max_mf)\n",
        "      #Randomly choose 2 - max_rules number of fuzzy rules\n",
        "      num_rules = random.randint(min_rules,max_rules)\n",
        "\n",
        "      #Settings centroids for Gaussian MF\n",
        "      m_centroids = np.random.rand(num_mf,num_feat)\n",
        "      mf_radius = np.random.rand()\n",
        "      m_rules = np.round(np.random.rand(num_rules,num_feat,num_mf))\n",
        "      m_exclusion = np.round(np.random.rand(num_rules,num_feat))\n",
        "\n",
        "      X_fuzzy = fuzzify(X_train,m_centroids,mf_radius)\n",
        "      X_fuzzy_rule_membership = fuzzy_rule_membership(X_fuzzy,m_rules,m_exclusion)\n",
        "      m_discriminant = np.dot(np.dot(np.dot(X_fuzzy_rule_membership.transpose(), X_fuzzy_rule_membership).transpose(), X_fuzzy_rule_membership.transpose()), y_bin) # calculate discriminant matrix (i.e. mapping inputs to outputs)\n",
        "      prediction = np.dot(X_fuzzy_rule_membership, m_discriminant) # compute system prediction\n",
        "      prediction_label = np.argmax(prediction, axis=1) # convert to labels\n",
        "      accuracy = np.mean(y_train == prediction_label) # calculate accuracy\n",
        "      if accuracy > best_score: # keep this configuration if accuracy score is best so far\n",
        "          best_score = accuracy\n",
        "          best_rules = (m_rules, m_exclusion, m_discriminant, m_centroids, mf_radius)\n",
        "          print(\"Best training accuracy {:.3f}\".format(accuracy))\n",
        "\n",
        "  return best_score,best_rules\n"
      ],
      "metadata": {
        "id": "NMkC-CDNVxtU"
      },
      "execution_count": 95,
      "outputs": []
    },
    {
      "cell_type": "code",
      "source": [
        "best_score = 0\n",
        "rules = None\n",
        "settings = [[50000,2,3,2,10],\n",
        "            [50000,2,3,10,20],\n",
        "            [50000,2,3,20,50],\n",
        "            [50000,3,5,2,20],\n",
        "            [50000,3,5,20,50],\n",
        "            [50000,3,5,50,80],\n",
        "            [50000,3,5,80,100]]\n",
        "\n",
        "for index,setting in enumerate(settings):\n",
        "  print(\"Setting \",index,\" : \",setting)\n",
        "  score,rule = run_for_x_times(setting[0],setting[1],setting[2],setting[3],setting[4])\n",
        "  if score > best_score:\n",
        "    best_score = score\n",
        "    best_rules = rule\n",
        "  print(\"\\n--------------------------------------------------------------\")\n",
        "\n",
        "print(\"\\n\\nBest Score : \",best_score)\n",
        "print(\"m_rule       : \",best_rules[0])\n",
        "print(\"m_exclusion  : \",best_rules[1])\n",
        "print(\"m_discriminant : \",best_rules[2])\n",
        "print(\"m_centroids : \",best_rules[3])\n",
        "print(\"mf_radius   : \",best_rules[4])\n",
        "print(\"num_mf      : \",m_rule[2])\n",
        "print(\"num_rules   : \",m_rule[0])"
      ],
      "metadata": {
        "colab": {
          "base_uri": "https://localhost:8080/"
        },
        "id": "lhypcfiqx4UF",
        "outputId": "194b3700-30eb-4881-c4cd-d73ed2040cd5"
      },
      "execution_count": 98,
      "outputs": [
        {
          "output_type": "stream",
          "name": "stdout",
          "text": [
            "Setting  0  :  [50000, 2, 3, 2, 10]\n"
          ]
        },
        {
          "output_type": "stream",
          "name": "stderr",
          "text": [
            "  0%|          | 129/50000 [00:00<00:38, 1288.65it/s]"
          ]
        },
        {
          "output_type": "stream",
          "name": "stdout",
          "text": [
            "Best training accuracy 0.483\n",
            "Best training accuracy 0.550\n",
            "Best training accuracy 0.817\n"
          ]
        },
        {
          "output_type": "stream",
          "name": "stderr",
          "text": [
            "  4%|▍         | 1913/50000 [00:01<00:39, 1226.02it/s]"
          ]
        },
        {
          "output_type": "stream",
          "name": "stdout",
          "text": [
            "Best training accuracy 0.867\n"
          ]
        },
        {
          "output_type": "stream",
          "name": "stderr",
          "text": [
            "  5%|▌         | 2745/50000 [00:02<00:26, 1760.55it/s]"
          ]
        },
        {
          "output_type": "stream",
          "name": "stdout",
          "text": [
            "Best training accuracy 0.908\n"
          ]
        },
        {
          "output_type": "stream",
          "name": "stderr",
          "text": [
            " 63%|██████▎   | 31611/50000 [00:16<00:07, 2333.40it/s]"
          ]
        },
        {
          "output_type": "stream",
          "name": "stdout",
          "text": [
            "Best training accuracy 0.950\n"
          ]
        },
        {
          "output_type": "stream",
          "name": "stderr",
          "text": [
            "100%|██████████| 50000/50000 [00:25<00:00, 1969.86it/s]\n"
          ]
        },
        {
          "output_type": "stream",
          "name": "stdout",
          "text": [
            "\n",
            "--------------------------------------------------------------\n",
            "Setting  1  :  [50000, 2, 3, 10, 20]\n"
          ]
        },
        {
          "output_type": "stream",
          "name": "stderr",
          "text": [
            "  0%|          | 131/50000 [00:00<00:38, 1306.12it/s]"
          ]
        },
        {
          "output_type": "stream",
          "name": "stdout",
          "text": [
            "Best training accuracy 0.308\n",
            "Best training accuracy 0.367\n",
            "Best training accuracy 0.383\n",
            "Best training accuracy 0.558\n",
            "Best training accuracy 0.592\n",
            "Best training accuracy 0.617\n"
          ]
        },
        {
          "output_type": "stream",
          "name": "stderr",
          "text": [
            "  1%|          | 518/50000 [00:00<00:39, 1254.50it/s]"
          ]
        },
        {
          "output_type": "stream",
          "name": "stdout",
          "text": [
            "Best training accuracy 0.667\n",
            "Best training accuracy 0.675\n"
          ]
        },
        {
          "output_type": "stream",
          "name": "stderr",
          "text": [
            "  2%|▏         | 1030/50000 [00:00<00:38, 1265.11it/s]"
          ]
        },
        {
          "output_type": "stream",
          "name": "stdout",
          "text": [
            "Best training accuracy 0.692\n"
          ]
        },
        {
          "output_type": "stream",
          "name": "stderr",
          "text": [
            "  3%|▎         | 1685/50000 [00:01<00:37, 1280.33it/s]"
          ]
        },
        {
          "output_type": "stream",
          "name": "stdout",
          "text": [
            "Best training accuracy 0.717\n"
          ]
        },
        {
          "output_type": "stream",
          "name": "stderr",
          "text": [
            " 15%|█▍        | 7351/50000 [00:05<00:48, 878.76it/s]"
          ]
        },
        {
          "output_type": "stream",
          "name": "stdout",
          "text": [
            "Best training accuracy 0.775\n"
          ]
        },
        {
          "output_type": "stream",
          "name": "stderr",
          "text": [
            " 16%|█▌        | 7791/50000 [00:06<00:48, 867.45it/s]"
          ]
        },
        {
          "output_type": "stream",
          "name": "stdout",
          "text": [
            "Best training accuracy 0.800\n"
          ]
        },
        {
          "output_type": "stream",
          "name": "stderr",
          "text": [
            " 18%|█▊        | 8908/50000 [00:07<00:51, 792.40it/s]"
          ]
        },
        {
          "output_type": "stream",
          "name": "stdout",
          "text": [
            "Best training accuracy 0.892\n"
          ]
        },
        {
          "output_type": "stream",
          "name": "stderr",
          "text": [
            " 53%|█████▎    | 26624/50000 [00:22<00:18, 1298.51it/s]"
          ]
        },
        {
          "output_type": "stream",
          "name": "stdout",
          "text": [
            "Best training accuracy 0.917\n"
          ]
        },
        {
          "output_type": "stream",
          "name": "stderr",
          "text": [
            " 57%|█████▋    | 28607/50000 [00:24<00:16, 1266.35it/s]"
          ]
        },
        {
          "output_type": "stream",
          "name": "stdout",
          "text": [
            "Best training accuracy 0.925\n"
          ]
        },
        {
          "output_type": "stream",
          "name": "stderr",
          "text": [
            "100%|██████████| 50000/50000 [00:42<00:00, 1189.11it/s]\n"
          ]
        },
        {
          "output_type": "stream",
          "name": "stdout",
          "text": [
            "\n",
            "--------------------------------------------------------------\n",
            "Setting  2  :  [50000, 2, 3, 20, 50]\n"
          ]
        },
        {
          "output_type": "stream",
          "name": "stderr",
          "text": [
            "  0%|          | 47/50000 [00:00<01:47, 462.79it/s]"
          ]
        },
        {
          "output_type": "stream",
          "name": "stdout",
          "text": [
            "Best training accuracy 0.325\n",
            "Best training accuracy 0.367\n",
            "Best training accuracy 0.408\n"
          ]
        },
        {
          "output_type": "stream",
          "name": "stderr",
          "text": [
            "  0%|          | 193/50000 [00:00<01:44, 478.33it/s]"
          ]
        },
        {
          "output_type": "stream",
          "name": "stdout",
          "text": [
            "Best training accuracy 0.692\n"
          ]
        },
        {
          "output_type": "stream",
          "name": "stderr",
          "text": [
            "  9%|▉         | 4434/50000 [00:11<01:39, 457.46it/s]"
          ]
        },
        {
          "output_type": "stream",
          "name": "stdout",
          "text": [
            "Best training accuracy 0.825\n"
          ]
        },
        {
          "output_type": "stream",
          "name": "stderr",
          "text": [
            " 19%|█▉        | 9688/50000 [00:24<01:25, 471.19it/s]"
          ]
        },
        {
          "output_type": "stream",
          "name": "stdout",
          "text": [
            "Best training accuracy 0.842\n"
          ]
        },
        {
          "output_type": "stream",
          "name": "stderr",
          "text": [
            "100%|██████████| 50000/50000 [02:06<00:00, 395.29it/s]\n"
          ]
        },
        {
          "output_type": "stream",
          "name": "stdout",
          "text": [
            "\n",
            "--------------------------------------------------------------\n",
            "Setting  3  :  [50000, 3, 5, 2, 20]\n"
          ]
        },
        {
          "output_type": "stream",
          "name": "stderr",
          "text": [
            "  0%|          | 103/50000 [00:00<00:48, 1019.45it/s]"
          ]
        },
        {
          "output_type": "stream",
          "name": "stdout",
          "text": [
            "Best training accuracy 0.367\n",
            "Best training accuracy 0.608\n"
          ]
        },
        {
          "output_type": "stream",
          "name": "stderr",
          "text": [
            "  1%|          | 515/50000 [00:00<00:39, 1253.34it/s]"
          ]
        },
        {
          "output_type": "stream",
          "name": "stdout",
          "text": [
            "Best training accuracy 0.633\n"
          ]
        },
        {
          "output_type": "stream",
          "name": "stderr",
          "text": [
            "  2%|▏         | 804/50000 [00:00<00:35, 1367.62it/s]"
          ]
        },
        {
          "output_type": "stream",
          "name": "stdout",
          "text": [
            "Best training accuracy 0.692\n"
          ]
        },
        {
          "output_type": "stream",
          "name": "stderr",
          "text": [
            " 24%|██▍       | 12021/50000 [00:09<00:41, 904.48it/s]"
          ]
        },
        {
          "output_type": "stream",
          "name": "stdout",
          "text": [
            "Best training accuracy 0.700\n"
          ]
        },
        {
          "output_type": "stream",
          "name": "stderr",
          "text": [
            " 25%|██▍       | 12381/50000 [00:09<00:43, 868.21it/s]"
          ]
        },
        {
          "output_type": "stream",
          "name": "stdout",
          "text": [
            "Best training accuracy 0.708\n"
          ]
        },
        {
          "output_type": "stream",
          "name": "stderr",
          "text": [
            " 36%|███▋      | 18190/50000 [00:14<00:22, 1424.47it/s]"
          ]
        },
        {
          "output_type": "stream",
          "name": "stdout",
          "text": [
            "Best training accuracy 0.825\n"
          ]
        },
        {
          "output_type": "stream",
          "name": "stderr",
          "text": [
            " 39%|███▉      | 19480/50000 [00:15<00:21, 1400.90it/s]"
          ]
        },
        {
          "output_type": "stream",
          "name": "stdout",
          "text": [
            "Best training accuracy 0.867\n"
          ]
        },
        {
          "output_type": "stream",
          "name": "stderr",
          "text": [
            "100%|██████████| 50000/50000 [00:39<00:00, 1267.06it/s]\n"
          ]
        },
        {
          "output_type": "stream",
          "name": "stdout",
          "text": [
            "\n",
            "--------------------------------------------------------------\n",
            "Setting  4  :  [50000, 3, 5, 20, 50]\n"
          ]
        },
        {
          "output_type": "stream",
          "name": "stderr",
          "text": [
            "  0%|          | 44/50000 [00:00<01:54, 437.23it/s]"
          ]
        },
        {
          "output_type": "stream",
          "name": "stdout",
          "text": [
            "Best training accuracy 0.367\n"
          ]
        },
        {
          "output_type": "stream",
          "name": "stderr",
          "text": [
            "  0%|          | 174/50000 [00:00<02:07, 390.69it/s]"
          ]
        },
        {
          "output_type": "stream",
          "name": "stdout",
          "text": [
            "Best training accuracy 0.458\n",
            "Best training accuracy 0.600\n"
          ]
        },
        {
          "output_type": "stream",
          "name": "stderr",
          "text": [
            "  1%|          | 301/50000 [00:00<02:00, 413.99it/s]"
          ]
        },
        {
          "output_type": "stream",
          "name": "stdout",
          "text": [
            "Best training accuracy 0.633\n"
          ]
        },
        {
          "output_type": "stream",
          "name": "stderr",
          "text": [
            "  2%|▏         | 1114/50000 [00:02<02:21, 344.41it/s]"
          ]
        },
        {
          "output_type": "stream",
          "name": "stdout",
          "text": [
            "Best training accuracy 0.683\n"
          ]
        },
        {
          "output_type": "stream",
          "name": "stderr",
          "text": [
            "  3%|▎         | 1262/50000 [00:03<02:14, 362.02it/s]"
          ]
        },
        {
          "output_type": "stream",
          "name": "stdout",
          "text": [
            "Best training accuracy 0.692\n"
          ]
        },
        {
          "output_type": "stream",
          "name": "stderr",
          "text": [
            " 13%|█▎        | 6430/50000 [00:17<01:44, 417.93it/s]"
          ]
        },
        {
          "output_type": "stream",
          "name": "stdout",
          "text": [
            "Best training accuracy 0.750\n"
          ]
        },
        {
          "output_type": "stream",
          "name": "stderr",
          "text": [
            " 58%|█████▊    | 28966/50000 [01:18<00:50, 418.31it/s]"
          ]
        },
        {
          "output_type": "stream",
          "name": "stdout",
          "text": [
            "Best training accuracy 0.767\n"
          ]
        },
        {
          "output_type": "stream",
          "name": "stderr",
          "text": [
            "100%|██████████| 50000/50000 [02:15<00:00, 369.12it/s]\n"
          ]
        },
        {
          "output_type": "stream",
          "name": "stdout",
          "text": [
            "\n",
            "--------------------------------------------------------------\n",
            "Setting  5  :  [50000, 3, 5, 50, 80]\n"
          ]
        },
        {
          "output_type": "stream",
          "name": "stderr",
          "text": [
            "  0%|          | 26/50000 [00:00<03:16, 254.88it/s]"
          ]
        },
        {
          "output_type": "stream",
          "name": "stdout",
          "text": [
            "Best training accuracy 0.367\n",
            "Best training accuracy 0.375\n"
          ]
        },
        {
          "output_type": "stream",
          "name": "stderr",
          "text": [
            "  0%|          | 102/50000 [00:00<03:33, 233.78it/s]"
          ]
        },
        {
          "output_type": "stream",
          "name": "stdout",
          "text": [
            "Best training accuracy 0.600\n"
          ]
        },
        {
          "output_type": "stream",
          "name": "stderr",
          "text": [
            "  1%|          | 305/50000 [00:01<03:28, 238.48it/s]"
          ]
        },
        {
          "output_type": "stream",
          "name": "stdout",
          "text": [
            "Best training accuracy 0.633\n",
            "Best training accuracy 0.683\n"
          ]
        },
        {
          "output_type": "stream",
          "name": "stderr",
          "text": [
            "  1%|          | 483/50000 [00:02<03:19, 247.74it/s]"
          ]
        },
        {
          "output_type": "stream",
          "name": "stdout",
          "text": [
            "Best training accuracy 0.692\n"
          ]
        },
        {
          "output_type": "stream",
          "name": "stderr",
          "text": [
            " 16%|█▌        | 7940/50000 [00:37<02:45, 253.63it/s]"
          ]
        },
        {
          "output_type": "stream",
          "name": "stdout",
          "text": [
            "Best training accuracy 0.817\n"
          ]
        },
        {
          "output_type": "stream",
          "name": "stderr",
          "text": [
            " 42%|████▏     | 20984/50000 [01:36<01:55, 251.73it/s]"
          ]
        },
        {
          "output_type": "stream",
          "name": "stdout",
          "text": [
            "Best training accuracy 0.825\n"
          ]
        },
        {
          "output_type": "stream",
          "name": "stderr",
          "text": [
            " 51%|█████     | 25361/50000 [01:57<01:45, 233.13it/s]"
          ]
        },
        {
          "output_type": "stream",
          "name": "stdout",
          "text": [
            "Best training accuracy 0.858\n"
          ]
        },
        {
          "output_type": "stream",
          "name": "stderr",
          "text": [
            " 70%|██████▉   | 34797/50000 [02:41<01:00, 250.33it/s]"
          ]
        },
        {
          "output_type": "stream",
          "name": "stdout",
          "text": [
            "Best training accuracy 0.867\n"
          ]
        },
        {
          "output_type": "stream",
          "name": "stderr",
          "text": [
            "100%|██████████| 50000/50000 [03:53<00:00, 214.26it/s]\n"
          ]
        },
        {
          "output_type": "stream",
          "name": "stdout",
          "text": [
            "\n",
            "--------------------------------------------------------------\n",
            "Setting  6  :  [50000, 3, 5, 80, 100]\n"
          ]
        },
        {
          "output_type": "stream",
          "name": "stderr",
          "text": [
            "  0%|          | 19/50000 [00:00<04:32, 183.13it/s]"
          ]
        },
        {
          "output_type": "stream",
          "name": "stdout",
          "text": [
            "Best training accuracy 0.367\n"
          ]
        },
        {
          "output_type": "stream",
          "name": "stderr",
          "text": [
            "  0%|          | 155/50000 [00:00<04:29, 185.08it/s]"
          ]
        },
        {
          "output_type": "stream",
          "name": "stdout",
          "text": [
            "Best training accuracy 0.658\n"
          ]
        },
        {
          "output_type": "stream",
          "name": "stderr",
          "text": [
            "  0%|          | 233/50000 [00:01<04:26, 186.50it/s]"
          ]
        },
        {
          "output_type": "stream",
          "name": "stdout",
          "text": [
            "Best training accuracy 0.667\n"
          ]
        },
        {
          "output_type": "stream",
          "name": "stderr",
          "text": [
            "  2%|▏         | 1146/50000 [00:06<04:24, 184.86it/s]"
          ]
        },
        {
          "output_type": "stream",
          "name": "stdout",
          "text": [
            "Best training accuracy 0.692\n"
          ]
        },
        {
          "output_type": "stream",
          "name": "stderr",
          "text": [
            "  4%|▍         | 2246/50000 [00:13<04:13, 188.01it/s]"
          ]
        },
        {
          "output_type": "stream",
          "name": "stdout",
          "text": [
            "Best training accuracy 0.725\n"
          ]
        },
        {
          "output_type": "stream",
          "name": "stderr",
          "text": [
            "  7%|▋         | 3722/50000 [00:21<04:12, 183.10it/s]"
          ]
        },
        {
          "output_type": "stream",
          "name": "stdout",
          "text": [
            "Best training accuracy 0.758\n"
          ]
        },
        {
          "output_type": "stream",
          "name": "stderr",
          "text": [
            " 42%|████▏     | 20808/50000 [02:05<02:39, 182.57it/s]"
          ]
        },
        {
          "output_type": "stream",
          "name": "stdout",
          "text": [
            "Best training accuracy 0.883\n"
          ]
        },
        {
          "output_type": "stream",
          "name": "stderr",
          "text": [
            "100%|██████████| 50000/50000 [05:04<00:00, 164.16it/s]"
          ]
        },
        {
          "output_type": "stream",
          "name": "stdout",
          "text": [
            "\n",
            "--------------------------------------------------------------\n",
            "\n",
            "\n",
            "Best Score :  0.95\n",
            "m_rule       :  [[[1. 0. 0.]\n",
            "  [0. 1. 0.]\n",
            "  [0. 1. 1.]\n",
            "  [0. 0. 1.]]\n",
            "\n",
            " [[0. 0. 0.]\n",
            "  [0. 1. 0.]\n",
            "  [1. 0. 0.]\n",
            "  [0. 1. 0.]]\n",
            "\n",
            " [[1. 0. 0.]\n",
            "  [1. 0. 1.]\n",
            "  [1. 1. 0.]\n",
            "  [1. 0. 0.]]\n",
            "\n",
            " [[0. 1. 0.]\n",
            "  [0. 1. 0.]\n",
            "  [0. 0. 0.]\n",
            "  [0. 0. 0.]]\n",
            "\n",
            " [[1. 0. 1.]\n",
            "  [1. 0. 1.]\n",
            "  [1. 1. 1.]\n",
            "  [1. 0. 0.]]\n",
            "\n",
            " [[0. 0. 1.]\n",
            "  [1. 1. 0.]\n",
            "  [1. 0. 1.]\n",
            "  [1. 0. 0.]]]\n",
            "m_exclusion  :  [[0. 0. 0. 1.]\n",
            " [0. 0. 0. 1.]\n",
            " [0. 0. 1. 1.]\n",
            " [0. 0. 0. 1.]\n",
            " [0. 0. 1. 0.]\n",
            " [1. 0. 1. 0.]]\n",
            "m_discriminant :  [[1.74995006e-08 2.11216178e+05 1.73140560e+04]\n",
            " [7.27717918e+05 2.20362700e-09 4.44558724e-13]\n",
            " [2.40231979e-11 2.37754131e+04 2.32427483e+06]\n",
            " [0.00000000e+00 0.00000000e+00 0.00000000e+00]\n",
            " [2.12822604e-10 3.16807559e+04 2.57301871e+06]\n",
            " [2.22754252e-10 3.19010037e+04 2.55287377e+06]]\n",
            "m_centroids :  [[0.71106114 0.59145785 0.85456631 0.90914631]\n",
            " [0.78391672 0.20097888 0.94528261 0.04453104]\n",
            " [0.88698065 0.50257757 0.76373031 0.51517994]]\n",
            "mf_radius   :  0.04154053648153744\n",
            "num_mf      :  [[0. 1. 0.]\n",
            " [1. 1. 0.]\n",
            " [0. 1. 0.]\n",
            " [1. 0. 1.]]\n",
            "num_rules   :  [[1. 1. 1.]\n",
            " [1. 0. 1.]\n",
            " [0. 1. 1.]\n",
            " [0. 1. 1.]]\n"
          ]
        },
        {
          "output_type": "stream",
          "name": "stderr",
          "text": [
            "\n"
          ]
        }
      ]
    },
    {
      "cell_type": "code",
      "source": [
        "X_fuzzy_test = fuzzify(X_test,best_rules[3],best_rules[4])\n",
        "X_fuzzy_rule_membership_test = fuzzy_rule_membership(X_fuzzy_test,best_rules[0],best_rules[1])\n",
        "\n",
        "prediction = np.dot(X_fuzzy_rule_membership_test, best_rules[2])\n",
        "prediction_label = np.argmax(prediction,axis=1)\n",
        "accuracy = np.mean(prediction_label == y_test)\n",
        "print(np.round(accuracy,3))"
      ],
      "metadata": {
        "colab": {
          "base_uri": "https://localhost:8080/"
        },
        "id": "7J_T6q2pTi7E",
        "outputId": "c673ae17-c87f-4c16-9568-2c67a5449ab0"
      },
      "execution_count": 99,
      "outputs": [
        {
          "output_type": "stream",
          "name": "stdout",
          "text": [
            "1.0\n"
          ]
        }
      ]
    },
    {
      "cell_type": "code",
      "source": [
        "print(\"Best number of fuzzy rules: {}\".format(num_rules))\n",
        "print(\"Best number of input membership functions: {}\".format(num_mf))"
      ],
      "metadata": {
        "colab": {
          "base_uri": "https://localhost:8080/"
        },
        "id": "cUqsoUXQUgL-",
        "outputId": "a42df5db-6cc6-4e7a-b18b-ae377d1244d0"
      },
      "execution_count": 100,
      "outputs": [
        {
          "output_type": "stream",
          "name": "stdout",
          "text": [
            "Best number of fuzzy rules: 10\n",
            "Best number of input membership functions: 3\n"
          ]
        }
      ]
    },
    {
      "cell_type": "code",
      "source": [
        "# now extract the fuzzy rules\n",
        "for i in range(num_rules):\n",
        "    rule = m_rule[i].transpose() * m_exclusion[i]\n",
        "    rule = rule.transpose()\n",
        "\n",
        "    if np.nanmax(rule) > 0:\n",
        "      print(\"Rule {}: \".format(i))\n",
        "\n",
        "    # print antecedents for fuzzy rule i\n",
        "    for j in range(num_feat):\n",
        "        if np.nanmax(rule[j]) == 0:\n",
        "            # if no features are selected in this fuzzy rule, then can ignore this fuzzy rule\n",
        "            pass\n",
        "        elif np.nanmin(rule[j]) == 1:\n",
        "            # the value of this feature is irrelevant, i.e. \"Don't Care\"\n",
        "            print(\"For any value of F{} \".format(j))\n",
        "            break\n",
        "        else:\n",
        "            for k in range(num_mf):\n",
        "                if rule[j,k] > 0:\n",
        "                    print(\"IF F{} is MF{} \".format(j, k))\n",
        "\n",
        "                if (k < num_mf-1):\n",
        "                    if (rule[j,k+1] > 0) and (rule[j,k] > 0):\n",
        "                        print(\"OR \")\n",
        "\n",
        "        if (j < num_feat-1):\n",
        "            if (np.nanmax(rule[j+1]) > 0) and (np.nanmax(rule[j]) > 0):\n",
        "                print(\"AND \")\n",
        "\n",
        "    # print consequence for fuzzy rule i\n",
        "    if np.nanmax(rule) > 0:\n",
        "      k = np.argmax(m_discriminant[i], axis=0)\n",
        "      print(\"THEN class is {}\".format(k))\n",
        "      print(\" \")"
      ],
      "metadata": {
        "colab": {
          "base_uri": "https://localhost:8080/"
        },
        "id": "N-nXnjIRyjpT",
        "outputId": "aa760796-c7e0-4292-b770-dec4577fdeb5"
      },
      "execution_count": 101,
      "outputs": [
        {
          "output_type": "stream",
          "name": "stdout",
          "text": [
            "Rule 0: \n",
            "IF F2 is MF1 \n",
            "OR \n",
            "IF F2 is MF2 \n",
            "THEN class is 0\n",
            " \n",
            "Rule 1: \n",
            "IF F0 is MF0 \n",
            "OR \n",
            "IF F0 is MF1 \n",
            "For any value of F2 \n",
            "THEN class is 0\n",
            " \n",
            "Rule 2: \n",
            "IF F0 is MF1 \n",
            "THEN class is 2\n",
            " \n",
            "Rule 4: \n",
            "IF F0 is MF2 \n",
            "AND \n",
            "IF F1 is MF1 \n",
            "AND \n",
            "IF F2 is MF2 \n",
            "THEN class is 0\n",
            " \n",
            "Rule 5: \n",
            "IF F0 is MF2 \n",
            "THEN class is 1\n",
            " \n",
            "Rule 6: \n",
            "For any value of F0 \n",
            "THEN class is 1\n",
            " \n",
            "Rule 8: \n",
            "IF F0 is MF0 \n",
            "IF F0 is MF2 \n",
            "THEN class is 1\n",
            " \n",
            "Rule 9: \n",
            "IF F2 is MF0 \n",
            "IF F2 is MF2 \n",
            "THEN class is 2\n",
            " \n"
          ]
        }
      ]
    }
  ],
  "metadata": {
    "colab": {
      "provenance": [],
      "authorship_tag": "ABX9TyOlpBTO2UzSSIQfQ7TnpBRr",
      "include_colab_link": true
    },
    "kernelspec": {
      "display_name": "Python 3",
      "name": "python3"
    },
    "language_info": {
      "name": "python"
    }
  },
  "nbformat": 4,
  "nbformat_minor": 0
}